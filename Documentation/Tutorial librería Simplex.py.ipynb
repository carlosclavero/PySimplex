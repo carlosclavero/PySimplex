{
 "cells": [
  {
   "cell_type": "markdown",
   "metadata": {},
   "source": [
    "# *Simplex.py*"
   ]
  },
  {
   "cell_type": "markdown",
   "metadata": {},
   "source": [
    "En el siguiente tutorial, se van a ver todos los métodos con los que cuenta la librería Simplex.py. Por supuesto, una aplicación de muchos de ellos, siguiendo una secuencia, correcta, podría dar lugar a la resolución de un problema de programación lineal. Sin embargo, obtener una solcuión desde esta perspectiva, es algo mucho más largo y complejo, siendo mucho más fácil usar el programa SimplexSolver.py.\n",
    "\n",
    "Para el uso de la librería, se ha creado una clase auxiliar llamada rational. Esta clase representa a los números racionales. Cada objeto de esa clase contará con un númerador y un denominador, de tal forma que si se quiere definir un número entero, habrá que asignarle denominador 1. La forma de definir un objeto rational es la siguiente:\n",
    "\n",
    "*** rational(3,2) *** # Esto define el número 3/2\n",
    "\n",
    "El tutorial se va a dividir en cuatro partes, las mismas en las que se divide la librería. La primera, muestra los métodos creados para realizar operaciones con racionales(muchos de ellos se utilizan simplemente para las comprobaciones de parámetros de entrada de otros métodos). La segunda parte, serán operaciones con matrices y arrays(tales como invertir una matriz), que han tenido que ser redefinidas para que puedan ser utilizadas con la clase rational. La tercera parte, son los métodos utilizados para alcanzar la solución mediante el método Simplex, y la cuarta, será la formada por aquellos métodos que permiten obtener la solución gráfica. \n",
    "\n",
    "A continuación se exponen los métodos de la librería, con explicaciones y ejemplos de cada uno de ellos.\n",
    "\n",
    "**NOTA 1:** Siempre que se hable de variables del problema, hay que considerar, que la primera variable será la 0, es decir x0.     \n",
    "**NOTA 2:** Los \"imports\" necesarios se realizan en la primera celda, para ejecutar cualquiera de las siguientes, sin errores, debe ejecutar primero la celda que contiene los \"imports\". Si realiza una ejecución en su propio entorno de programación, debe importar estas dos clases, para que los métodos se ejecuten sin errores(por favor, consulte en detalle el manual de instalación que hay en la misma localización que este manual):\n",
    "\n",
    "*** from PySimplex import Simplex  \n",
    "from PySimplex import rational   \n",
    "import numpy as np***"
   ]
  },
  {
   "cell_type": "markdown",
   "metadata": {},
   "source": [
    "## Operaciones con rational"
   ]
  },
  {
   "cell_type": "markdown",
   "metadata": {},
   "source": [
    "### *convertStringToRational*"
   ]
  },
  {
   "cell_type": "markdown",
   "metadata": {},
   "source": [
    "Este método recibe un número en un string, y devuelve el número como un rational. Si no recibe un string, devuelve None. Ejemplos:"
   ]
  },
  {
   "cell_type": "code",
   "execution_count": 1,
   "metadata": {
    "collapsed": false
   },
   "outputs": [
    {
     "name": "stdout",
     "output_type": "stream",
     "text": [
      "2\n"
     ]
    }
   ],
   "source": [
    "from PySimplex import Simplex\n",
    "from PySimplex import rational\n",
    "import numpy as np\n",
    "\n",
    "number=\"2\"\n",
    "print(Simplex.convertStringToRational(number))"
   ]
  },
  {
   "cell_type": "code",
   "execution_count": 2,
   "metadata": {
    "collapsed": false
   },
   "outputs": [
    {
     "name": "stdout",
     "output_type": "stream",
     "text": [
      "2/5\n"
     ]
    }
   ],
   "source": [
    "number=\"2/5\"\n",
    "print(Simplex.convertStringToRational(number))"
   ]
  },
  {
   "cell_type": "code",
   "execution_count": 3,
   "metadata": {
    "collapsed": false,
    "scrolled": true
   },
   "outputs": [
    {
     "name": "stdout",
     "output_type": "stream",
     "text": [
      "None\n"
     ]
    }
   ],
   "source": [
    "# Si recibe algo que no es un string, devuelve None\n",
    "number=2\n",
    "print(Simplex.convertStringToRational(number))"
   ]
  },
  {
   "cell_type": "markdown",
   "metadata": {},
   "source": [
    "------"
   ]
  },
  {
   "cell_type": "markdown",
   "metadata": {},
   "source": [
    "### *convertLineToRationalArray*"
   ]
  },
  {
   "cell_type": "markdown",
   "metadata": {},
   "source": [
    "Este método recibe un string, que contiene un conjunto de números separados por un espacio, y devuelve los números en un array de numpy con elementos rational.Si no recibe un string, devuelve None. Ejemplos:"
   ]
  },
  {
   "cell_type": "code",
   "execution_count": 4,
   "metadata": {
    "collapsed": false
   },
   "outputs": [
    {
     "name": "stdout",
     "output_type": "stream",
     "text": [
      "[3 , 4 , 5]\n"
     ]
    }
   ],
   "source": [
    "line=\"3 4 5\"\n",
    "print(Simplex.printMatrix((np.asmatrix(Simplex.convertLineToRationalArray(line)))))"
   ]
  },
  {
   "cell_type": "code",
   "execution_count": 5,
   "metadata": {
    "collapsed": false
   },
   "outputs": [
    {
     "name": "stdout",
     "output_type": "stream",
     "text": [
      "[3 , 4/5 , 5]\n"
     ]
    }
   ],
   "source": [
    "line=\"3 4/5 5\"\n",
    "print(Simplex.printMatrix((np.asmatrix(Simplex.convertLineToRationalArray(line)))))"
   ]
  },
  {
   "cell_type": "code",
   "execution_count": 6,
   "metadata": {
    "collapsed": false
   },
   "outputs": [
    {
     "name": "stdout",
     "output_type": "stream",
     "text": [
      "None\n"
     ]
    }
   ],
   "source": [
    "# Si se le pasa algo que no es un string, devuelve None\n",
    "print(Simplex.convertLineToRationalArray(4))"
   ]
  },
  {
   "cell_type": "markdown",
   "metadata": {},
   "source": [
    "------"
   ]
  },
  {
   "cell_type": "markdown",
   "metadata": {
    "collapsed": true
   },
   "source": [
    "### *rationalToFloat* "
   ]
  },
  {
   "cell_type": "markdown",
   "metadata": {
    "collapsed": true
   },
   "source": [
    "Este método recibe un objeto rational, y devuelve su valor en float. Lo que hace es realizar la división entre el númerador y el denominador. En caso de no pasar un rational como parámetro, devuelve None."
   ]
  },
  {
   "cell_type": "code",
   "execution_count": 7,
   "metadata": {
    "collapsed": false
   },
   "outputs": [
    {
     "data": {
      "text/plain": [
       "0.75"
      ]
     },
     "execution_count": 7,
     "metadata": {},
     "output_type": "execute_result"
    }
   ],
   "source": [
    "a=rational(3,4)\n",
    "Simplex.rationalToFloat(a)"
   ]
  },
  {
   "cell_type": "code",
   "execution_count": 8,
   "metadata": {
    "collapsed": false
   },
   "outputs": [
    {
     "data": {
      "text/plain": [
       "3.0"
      ]
     },
     "execution_count": 8,
     "metadata": {},
     "output_type": "execute_result"
    }
   ],
   "source": [
    "a=rational(3,1)\n",
    "Simplex.rationalToFloat(a)"
   ]
  },
  {
   "cell_type": "code",
   "execution_count": 9,
   "metadata": {
    "collapsed": false
   },
   "outputs": [
    {
     "name": "stdout",
     "output_type": "stream",
     "text": [
      "None\n"
     ]
    }
   ],
   "source": [
    "# Si no se introduce un rational, devuelve None\n",
    "a=3.0\n",
    "print(Simplex.rationalToFloat(a))"
   ]
  },
  {
   "cell_type": "markdown",
   "metadata": {},
   "source": [
    "------"
   ]
  },
  {
   "cell_type": "markdown",
   "metadata": {},
   "source": [
    "### * listPointsRationalToFloat*"
   ]
  },
  {
   "cell_type": "markdown",
   "metadata": {},
   "source": [
    "Este método recibe una lista de puntos, cuyas coordenadas son rational, y devuelve la misma lista de puntos, pero con las coordenadas en float. En caso de no introducir una lista de rational, devuelve None. Ejemplos:"
   ]
  },
  {
   "cell_type": "code",
   "execution_count": 10,
   "metadata": {
    "collapsed": false
   },
   "outputs": [
    {
     "data": {
      "text/plain": [
       "[(0.8, 0.5),\n",
       " (2.0, 3.0),\n",
       " (2.6666666666666665, 0.6),\n",
       " (3.5, 0.8),\n",
       " (0.7777777777777778, 0.4444444444444444),\n",
       " (1.125, 1.4285714285714286)]"
      ]
     },
     "execution_count": 10,
     "metadata": {},
     "output_type": "execute_result"
    }
   ],
   "source": [
    "rationalList=[(rational(4,5),rational(1,2)),(rational(4,2),rational(3,1)),(rational(8,3),rational(3,5)),(rational(7,2)\n",
    "            ,rational(4,5)),(rational(7,9),rational(4,9)),(rational(9,8),rational(10,7))]\n",
    "Simplex.listPointsRationalToFloat(rationalList)"
   ]
  },
  {
   "cell_type": "code",
   "execution_count": 11,
   "metadata": {
    "collapsed": false
   },
   "outputs": [
    {
     "name": "stdout",
     "output_type": "stream",
     "text": [
      "None\n"
     ]
    }
   ],
   "source": [
    "# Si recibe algo que no es una lista de puntos con coordenadas rational,devuelve None\n",
    "rationalList=[(4.0,5.0),(4.0,3.0),(8.0,5.0),(7.0,4.0),(7.0,9.0),(10.0,4.0)]\n",
    "print(Simplex.listPointsRationalToFloat(rationalList))"
   ]
  },
  {
   "cell_type": "markdown",
   "metadata": {},
   "source": [
    "------"
   ]
  },
  {
   "cell_type": "markdown",
   "metadata": {},
   "source": [
    "### *isAListOfRationalPoints*"
   ]
  },
  {
   "cell_type": "markdown",
   "metadata": {},
   "source": [
    "Este método recibe una lista, y devuelve True, si todos los elementos son puntos(tuplas)con coordenadas rational o False, si hay algún elemento que no es un punto cuyas coordenadas sean rational. En caso de no pasar una lista, devuelve None. Ejemplos:"
   ]
  },
  {
   "cell_type": "code",
   "execution_count": 12,
   "metadata": {
    "collapsed": false
   },
   "outputs": [
    {
     "data": {
      "text/plain": [
       "True"
      ]
     },
     "execution_count": 12,
     "metadata": {},
     "output_type": "execute_result"
    }
   ],
   "source": [
    "lis=[(rational(1,2),rational(5,7)),(rational(4,5),rational(4,6)),(rational(4,9),rational(9,8))]\n",
    "Simplex.isAListOfRationalPoints(lis)"
   ]
  },
  {
   "cell_type": "code",
   "execution_count": 13,
   "metadata": {
    "collapsed": false
   },
   "outputs": [
    {
     "data": {
      "text/plain": [
       "False"
      ]
     },
     "execution_count": 13,
     "metadata": {},
     "output_type": "execute_result"
    }
   ],
   "source": [
    "lis=[(rational(1,2),rational(5,7)),(4,rational(4,6)),(rational(4,9),rational(9,8))]\n",
    "Simplex.isAListOfRationalPoints(lis)"
   ]
  },
  {
   "cell_type": "code",
   "execution_count": 14,
   "metadata": {
    "collapsed": false
   },
   "outputs": [
    {
     "name": "stdout",
     "output_type": "stream",
     "text": [
      "None\n"
     ]
    }
   ],
   "source": [
    "# Si recibe algo que no es una lista devuelve None\n",
    "lis=np.array([(rational(1,2),rational(5,7)),(4,rational(4,6)),(rational(4,9),rational(9,8))])\n",
    "print(Simplex.isAListOfRationalPoints(lis))"
   ]
  },
  {
   "cell_type": "markdown",
   "metadata": {},
   "source": [
    "------"
   ]
  },
  {
   "cell_type": "markdown",
   "metadata": {
    "collapsed": true
   },
   "source": [
    "### *isAListOfPoints*"
   ]
  },
  {
   "cell_type": "markdown",
   "metadata": {},
   "source": [
    "Este método recibe una lista, y devuelve True, si todos los elementos son puntos(tuplas) o False, si hay algún elemento que no es un punto. En caso de no pasar una lista, devuelve None. Ejemplos:"
   ]
  },
  {
   "cell_type": "code",
   "execution_count": 15,
   "metadata": {
    "collapsed": false
   },
   "outputs": [
    {
     "data": {
      "text/plain": [
       "True"
      ]
     },
     "execution_count": 15,
     "metadata": {},
     "output_type": "execute_result"
    }
   ],
   "source": [
    "# Si todos los elementos son puntos(tuplas), devuelve True\n",
    "lis=[(3,4),(5,6),(7,8),(8,10)]\n",
    "Simplex.isAListOfPoints(lis)"
   ]
  },
  {
   "cell_type": "code",
   "execution_count": 16,
   "metadata": {
    "collapsed": false
   },
   "outputs": [
    {
     "data": {
      "text/plain": [
       "False"
      ]
     },
     "execution_count": 16,
     "metadata": {},
     "output_type": "execute_result"
    }
   ],
   "source": [
    "# Si recibe una lista cuyos elementos, no son todos puntos(tuplas), devuelve False\n",
    "lis=[3,5,6,(6,7)]\n",
    "Simplex.isAListOfPoints(lis)"
   ]
  },
  {
   "cell_type": "code",
   "execution_count": 17,
   "metadata": {
    "collapsed": false
   },
   "outputs": [
    {
     "name": "stdout",
     "output_type": "stream",
     "text": [
      "None\n"
     ]
    }
   ],
   "source": [
    "# Si recibe algo que no es una lista devuelve None\n",
    "print(Simplex.isAListOfPoints(3))"
   ]
  },
  {
   "cell_type": "markdown",
   "metadata": {},
   "source": [
    "------"
   ]
  },
  {
   "cell_type": "markdown",
   "metadata": {},
   "source": [
    "### *isARationalMatrix*"
   ]
  },
  {
   "cell_type": "markdown",
   "metadata": {},
   "source": [
    "Este método recibe una matriz de numpy o un array bidimensional de numpy, y comprueba si todos los elementos del mismo, son rational, en ese caso devuelve True. En otro caso devuelve False. Si no recibe una matriz o un array de numpy, devuelve None. Ejemplos:"
   ]
  },
  {
   "cell_type": "code",
   "execution_count": 18,
   "metadata": {
    "collapsed": false
   },
   "outputs": [
    {
     "data": {
      "text/plain": [
       "True"
      ]
     },
     "execution_count": 18,
     "metadata": {},
     "output_type": "execute_result"
    }
   ],
   "source": [
    "mat=np.matrix([[rational(1,2),rational(5,7)],[rational(5,8),rational(9,3)]])\n",
    "Simplex.isARationalMatrix(mat)"
   ]
  },
  {
   "cell_type": "code",
   "execution_count": 19,
   "metadata": {
    "collapsed": false
   },
   "outputs": [
    {
     "data": {
      "text/plain": [
       "True"
      ]
     },
     "execution_count": 19,
     "metadata": {},
     "output_type": "execute_result"
    }
   ],
   "source": [
    "mat=np.array([[rational(1,2),rational(5,7)],[rational(5,8),rational(9,3)]])\n",
    "Simplex.isARationalMatrix(mat)"
   ]
  },
  {
   "cell_type": "code",
   "execution_count": 20,
   "metadata": {
    "collapsed": false
   },
   "outputs": [
    {
     "data": {
      "text/plain": [
       "False"
      ]
     },
     "execution_count": 20,
     "metadata": {},
     "output_type": "execute_result"
    }
   ],
   "source": [
    "mat=np.matrix([[1,rational(5,7)],[rational(5,8),rational(9,3)]])\n",
    "Simplex.isARationalMatrix(mat)"
   ]
  },
  {
   "cell_type": "code",
   "execution_count": 21,
   "metadata": {
    "collapsed": false
   },
   "outputs": [
    {
     "name": "stdout",
     "output_type": "stream",
     "text": [
      "None\n"
     ]
    }
   ],
   "source": [
    "# Si recibe algo que no es una matriz o un array de numpy\n",
    "mat=[rational(1,2),rational(5,7)]\n",
    "print(Simplex.isARationalMatrix(mat))"
   ]
  },
  {
   "cell_type": "markdown",
   "metadata": {},
   "source": [
    "------"
   ]
  },
  {
   "cell_type": "markdown",
   "metadata": {},
   "source": [
    "### *isARationalArray*"
   ]
  },
  {
   "cell_type": "markdown",
   "metadata": {},
   "source": [
    "Este método recibe un array de numpy, y comprueba si todos los elementos del mismo, son rational, en ese caso devuelve True. En otro caso devuelve False. Si no recibe una matriz o un array de numpy, devuelve None. Ejemplos:"
   ]
  },
  {
   "cell_type": "code",
   "execution_count": 22,
   "metadata": {
    "collapsed": false
   },
   "outputs": [
    {
     "data": {
      "text/plain": [
       "True"
      ]
     },
     "execution_count": 22,
     "metadata": {},
     "output_type": "execute_result"
    }
   ],
   "source": [
    "arr=np.array([rational(1,2),rational(5,7),rational(4,5)])\n",
    "Simplex.isARationalArray(arr)"
   ]
  },
  {
   "cell_type": "code",
   "execution_count": 23,
   "metadata": {
    "collapsed": false
   },
   "outputs": [
    {
     "data": {
      "text/plain": [
       "False"
      ]
     },
     "execution_count": 23,
     "metadata": {},
     "output_type": "execute_result"
    }
   ],
   "source": [
    "arr=np.array([rational(1,2),6,rational(4,5)])\n",
    "Simplex.isARationalArray(arr)"
   ]
  },
  {
   "cell_type": "code",
   "execution_count": 24,
   "metadata": {
    "collapsed": false
   },
   "outputs": [
    {
     "name": "stdout",
     "output_type": "stream",
     "text": [
      "None\n"
     ]
    }
   ],
   "source": [
    "# Si recibe algo que no es una matriz o un array de numpy\n",
    "arr=[rational(1,2),rational(5,7),rational(4,5)]\n",
    "print(Simplex.isARationalArray(arr))"
   ]
  },
  {
   "cell_type": "markdown",
   "metadata": {},
   "source": [
    "------"
   ]
  },
  {
   "cell_type": "markdown",
   "metadata": {},
   "source": [
    "## Operaciones con matrices "
   ]
  },
  {
   "cell_type": "markdown",
   "metadata": {},
   "source": [
    "### *determinant*"
   ]
  },
  {
   "cell_type": "markdown",
   "metadata": {},
   "source": [
    "Este método recibe una matriz de numpy, con componentes rational, y devuelve el determinante de la matriz. La matriz debe ser cuadrada. Si se introduce algo que no es una matriz cuadrada de numpy, con elementos rational, devuelve None. También admite un array de numpy bidimensional.Ejemplos:"
   ]
  },
  {
   "cell_type": "code",
   "execution_count": 25,
   "metadata": {
    "collapsed": false
   },
   "outputs": [
    {
     "name": "stdout",
     "output_type": "stream",
     "text": [
      "-1/63\n"
     ]
    }
   ],
   "source": [
    "matrix=np.matrix([[rational(4,7),rational(8,9)],[rational(2,4),rational(3,4)]])\n",
    "det=Simplex.determinant(matrix)\n",
    "print(det)"
   ]
  },
  {
   "cell_type": "code",
   "execution_count": 26,
   "metadata": {
    "collapsed": false
   },
   "outputs": [
    {
     "name": "stdout",
     "output_type": "stream",
     "text": [
      "None\n"
     ]
    }
   ],
   "source": [
    "# Si la matriz no es cuadrada, devuelve None\n",
    "matrix=np.matrix([[rational(4,7),rational(8,9)],[rational(2,4),rational(3,4)],[rational(5,4),rational(3,9)]])\n",
    "print(Simplex.determinant(matrix))"
   ]
  },
  {
   "cell_type": "code",
   "execution_count": 27,
   "metadata": {
    "collapsed": false
   },
   "outputs": [
    {
     "name": "stdout",
     "output_type": "stream",
     "text": [
      "-1/63\n"
     ]
    }
   ],
   "source": [
    "# También admite un array de numpy bidimensional\n",
    "matrix=np.array([[rational(4,7),rational(8,9)],[rational(2,4),rational(3,4)]])\n",
    "print(Simplex.determinant(matrix))"
   ]
  },
  {
   "cell_type": "code",
   "execution_count": 28,
   "metadata": {
    "collapsed": false
   },
   "outputs": [
    {
     "name": "stdout",
     "output_type": "stream",
     "text": [
      "None\n"
     ]
    }
   ],
   "source": [
    "# Si recibe algo que no es una matriz cuadrada de numpy, con elementos rational, devuelve None\n",
    "print(Simplex.determinant(3))"
   ]
  },
  {
   "cell_type": "markdown",
   "metadata": {},
   "source": [
    "------"
   ]
  },
  {
   "cell_type": "markdown",
   "metadata": {},
   "source": [
    "### *coFactorMatrix*"
   ]
  },
  {
   "cell_type": "markdown",
   "metadata": {},
   "source": [
    "Este método recibe una matriz de numpy, con componentes rational, y devuelve la matriz de cofactores. La matriz debe ser cuadrada. Si se introduce algo que no es una matriz cuadrada de numpy, con elementos rational, devuelve None. Ejemplos:"
   ]
  },
  {
   "cell_type": "code",
   "execution_count": 29,
   "metadata": {
    "collapsed": false
   },
   "outputs": [
    {
     "name": "stdout",
     "output_type": "stream",
     "text": [
      "[3/4 , -1/2\n",
      "-8/9 , 4/7]\n"
     ]
    }
   ],
   "source": [
    "matrix=np.matrix([[rational(4,7),rational(8,9)],[rational(2,4),rational(3,4)]])\n",
    "m=Simplex.coFactorMatrix(matrix)\n",
    "print(Simplex.printMatrix(m))"
   ]
  },
  {
   "cell_type": "code",
   "execution_count": 30,
   "metadata": {
    "collapsed": false
   },
   "outputs": [
    {
     "name": "stdout",
     "output_type": "stream",
     "text": [
      "None\n"
     ]
    }
   ],
   "source": [
    "# Si la matriz no es cuadrada, devuelve None\n",
    "matrix=np.matrix([[rational(4,7),rational(8,9)],[rational(2,4),rational(3,4)],[rational(5,4),rational(3,9)]])\n",
    "print(Simplex.coFactorMatrix(matrix))"
   ]
  },
  {
   "cell_type": "code",
   "execution_count": 31,
   "metadata": {
    "collapsed": false
   },
   "outputs": [
    {
     "name": "stdout",
     "output_type": "stream",
     "text": [
      "None\n"
     ]
    }
   ],
   "source": [
    "# Si recibe algo que no es una matriz cuadrada de numpy, con elementos rational, devuelve None\n",
    "matrix=np.array([[rational(4,7),rational(8,9)],[rational(2,4),rational(3,4)]])\n",
    "print(Simplex.coFactorMatrix(matrix))"
   ]
  },
  {
   "cell_type": "markdown",
   "metadata": {},
   "source": [
    "------"
   ]
  },
  {
   "cell_type": "markdown",
   "metadata": {},
   "source": [
    "### *adjMatrix*"
   ]
  },
  {
   "cell_type": "markdown",
   "metadata": {},
   "source": [
    "Este método recibe una matriz de numpy, con componentes rational, y devuelve la matriz de adjuntos. La matriz debe ser cuadrada. Si se introduce algo que no es una matriz cuadrada de numpy, con elementos rational, devuelve None. Ejemplos:"
   ]
  },
  {
   "cell_type": "code",
   "execution_count": 32,
   "metadata": {
    "collapsed": false
   },
   "outputs": [
    {
     "name": "stdout",
     "output_type": "stream",
     "text": [
      "[3/4 , -8/9\n",
      "-1/2 , 4/7]\n"
     ]
    }
   ],
   "source": [
    "matrix=np.matrix([[rational(4,7),rational(8,9)],[rational(2,4),rational(3,4)]])\n",
    "m=Simplex.adjMatrix(matrix)\n",
    "print(Simplex.printMatrix(m))"
   ]
  },
  {
   "cell_type": "code",
   "execution_count": 33,
   "metadata": {
    "collapsed": false
   },
   "outputs": [
    {
     "name": "stdout",
     "output_type": "stream",
     "text": [
      "None\n"
     ]
    }
   ],
   "source": [
    "# Si la matriz no es cuadrada, devuelve None\n",
    "matrix=np.matrix([[rational(4,7),rational(8,9)],[rational(2,4),rational(3,4)],[rational(5,4),rational(3,9)]])\n",
    "print(Simplex.adjMatrix(matrix))"
   ]
  },
  {
   "cell_type": "code",
   "execution_count": 34,
   "metadata": {
    "collapsed": false
   },
   "outputs": [
    {
     "name": "stdout",
     "output_type": "stream",
     "text": [
      "None\n"
     ]
    }
   ],
   "source": [
    "# Si recibe algo que no es una matriz cuadrada de numpy, con elementos rational, devuelve None\n",
    "matrix=np.array([[rational(4,7),rational(8,9)],[rational(2,4),rational(3,4)]])\n",
    "print(Simplex.invertMatrix(matrix))"
   ]
  },
  {
   "cell_type": "markdown",
   "metadata": {},
   "source": [
    "------"
   ]
  },
  {
   "cell_type": "markdown",
   "metadata": {},
   "source": [
    "### *invertMatrix*"
   ]
  },
  {
   "cell_type": "markdown",
   "metadata": {},
   "source": [
    "Este método recibe una matriz de numpy, con componentes rational, y devuelve la matriz inversa. La matriz debe ser cuadrada. Si se introduce algo que no es una matriz cuadrada de numpy, con elementos rational, devuelve None. Ejemplos:"
   ]
  },
  {
   "cell_type": "code",
   "execution_count": 35,
   "metadata": {
    "collapsed": false
   },
   "outputs": [
    {
     "name": "stdout",
     "output_type": "stream",
     "text": [
      "[189/-4 , 56\n",
      "63/2 , 36/-1]\n"
     ]
    }
   ],
   "source": [
    "matrix=np.matrix([[rational(4,7),rational(8,9)],[rational(2,4),rational(3,4)]])\n",
    "m=Simplex.invertMatrix(matrix)\n",
    "print(Simplex.printMatrix(m))"
   ]
  },
  {
   "cell_type": "code",
   "execution_count": 36,
   "metadata": {
    "collapsed": false
   },
   "outputs": [
    {
     "name": "stdout",
     "output_type": "stream",
     "text": [
      "None\n"
     ]
    }
   ],
   "source": [
    "# Si la matriz no es cuadrada, devuelve None\n",
    "matrix=np.matrix([[rational(4,7),rational(8,9)],[rational(2,4),rational(3,4)],[rational(5,4),rational(3,9)]])\n",
    "print(Simplex.invertMatrix(matrix))"
   ]
  },
  {
   "cell_type": "code",
   "execution_count": 37,
   "metadata": {
    "collapsed": false
   },
   "outputs": [
    {
     "name": "stdout",
     "output_type": "stream",
     "text": [
      "None\n"
     ]
    }
   ],
   "source": [
    "# Si recibe algo que no es una matriz cuadrada de numpy, con elementos rational, devuelve None\n",
    "matrix=np.array([[rational(4,7),rational(8,9)],[rational(2,4),rational(3,4)]])\n",
    "print(Simplex.invertMatrix(matrix))"
   ]
  },
  {
   "cell_type": "markdown",
   "metadata": {},
   "source": [
    "------"
   ]
  },
  {
   "cell_type": "markdown",
   "metadata": {},
   "source": [
    "### *initializeMatrix*"
   ]
  },
  {
   "cell_type": "markdown",
   "metadata": {},
   "source": [
    "Este método recibe unas dimensiones y devuelve una matriz de numpy, con elementos rational,de valor 0. Si los valores introducidos no son enteros, devuelve None. Ejemplos: "
   ]
  },
  {
   "cell_type": "code",
   "execution_count": 38,
   "metadata": {
    "collapsed": false
   },
   "outputs": [
    {
     "name": "stdout",
     "output_type": "stream",
     "text": [
      "[0 , 0\n",
      "0 , 0\n",
      "0 , 0]\n"
     ]
    }
   ],
   "source": [
    "m=Simplex.initializeMatrix(3, 2)\n",
    "print(Simplex.printMatrix(m))"
   ]
  },
  {
   "cell_type": "code",
   "execution_count": 39,
   "metadata": {
    "collapsed": false
   },
   "outputs": [
    {
     "name": "stdout",
     "output_type": "stream",
     "text": [
      "None\n"
     ]
    }
   ],
   "source": [
    "# Si se introduce algo que no son enteros, devuelve None\n",
    "print(Simplex.initializeMatrix(4.0,3.0))"
   ]
  },
  {
   "cell_type": "markdown",
   "metadata": {},
   "source": [
    "------"
   ]
  },
  {
   "cell_type": "markdown",
   "metadata": {},
   "source": [
    "### *createRationalIdentityMatrix*"
   ]
  },
  {
   "cell_type": "markdown",
   "metadata": {},
   "source": [
    "Este método recibe un número y devuelve una matriz identidad de numpy, con elementos rational. Si el valor introducido no es entero, devuelve None. Ejemplos: "
   ]
  },
  {
   "cell_type": "code",
   "execution_count": 40,
   "metadata": {
    "collapsed": false
   },
   "outputs": [
    {
     "name": "stdout",
     "output_type": "stream",
     "text": [
      "[1 , 0 , 0\n",
      "0 , 1 , 0\n",
      "0 , 0 , 1]\n"
     ]
    }
   ],
   "source": [
    "m=Simplex.createRationalIdentityMatrix(3)\n",
    "print(Simplex.printMatrix(m))"
   ]
  },
  {
   "cell_type": "code",
   "execution_count": 41,
   "metadata": {
    "collapsed": false
   },
   "outputs": [
    {
     "name": "stdout",
     "output_type": "stream",
     "text": [
      "None\n"
     ]
    }
   ],
   "source": [
    "# Si se introduce algo que es un entero, devuelve None\n",
    "print(Simplex.createRationalIdentityMatrix(4.0))"
   ]
  },
  {
   "cell_type": "markdown",
   "metadata": {},
   "source": [
    "------"
   ]
  },
  {
   "cell_type": "markdown",
   "metadata": {},
   "source": [
    "### *multNumMatrix*"
   ]
  },
  {
   "cell_type": "markdown",
   "metadata": {},
   "source": [
    "Este método recibe un número en forma rational y una matriz de numpy, con componentes rational, y devuelve la matriz del producto del número por  la matriz introducida.Si se introduce algo que no es un rational como número o una matriz de numpy, con elementos rational,como matriz, devuelve None. Ejemplos:"
   ]
  },
  {
   "cell_type": "code",
   "execution_count": 42,
   "metadata": {
    "collapsed": false
   },
   "outputs": [
    {
     "name": "stdout",
     "output_type": "stream",
     "text": [
      "[3/7 , 2/3\n",
      "3/8 , 9/16\n",
      "1/2 , 27/4]\n"
     ]
    }
   ],
   "source": [
    "matrix=np.matrix([[rational(4,7),rational(8,9)],[rational(2,4),rational(3,4)],[rational(4,6),rational(9,1)]])\n",
    "num= rational(3,4)\n",
    "m = Simplex.multNumMatrix(num, matrix)\n",
    "print(Simplex.printMatrix(m))"
   ]
  },
  {
   "cell_type": "code",
   "execution_count": 43,
   "metadata": {
    "collapsed": false
   },
   "outputs": [
    {
     "name": "stdout",
     "output_type": "stream",
     "text": [
      "None\n"
     ]
    }
   ],
   "source": [
    "# Si recibe algo que no es una matriz de numpy, con elementos rational, devuelve None\n",
    "num = 4\n",
    "print(Simplex.multNumMatrix(num, matrix))"
   ]
  },
  {
   "cell_type": "markdown",
   "metadata": {},
   "source": [
    "------"
   ]
  },
  {
   "cell_type": "markdown",
   "metadata": {},
   "source": [
    "### *twoMatrixEqual*"
   ]
  },
  {
   "cell_type": "markdown",
   "metadata": {},
   "source": [
    "Este método recibe dos matrices de numpy, con componentes rational, y devuelve True,si son iguales, o False, si no lo son. Si se introduce algo que no es una matriz de numpy, con elementos rational, devuelve None. Ejemplos:"
   ]
  },
  {
   "cell_type": "code",
   "execution_count": 44,
   "metadata": {
    "collapsed": false
   },
   "outputs": [
    {
     "data": {
      "text/plain": [
       "True"
      ]
     },
     "execution_count": 44,
     "metadata": {},
     "output_type": "execute_result"
    }
   ],
   "source": [
    "matrix1=np.matrix([[rational(4,7),rational(8,9)],[rational(2,4),rational(3,4)],[rational(4,6),rational(9,1)]])\n",
    "matrix2=np.matrix([[rational(4,7),rational(8,9)],[rational(2,4),rational(3,4)],[rational(4,6),rational(9,1)]])\n",
    "Simplex.twoMatrixEqual(matrix1, matrix2)"
   ]
  },
  {
   "cell_type": "code",
   "execution_count": 45,
   "metadata": {
    "collapsed": false
   },
   "outputs": [
    {
     "data": {
      "text/plain": [
       "False"
      ]
     },
     "execution_count": 45,
     "metadata": {},
     "output_type": "execute_result"
    }
   ],
   "source": [
    "matrix1=np.matrix([[rational(4,7),rational(8,9)],[rational(2,4),rational(3,4)],[rational(4,6),rational(9,1)]])\n",
    "matrix2=np.matrix([[rational(4,7),rational(8,9)],[rational(2,4),rational(3,4)],[rational(9,6),rational(6,1)]])\n",
    "Simplex.twoMatrixEqual(matrix1, matrix2)"
   ]
  },
  {
   "cell_type": "code",
   "execution_count": 46,
   "metadata": {
    "collapsed": false
   },
   "outputs": [
    {
     "data": {
      "text/plain": [
       "False"
      ]
     },
     "execution_count": 46,
     "metadata": {},
     "output_type": "execute_result"
    }
   ],
   "source": [
    "# Si las dimensiones no son iguales, devuelve False\n",
    "matrix1=np.matrix([[rational(4,7),rational(8,9)],[rational(2,4),rational(3,4)],[rational(4,6),rational(9,1)]])\n",
    "matrix2=np.matrix([[rational(4,7),rational(8,9)],[rational(2,4),rational(3,4)]])\n",
    "Simplex.twoMatrixEqual(matrix1, matrix2)"
   ]
  },
  {
   "cell_type": "code",
   "execution_count": 47,
   "metadata": {
    "collapsed": false
   },
   "outputs": [
    {
     "name": "stdout",
     "output_type": "stream",
     "text": [
      "None\n"
     ]
    }
   ],
   "source": [
    "# Si recibe algo que no es una matriz de numpy, con elementos rational, devuelve None\n",
    "print(Simplex.twoMatrixEqual(matrix1, 3))"
   ]
  },
  {
   "cell_type": "markdown",
   "metadata": {},
   "source": [
    "------"
   ]
  },
  {
   "cell_type": "markdown",
   "metadata": {},
   "source": [
    "### *printMatrix*"
   ]
  },
  {
   "cell_type": "markdown",
   "metadata": {},
   "source": [
    "Este método recibe una matriz de numpy, con componentes rational, y la pasa a formato string.Si se introduce algo que no es una matriz de numpy, con elementos rational, devuelve None. También admite un array de numpy bidimensional. Ejemplos:"
   ]
  },
  {
   "cell_type": "code",
   "execution_count": 48,
   "metadata": {
    "collapsed": false
   },
   "outputs": [
    {
     "name": "stdout",
     "output_type": "stream",
     "text": [
      "[4/7 , 8/9\n",
      "2/4 , 3/4\n",
      "9/6 , 6]\n"
     ]
    }
   ],
   "source": [
    "matrix2=np.matrix([[rational(4,7),rational(8,9)],[rational(2,4),rational(3,4)],[rational(9,6),rational(6,1)]])\n",
    "print(Simplex.printMatrix(matrix2))"
   ]
  },
  {
   "cell_type": "code",
   "execution_count": 49,
   "metadata": {
    "collapsed": false
   },
   "outputs": [
    {
     "name": "stdout",
     "output_type": "stream",
     "text": [
      "[4/7 , 8/9\n",
      "2/4 , 3/4\n",
      "9/6 , 6]\n"
     ]
    }
   ],
   "source": [
    "# También admite un array de numpy bidimensional\n",
    "matrix2=np.array([[rational(4,7),rational(8,9)],[rational(2,4),rational(3,4)],[rational(9,6),rational(6,1)]])\n",
    "print(Simplex.printMatrix(matrix2))"
   ]
  },
  {
   "cell_type": "code",
   "execution_count": 50,
   "metadata": {
    "collapsed": false
   },
   "outputs": [
    {
     "name": "stdout",
     "output_type": "stream",
     "text": [
      "[4/7 , 8/9\n",
      "2/4 , 3/4\n",
      "9/6 , 6]\n"
     ]
    }
   ],
   "source": [
    "# Si recibe algo que no es una matriz de numpy o un array bidimensional, con elementos rational, devuelve None\n",
    "print(Simplex.printMatrix(matrix2))"
   ]
  },
  {
   "cell_type": "markdown",
   "metadata": {},
   "source": [
    "------"
   ]
  },
  {
   "cell_type": "markdown",
   "metadata": {},
   "source": [
    "### *multMatrix*"
   ]
  },
  {
   "cell_type": "markdown",
   "metadata": {},
   "source": [
    "Este método recibe dos matrices de numpy, con componentes rational, y devuelve la matriz resultado del producto de las dos matrices introducidas. Si el número de columnas de la primera matriz, y el número de filas de la segunda, no son iguales, las matrices no se pueden multiplicar y devuelve None. Si se introduce algo que no es una matriz de numpy, con elementos rational, devuelve None. Ejemplos:"
   ]
  },
  {
   "cell_type": "code",
   "execution_count": 51,
   "metadata": {
    "collapsed": false
   },
   "outputs": [
    {
     "name": "stdout",
     "output_type": "stream",
     "text": [
      "[2288/2205 , 1504/315\n",
      "1339/840 , 9797/720]\n"
     ]
    }
   ],
   "source": [
    "matrix1=np.matrix([[rational(4,7),rational(8,9),rational(2,5)],[rational(2,4),rational(3,4),rational(7,5)]])\n",
    "matrix2=np.matrix([[rational(4,7),rational(8,9)],[rational(2,4),rational(3,4)],[rational(4,6),rational(9,1)]])\n",
    "m=Simplex.multMatrix(matrix1, matrix2)\n",
    "print(Simplex.printMatrix(m))"
   ]
  },
  {
   "cell_type": "code",
   "execution_count": 52,
   "metadata": {
    "collapsed": false
   },
   "outputs": [
    {
     "name": "stdout",
     "output_type": "stream",
     "text": [
      "None\n"
     ]
    }
   ],
   "source": [
    "# Si el número de columnas de la primera matriz, y el número de filas de la segunda, no son iguales, devuelve None\n",
    "matrix1=np.matrix([[rational(4,7),rational(8,9)],[rational(2,4),rational(3,4)]])\n",
    "matrix2=np.matrix([[rational(4,7),rational(8,9)],[rational(2,4),rational(3,4)],[rational(4,6),rational(9,1)]])\n",
    "print(Simplex.multMatrix(matrix1, matrix2))"
   ]
  },
  {
   "cell_type": "code",
   "execution_count": 53,
   "metadata": {
    "collapsed": false
   },
   "outputs": [
    {
     "name": "stdout",
     "output_type": "stream",
     "text": [
      "None\n"
     ]
    }
   ],
   "source": [
    "# Si recibe algo que no es una matriz de numpy, con elementos rational, devuelve None\n",
    "matrix1=np.array([[rational(4,7),rational(8,9)],[rational(2,4),rational(3,4)]])\n",
    "matrix2=np.array([[rational(4,7),rational(8,9)],[rational(2,4),rational(3,4)],[rational(4,6),rational(9,1)]])\n",
    "print(Simplex.multMatrix(matrix1, matrix2))"
   ]
  },
  {
   "cell_type": "markdown",
   "metadata": {},
   "source": [
    "------"
   ]
  },
  {
   "cell_type": "markdown",
   "metadata": {
    "collapsed": true
   },
   "source": [
    "## Método Simplex"
   ]
  },
  {
   "cell_type": "markdown",
   "metadata": {},
   "source": [
    "### *variablesNoiteration*"
   ]
  },
  {
   "cell_type": "markdown",
   "metadata": {},
   "source": [
    "Este método se utiliza para calcular las variables que no están en la iteración. Recibe como parámetro, una matrix numpy, que contiene las restricciones del problema y un array numpy, que contiene las variables que ya están en la iteración(estas variables no tienen porqué aparecer ordenadas en el array). El método funciona, con matrices de tipo entero, de tipo float y de tipo rational. En caso de que los parámetros introducidos no sean correctos, devolverá None. Si todo es correcto, devolverá array numpy, con las variables que no están en la iteración. Ejemplos:"
   ]
  },
  {
   "cell_type": "code",
   "execution_count": 54,
   "metadata": {
    "collapsed": false
   },
   "outputs": [
    {
     "data": {
      "text/plain": [
       "array([ 0.,  2.])"
      ]
     },
     "execution_count": 54,
     "metadata": {},
     "output_type": "execute_result"
    }
   ],
   "source": [
    "matrix=np.matrix([[1,3,4,4,5],[12,45,67,78,9],[3,4,3,5,6]])\n",
    "variablesIteration=np.array([1,3,4])\n",
    "Simplex.variablesNoiteration(matrix,variablesIteration)"
   ]
  },
  {
   "cell_type": "code",
   "execution_count": 55,
   "metadata": {
    "collapsed": false
   },
   "outputs": [
    {
     "data": {
      "text/plain": [
       "array([ 0.,  2.])"
      ]
     },
     "execution_count": 55,
     "metadata": {},
     "output_type": "execute_result"
    }
   ],
   "source": [
    "variablesIteration=np.array([3,4,1])\n",
    "Simplex.variablesNoiteration(matrix,variablesIteration)"
   ]
  },
  {
   "cell_type": "code",
   "execution_count": 56,
   "metadata": {
    "collapsed": false
   },
   "outputs": [
    {
     "data": {
      "text/plain": [
       "array([ 0.,  2.])"
      ]
     },
     "execution_count": 56,
     "metadata": {},
     "output_type": "execute_result"
    }
   ],
   "source": [
    "# EL método funciona con matrices con elementos rational\n",
    "matrix=np.matrix([[rational(6,7),rational(4,5),rational(3,1)],[rational(2,3),rational(7,6),rational(1,3)],\n",
    "                  [rational(4,1),rational(6,4),rational(9,2)]])\n",
    "variablesIteration=np.array([3,4,1])\n",
    "Simplex.variablesNoiteration(matrix,variablesIteration)"
   ]
  },
  {
   "cell_type": "code",
   "execution_count": 57,
   "metadata": {
    "collapsed": false
   },
   "outputs": [
    {
     "name": "stdout",
     "output_type": "stream",
     "text": [
      "None\n"
     ]
    }
   ],
   "source": [
    "#Si le introduzco algo que no sea una matriz de numpy en el primer parámetro o algo que no sea un array de numpy en el segundo,me\n",
    "#devuelve None\n",
    "print(Simplex.variablesNoiteration(3,variablesIteration))"
   ]
  },
  {
   "cell_type": "markdown",
   "metadata": {},
   "source": [
    "------"
   ]
  },
  {
   "cell_type": "markdown",
   "metadata": {},
   "source": [
    "### *calcMinNoNan*"
   ]
  },
  {
   "cell_type": "markdown",
   "metadata": {},
   "source": [
    "Este método se utiliza para calcular cuál es el mínimo valor, de un conjunto de valores. Recibe un array de numpy, con los valores. El método selecciona aquellos valores que sean rational, y calcula el mínimo. En caso de que los parámetros introducidos no sean correctos, devolverá None. Si todo es correcto, devolverá el mínimo valor no negativo o None, en caso de que no haya valores rational. Ejemplos:"
   ]
  },
  {
   "cell_type": "code",
   "execution_count": 58,
   "metadata": {
    "collapsed": false
   },
   "outputs": [
    {
     "name": "stdout",
     "output_type": "stream",
     "text": [
      "1/4\n"
     ]
    }
   ],
   "source": [
    "setOfVal=np.array([rational(1,4),rational(4,7),rational(6,8),rational(6,4)])\n",
    "print(Simplex.calcMinNoNan(setOfVal))"
   ]
  },
  {
   "cell_type": "code",
   "execution_count": 59,
   "metadata": {
    "collapsed": false
   },
   "outputs": [
    {
     "name": "stdout",
     "output_type": "stream",
     "text": [
      "4/7\n"
     ]
    }
   ],
   "source": [
    "setOfVal=np.array([np.nan,rational(4,7),rational(6,8),rational(6,4)])\n",
    "print(Simplex.calcMinNoNan(setOfVal))"
   ]
  },
  {
   "cell_type": "code",
   "execution_count": 60,
   "metadata": {
    "collapsed": false
   },
   "outputs": [
    {
     "name": "stdout",
     "output_type": "stream",
     "text": [
      "None\n"
     ]
    }
   ],
   "source": [
    "#Si le paso un conjunto de valores, TODOS no rational, devuelve None\n",
    "setOfVal=np.array([np.nan,np.nan,np.nan,np.nan])\n",
    "print(Simplex.calcMinNoNan(setOfVal))"
   ]
  },
  {
   "cell_type": "code",
   "execution_count": 61,
   "metadata": {
    "collapsed": false
   },
   "outputs": [
    {
     "name": "stdout",
     "output_type": "stream",
     "text": [
      "None\n"
     ]
    }
   ],
   "source": [
    "#Si le algo que no es array numpy, devuelve None\n",
    "print(Simplex.calcMinNoNan(2))"
   ]
  },
  {
   "cell_type": "markdown",
   "metadata": {},
   "source": [
    "------"
   ]
  },
  {
   "cell_type": "markdown",
   "metadata": {},
   "source": [
    "### *calculateIndex*"
   ]
  },
  {
   "cell_type": "markdown",
   "metadata": {},
   "source": [
    "Este método recibe un array de numpy, y un valor, y devuelve la posición dentro del array donde se encuentra la primera ocurrencia de dicho valor. En caso de que dicho valor no aparezca en el array, se devolverá None. El método funciona con conjuntos de números enteros y con conjuntos de rational. En caso de que los parámetros introducidos no sean correctos, devolverá None.Ejemplos:"
   ]
  },
  {
   "cell_type": "code",
   "execution_count": 62,
   "metadata": {
    "collapsed": false
   },
   "outputs": [
    {
     "data": {
      "text/plain": [
       "0"
      ]
     },
     "execution_count": 62,
     "metadata": {},
     "output_type": "execute_result"
    }
   ],
   "source": [
    "array=np.array([3,4,5,6,7,2,3,6])\n",
    "value= 3\n",
    "Simplex.calculateIndex(array,value)"
   ]
  },
  {
   "cell_type": "code",
   "execution_count": 63,
   "metadata": {
    "collapsed": false
   },
   "outputs": [
    {
     "name": "stdout",
     "output_type": "stream",
     "text": [
      "None\n"
     ]
    }
   ],
   "source": [
    "#Si introduzco un valor que no está en el array, devuelve None\n",
    "value=78\n",
    "print(Simplex.calculateIndex(array,value))"
   ]
  },
  {
   "cell_type": "code",
   "execution_count": 64,
   "metadata": {
    "collapsed": false
   },
   "outputs": [
    {
     "data": {
      "text/plain": [
       "1"
      ]
     },
     "execution_count": 64,
     "metadata": {},
     "output_type": "execute_result"
    }
   ],
   "source": [
    "# El método funciona también con rational\n",
    "value=rational(4,7)\n",
    "array=np.array([rational(1,4),rational(4,7),rational(6,8),rational(6,4)])\n",
    "Simplex.calculateIndex(array,value)"
   ]
  },
  {
   "cell_type": "code",
   "execution_count": 65,
   "metadata": {
    "collapsed": false
   },
   "outputs": [
    {
     "name": "stdout",
     "output_type": "stream",
     "text": [
      "None\n"
     ]
    }
   ],
   "source": [
    "#Si introduzco algo que no es un array en el primer parámetro o algo que no es un número en el segundo, devuelve None\n",
    "print(Simplex.calculateIndex(4,value))"
   ]
  },
  {
   "cell_type": "markdown",
   "metadata": {},
   "source": [
    "------"
   ]
  },
  {
   "cell_type": "markdown",
   "metadata": {},
   "source": [
    "### *calculateBaseIteration*"
   ]
  },
  {
   "cell_type": "markdown",
   "metadata": {},
   "source": [
    "Este método calcula la base de la iteración, y la devuelve en una matriz numpy. Para ello, recibe la matriz que contiene todas las restricciones del problema(sin signo ni recursos), y las columnas que forman parte de la iteración(no tienen porqué aparecer ordenadas en el array). La matriz, puede ser de valores enteros o rational. En caso de que los parámetros introducidos no sean correctos, devolverá None. Ejemplos:"
   ]
  },
  {
   "cell_type": "code",
   "execution_count": 66,
   "metadata": {
    "collapsed": false
   },
   "outputs": [
    {
     "data": {
      "text/plain": [
       "matrix([[2, 3, 1],\n",
       "        [6, 7, 2],\n",
       "        [3, 4, 6]])"
      ]
     },
     "execution_count": 66,
     "metadata": {},
     "output_type": "execute_result"
    }
   ],
   "source": [
    "totalMatrix=np.matrix([[1,2,3,4,5],[2,6,7,8,9],[6,3,4,5,6]])\n",
    "columnsOfIteration=np.array([1,2,0])\n",
    "Simplex.calculateBaseIteration(totalMatrix,columnsOfIteration)"
   ]
  },
  {
   "cell_type": "code",
   "execution_count": 67,
   "metadata": {
    "collapsed": false
   },
   "outputs": [
    {
     "name": "stdout",
     "output_type": "stream",
     "text": [
      "[4/5 , 3 , 6/7\n",
      "7/6 , 1/3 , 2/3\n",
      "6/4 , 9/2 , 4]\n"
     ]
    }
   ],
   "source": [
    "# El método funciona también con matrices con elementos rational\n",
    "columnsOfIteration=np.array([1,2,0])\n",
    "totalMatrix=np.matrix([[rational(6,7),rational(4,5),rational(3,1),rational(5,3),rational(2,1)],[rational(2,3),rational(7,6),\n",
    "                    rational(1,3),rational(2,5),rational(9,5)], [rational(4,1),rational(6,4),rational(9,2),rational(4,5),\n",
    "                    rational(3,1)]])\n",
    "print(Simplex.printMatrix(Simplex.calculateBaseIteration(totalMatrix,columnsOfIteration)))  \n"
   ]
  },
  {
   "cell_type": "code",
   "execution_count": 68,
   "metadata": {
    "collapsed": false
   },
   "outputs": [
    {
     "name": "stdout",
     "output_type": "stream",
     "text": [
      "None\n"
     ]
    }
   ],
   "source": [
    "# Si le paso más columnas de las que hay en la matriz total, me devolverá None\n",
    "columnsOfIteration=np.array([0,1,2,3,4,5,6])\n",
    "print(Simplex.calculateBaseIteration(totalMatrix,columnsOfIteration))"
   ]
  },
  {
   "cell_type": "code",
   "execution_count": 69,
   "metadata": {
    "collapsed": false
   },
   "outputs": [
    {
     "name": "stdout",
     "output_type": "stream",
     "text": [
      "None\n"
     ]
    }
   ],
   "source": [
    "# Si le introduzco algo que no sea una matriz de numpy en el primer parámetro o algo que no sea un array de numpy en el segundo\n",
    "# ,me devuelve None\n",
    "print(Simplex.calculateBaseIteration(4,columnsOfIteration))"
   ]
  },
  {
   "cell_type": "markdown",
   "metadata": {},
   "source": [
    "------"
   ]
  },
  {
   "cell_type": "markdown",
   "metadata": {},
   "source": [
    "### *showBase*"
   ]
  },
  {
   "cell_type": "markdown",
   "metadata": {},
   "source": [
    "Este método recibe una matriz numpy con elementos rational, que se supone que será la base de una iteración, acompañado del nombre que se le quiera asignar, y la muestra por pantalla, con el nombre que se le asigna (B), dentro de la iteración. En caso de que los parámetros introducidos no sean correctos, devolverá None. Ejemplos:"
   ]
  },
  {
   "cell_type": "code",
   "execution_count": 70,
   "metadata": {
    "collapsed": false
   },
   "outputs": [
    {
     "name": "stdout",
     "output_type": "stream",
     "text": [
      "B = [6/7 , 4/5 , 3\n",
      "2/3 , 7/6 , 1/3\n",
      "4 , 6/4 , 9/2]\n",
      "\n"
     ]
    }
   ],
   "source": [
    "base=np.matrix([[rational(6,7),rational(4,5),rational(3,1)],[rational(2,3),rational(7,6),rational(1,3)],\n",
    "                  [rational(4,1),rational(6,4),rational(9,2)]])\n",
    "Simplex.showBase(base,\"B\")"
   ]
  },
  {
   "cell_type": "code",
   "execution_count": 71,
   "metadata": {
    "collapsed": false
   },
   "outputs": [
    {
     "name": "stdout",
     "output_type": "stream",
     "text": [
      "None\n"
     ]
    }
   ],
   "source": [
    "#Si se le pasa algo que no es una matriz de numpy con elementos rational en el primer parámetro, o un string en el segundo, me \n",
    "# devuelve None\n",
    "print(Simplex.showBase(3,\"B\"))"
   ]
  },
  {
   "cell_type": "markdown",
   "metadata": {},
   "source": [
    "------"
   ]
  },
  {
   "cell_type": "markdown",
   "metadata": {},
   "source": [
    "### *calculateIterationSolution*"
   ]
  },
  {
   "cell_type": "markdown",
   "metadata": {},
   "source": [
    "Este método calcula la solución de una iteración, para las variables de la misma, y la devuelve en un array de numpy. Para ello, recibe la base de la iteración, en una matriz numpy y también recibe el vector de recursos en un array de numpy. Los elementos de la matriz y el array, deben ser rational. En caso de que los parámetros introducidos no sean correctos, devolverá None. Ejemplos:"
   ]
  },
  {
   "cell_type": "code",
   "execution_count": 72,
   "metadata": {
    "collapsed": false
   },
   "outputs": [
    {
     "name": "stdout",
     "output_type": "stream",
     "text": [
      "[2409/70\n",
      "91/4\n",
      "62]\n"
     ]
    }
   ],
   "source": [
    "base=np.matrix([[rational(6,7),rational(4,5),rational(3,1)],[rational(2,3),rational(7,6),rational(1,3)],\n",
    "                  [rational(4,1),rational(6,4),rational(9,2)]])\n",
    "\n",
    "resourcesVector=np.array([rational(2,1),rational(33,2),rational(52,8)])\n",
    "print(Simplex.printMatrix(np.asmatrix(Simplex.calculateIterationSolution(base,resourcesVector))))"
   ]
  },
  {
   "cell_type": "code",
   "execution_count": 73,
   "metadata": {
    "collapsed": false
   },
   "outputs": [
    {
     "name": "stdout",
     "output_type": "stream",
     "text": [
      "None\n"
     ]
    }
   ],
   "source": [
    "#Si le paso un vector de recursos, que tenga un longitud diferente al número de filas de la matriz, me duvuelve None\n",
    "resourcesVector=np.array([rational(2,1),rational(33,2)])\n",
    "print(Simplex.calculateIterationSolution(base,resourcesVector))"
   ]
  },
  {
   "cell_type": "code",
   "execution_count": 74,
   "metadata": {
    "collapsed": false
   },
   "outputs": [
    {
     "name": "stdout",
     "output_type": "stream",
     "text": [
      "None\n"
     ]
    }
   ],
   "source": [
    "#Si le paso algo que no es una matriz de numpy  de elementos rational en el primer parámetro o un array de numpy con elementos \n",
    "# rational en el segundo, me devuelve None\n",
    "print(Simplex.calculateIterationSolution(base,4))"
   ]
  },
  {
   "cell_type": "markdown",
   "metadata": {},
   "source": [
    "------"
   ]
  },
  {
   "cell_type": "markdown",
   "metadata": {},
   "source": [
    "### *showSolution*"
   ]
  },
  {
   "cell_type": "markdown",
   "metadata": {},
   "source": [
    "Este método recibe la solución de una iteración, y la muestra con el nombre que se le asigna en ella (\"x\"). La solución deberá ser pasada en un numpy array en forma de columna con elementos rational. En caso de que los parámetros introducidos no sean correctos, devolverá None. Ejemplos:"
   ]
  },
  {
   "cell_type": "code",
   "execution_count": 75,
   "metadata": {
    "collapsed": false
   },
   "outputs": [
    {
     "name": "stdout",
     "output_type": "stream",
     "text": [
      "x = inv(B)*b = [2/2\n",
      "5/3\n",
      "6\n",
      "7/8]\n",
      "\n"
     ]
    }
   ],
   "source": [
    "sol=np.array([[rational(2,2)],[rational(5,3)],[rational(6,1)],[rational(7,8)]])\n",
    "Simplex.showSolution(sol)"
   ]
  },
  {
   "cell_type": "code",
   "execution_count": 76,
   "metadata": {
    "collapsed": false
   },
   "outputs": [
    {
     "name": "stdout",
     "output_type": "stream",
     "text": [
      "None\n"
     ]
    }
   ],
   "source": [
    "#Si le paso algo que no es un array numpy con elementos rational, me devuelve None\n",
    "sol=np.array([[2],[5],[6],[7]])\n",
    "print(Simplex.showSolution(sol))"
   ]
  },
  {
   "cell_type": "markdown",
   "metadata": {},
   "source": [
    "------"
   ]
  },
  {
   "cell_type": "markdown",
   "metadata": {},
   "source": [
    "### *calculateCB*"
   ]
  },
  {
   "cell_type": "markdown",
   "metadata": {},
   "source": [
    "Este método calcula el valor del vector función, para una iteración. Para ello recibe en un array numpy, las columnas de la iteración, y en otro array numpy, el vector de función completo del problema. Si todo es correcto, se devuelve en un array numpy, el vector de la función para las columnas introducidas. En caso de que los parámetros introducidos no sean correctos, devolverá None. Ejemplos:"
   ]
  },
  {
   "cell_type": "code",
   "execution_count": 77,
   "metadata": {
    "collapsed": false
   },
   "outputs": [
    {
     "data": {
      "text/plain": [
       "array([ 0.,  2.,  3.])"
      ]
     },
     "execution_count": 77,
     "metadata": {},
     "output_type": "execute_result"
    }
   ],
   "source": [
    "columnsOfIteration=np.array([0,2,3])\n",
    "functionVector= np.array([0,1,2,3,5,5,6])\n",
    "Simplex.calculateCB(columnsOfIteration,functionVector)"
   ]
  },
  {
   "cell_type": "code",
   "execution_count": 78,
   "metadata": {
    "collapsed": false
   },
   "outputs": [
    {
     "name": "stdout",
     "output_type": "stream",
     "text": [
      "[0 , 5/5]\n"
     ]
    }
   ],
   "source": [
    "# El método también funciona con elementos rational\n",
    "columnsOfIteration=np.array([0,2])\n",
    "functionVector= np.array([rational(0,1),rational(2,3),rational(5,5)])\n",
    "print(Simplex.printMatrix(np.asmatrix(Simplex.calculateCB(columnsOfIteration,functionVector))))"
   ]
  },
  {
   "cell_type": "code",
   "execution_count": 79,
   "metadata": {
    "collapsed": false
   },
   "outputs": [
    {
     "name": "stdout",
     "output_type": "stream",
     "text": [
      "None\n"
     ]
    }
   ],
   "source": [
    "# Si meto más columnas de las que tiene el vector función, me devuelve None\n",
    "columnsOfIteration=np.array([0,1,2])\n",
    "functionVector= np.array([0,1])\n",
    "print(Simplex.calculateCB(columnsOfIteration,functionVector))"
   ]
  },
  {
   "cell_type": "code",
   "execution_count": 80,
   "metadata": {
    "collapsed": false,
    "scrolled": true
   },
   "outputs": [
    {
     "name": "stdout",
     "output_type": "stream",
     "text": [
      "None\n"
     ]
    }
   ],
   "source": [
    "# Si meto algo por parámetro que no es un array de numpy en cualquiera de los dos parámetros, me devuelve None\n",
    "print(Simplex.calculateCB([0,1],functionVector))"
   ]
  },
  {
   "cell_type": "markdown",
   "metadata": {},
   "source": [
    "------"
   ]
  },
  {
   "cell_type": "markdown",
   "metadata": {},
   "source": [
    "### *showCB*"
   ]
  },
  {
   "cell_type": "markdown",
   "metadata": {},
   "source": [
    "Este método, recibe un array numpy de elementos rational, que contiene el valor del vector función, y simplemente lo muestra por pantalla, con el correspondiente nombre que se le asigna(\"CB\"). En caso de que los parámetros introducidos no sean correctos, devolverá None. Ejemplos:"
   ]
  },
  {
   "cell_type": "code",
   "execution_count": 81,
   "metadata": {
    "collapsed": false
   },
   "outputs": [
    {
     "name": "stdout",
     "output_type": "stream",
     "text": [
      "CB = [0 , 2/3 , 5/5]\n",
      "\n"
     ]
    }
   ],
   "source": [
    "CBValue= np.array([rational(0,1),rational(2,3),rational(5,5)])\n",
    "Simplex.showCB(CBValue)"
   ]
  },
  {
   "cell_type": "code",
   "execution_count": 82,
   "metadata": {
    "collapsed": false
   },
   "outputs": [
    {
     "name": "stdout",
     "output_type": "stream",
     "text": [
      "None\n"
     ]
    }
   ],
   "source": [
    "#Si se le pasa algo que no es un array numpy de elementos rational, devuelve None\n",
    "CBValue= np.array([0,1,4,6])\n",
    "print(Simplex.showCB(CBValue))"
   ]
  },
  {
   "cell_type": "markdown",
   "metadata": {},
   "source": [
    "------"
   ]
  },
  {
   "cell_type": "markdown",
   "metadata": {},
   "source": [
    "### *calculateFunctionValueOfIteration*"
   ]
  },
  {
   "cell_type": "markdown",
   "metadata": {},
   "source": [
    "Este método recibe la solución de la iteración, y el vector de la función para la misma, y devuelve una matriz numpy que contiene el valor de la función para dicha iteración. Es necesario que la solución se pase como un array numpy en forma de columna(como muestra el ejemplo). El vector de la función debe ser un array de numpy, en forma de fila. Ambos arrays, deben ser de elementos rational. En caso de que los parámetros introducidos no sean correctos, devolverá None. Ejemplos:"
   ]
  },
  {
   "cell_type": "code",
   "execution_count": 83,
   "metadata": {
    "collapsed": false
   },
   "outputs": [
    {
     "name": "stdout",
     "output_type": "stream",
     "text": [
      "[7/5]\n"
     ]
    }
   ],
   "source": [
    "# La solución se debe pasar como un array en forma de columna\n",
    "solution=np.array([[rational(2,1)],[rational(3,2)],[rational(2,5)]])\n",
    "CB = np.array([rational(0,1),rational(2,3),rational(5,5)])\n",
    "print(Simplex.printMatrix(Simplex.calculateFunctionValueOfIteration(solution,CB)))"
   ]
  },
  {
   "cell_type": "code",
   "execution_count": 84,
   "metadata": {
    "collapsed": false
   },
   "outputs": [
    {
     "name": "stdout",
     "output_type": "stream",
     "text": [
      "None\n"
     ]
    }
   ],
   "source": [
    "#Si el tamaño de uno de los parámetros difiere del otro, devuelve None\n",
    "solution=np.array([[rational(2,1)],[rational(3,2)],[rational(2,5)]])\n",
    "CB = np.array([rational(0,1),rational(5,5)])\n",
    "print(Simplex.calculateFunctionValueOfIteration(solution,CB))"
   ]
  },
  {
   "cell_type": "code",
   "execution_count": 85,
   "metadata": {
    "collapsed": false
   },
   "outputs": [
    {
     "name": "stdout",
     "output_type": "stream",
     "text": [
      "None\n"
     ]
    }
   ],
   "source": [
    "#Si recibe algo que no es un array numpy con elementos rational en cualquiera de los dos parámetros, devuelve None\n",
    "print(Simplex.calculateFunctionValueOfIteration(solution,3))"
   ]
  },
  {
   "cell_type": "markdown",
   "metadata": {},
   "source": [
    "------"
   ]
  },
  {
   "cell_type": "markdown",
   "metadata": {},
   "source": [
    "### *showFunctionValue*"
   ]
  },
  {
   "cell_type": "markdown",
   "metadata": {},
   "source": [
    "Este método recibe una matriz numpy que contiene la solución de la función, para la iteración, y la muestra por pantalla con su nombre(\"z\"). El método funciona tambiñen si se pasa la matriz con elementos rational En caso de que los parámetros introducidos no sean correctos, devolverá None. Ejemplos:"
   ]
  },
  {
   "cell_type": "code",
   "execution_count": 86,
   "metadata": {
    "collapsed": false
   },
   "outputs": [
    {
     "name": "stdout",
     "output_type": "stream",
     "text": [
      "z = CB*x = 34\n",
      "\n"
     ]
    }
   ],
   "source": [
    "functionValue=np.matrix([34])\n",
    "Simplex.showFunctionValue(functionValue)"
   ]
  },
  {
   "cell_type": "code",
   "execution_count": 87,
   "metadata": {
    "collapsed": false
   },
   "outputs": [
    {
     "name": "stdout",
     "output_type": "stream",
     "text": [
      "z = CB*x = 34\n",
      "\n"
     ]
    }
   ],
   "source": [
    "# El método funciona también con metrices rational\n",
    "functionValue=np.matrix([rational(34,1)])\n",
    "Simplex.showFunctionValue(functionValue)"
   ]
  },
  {
   "cell_type": "code",
   "execution_count": 88,
   "metadata": {
    "collapsed": false
   },
   "outputs": [
    {
     "name": "stdout",
     "output_type": "stream",
     "text": [
      "None\n"
     ]
    }
   ],
   "source": [
    "#En caso de recibir algo que no es una matriz numpy, devuelve None\n",
    "functionValue=np.matrix([34])\n",
    "print(Simplex.showFunctionValue(4))"
   ]
  },
  {
   "cell_type": "markdown",
   "metadata": {},
   "source": [
    "------"
   ]
  },
  {
   "cell_type": "markdown",
   "metadata": {},
   "source": [
    "### *calculateYValues*"
   ]
  },
  {
   "cell_type": "markdown",
   "metadata": {},
   "source": [
    "Este método calcula los valores de y, para una iteración. Para ello recibe la base de la iteración en una matriz numpy, la matriz total que contiene todas las restricciones del problema (sin signo, ni recursos) en una matriz numpy y las variables que no pertenecen a la iteración, en un array numpy. Los elementos de ambas matrices, deben ser rational. Si todos los parámetros introducidos son correctos, se devuelve en un array de numpy los valores, de cada una de las y para la iteración. En caso de que los parámetros introducidos no sean correctos, devolverá None. Ejemplos:"
   ]
  },
  {
   "cell_type": "code",
   "execution_count": 89,
   "metadata": {
    "collapsed": false,
    "scrolled": true
   },
   "outputs": [
    {
     "name": "stdout",
     "output_type": "stream",
     "text": [
      "[-11949/17350 , 2938/5205 , 15662/26025\n",
      "-1491/8675 , 2698/1735 , 2612/8675]\n"
     ]
    }
   ],
   "source": [
    "variablesNoIteration=np.array([3,4])\n",
    "iterationBase=np.matrix([[rational(6,7),rational(4,5),rational(3,1)],[rational(2,3),rational(7,6),\n",
    "                    rational(1,3)], [rational(4,1),rational(6,4),rational(9,2)]])\n",
    "totalMatrix=np.matrix([[rational(6,7),rational(4,5),rational(3,1),rational(5,3),rational(2,1)],[rational(2,3),rational(7,6),\n",
    "                    rational(1,3),rational(2,5),rational(9,5)], [rational(4,1),rational(6,4),rational(9,2),rational(4,5),\n",
    "                    rational(3,1)]])\n",
    "print(Simplex.printMatrix(Simplex.calculateYValues(variablesNoIteration,iterationBase,totalMatrix)))"
   ]
  },
  {
   "cell_type": "code",
   "execution_count": 90,
   "metadata": {
    "collapsed": false
   },
   "outputs": [
    {
     "name": "stdout",
     "output_type": "stream",
     "text": [
      "None\n"
     ]
    }
   ],
   "source": [
    "#Si el número de variables fuera de la iteración, es mayor que el número total de variables, se devuelve None\n",
    "variablesNoIteration=np.array([0,1,2,3,4,5])\n",
    "print(Simplex.calculateYValues(variablesNoIteration,iterationBase,totalMatrix))"
   ]
  },
  {
   "cell_type": "code",
   "execution_count": 91,
   "metadata": {
    "collapsed": false
   },
   "outputs": [
    {
     "name": "stdout",
     "output_type": "stream",
     "text": [
      "None\n"
     ]
    }
   ],
   "source": [
    "#Si el la base tiene más o menos filas, que la matriz total, devuelve None\n",
    "variablesNoIteration=np.array([3,4])\n",
    "iterationBase=np.matrix([[rational(6,7),rational(4,5),rational(3,1)], [rational(4,1),rational(6,4),rational(9,2)]])\n",
    "totalMatrix=np.matrix([[rational(6,7),rational(4,5),rational(3,1),rational(5,3),rational(2,1)],[rational(2,3),rational(7,6),\n",
    "                    rational(1,3),rational(2,5),rational(9,5)], [rational(4,1),rational(6,4),rational(9,2),rational(4,5),\n",
    "                    rational(3,1)]])\n",
    "print(Simplex.calculateYValues(variablesNoIteration,iterationBase,totalMatrix))"
   ]
  },
  {
   "cell_type": "code",
   "execution_count": 92,
   "metadata": {
    "collapsed": false
   },
   "outputs": [
    {
     "name": "stdout",
     "output_type": "stream",
     "text": [
      "None\n"
     ]
    }
   ],
   "source": [
    "#Si se introduce algo que no sea una matriz numpy de rational en el segundo y tercer parámetro, o un array numpy en el primer \n",
    "# parámetro, devuelve None\n",
    "\n",
    "print(Simplex.calculateYValues(variablesNoIteration,4,totalMatrix))"
   ]
  },
  {
   "cell_type": "markdown",
   "metadata": {},
   "source": [
    "------"
   ]
  },
  {
   "cell_type": "markdown",
   "metadata": {},
   "source": [
    "### *showYValues*"
   ]
  },
  {
   "cell_type": "markdown",
   "metadata": {},
   "source": [
    "Este método recibe un array numpy que contiene las variables que no pertenecen a la iteración, y los valores de y en un array de numpy con elementos rational, y los muestra por pantalla con su nombre(\"y\"+número de la variable). En caso de que los parámetros introducidos no sean correctos, devolverá None. Ejemplos:"
   ]
  },
  {
   "cell_type": "code",
   "execution_count": 93,
   "metadata": {
    "collapsed": false
   },
   "outputs": [
    {
     "name": "stdout",
     "output_type": "stream",
     "text": [
      "y1 = inv(B)*a1 = [2/3 , 4/6]\n",
      "\n",
      "y3 = inv(B)*a3 = [3/2 , 4]\n",
      "\n"
     ]
    }
   ],
   "source": [
    "variablesNoIteration=np.array([1,3])\n",
    "y = np.array([[rational(2,3),rational(4,6)],[rational(3,2),rational(4,1)]])\n",
    "Simplex.showYValues(variablesNoIteration,y)"
   ]
  },
  {
   "cell_type": "code",
   "execution_count": 94,
   "metadata": {
    "collapsed": false
   },
   "outputs": [
    {
     "name": "stdout",
     "output_type": "stream",
     "text": [
      "None\n"
     ]
    }
   ],
   "source": [
    "#Si se pasa algo que no sea un array numpy en cualquiera de los dos parámetros,siendo el segundo de elementos rational, \n",
    "# devuelve None\n",
    "print(Simplex.showYValues(690,y))"
   ]
  },
  {
   "cell_type": "markdown",
   "metadata": {},
   "source": [
    "------"
   ]
  },
  {
   "cell_type": "markdown",
   "metadata": {},
   "source": [
    "### *calculateZC*"
   ]
  },
  {
   "cell_type": "markdown",
   "metadata": {},
   "source": [
    "Este método calcula los valores de la regla de entrada, y los devuelve en un array de numpy. Para ello recibe el vector de la función completo, en un array de numpy; las variables que no están dentro de la iteración, en un array de numpy; el vector de la función para la iteración, en un array de numpy y por último, los valores de y para la iteración, en un numpy array. Todos los arrays deben tener elementos rational, excepto en el de las variables que no están en la iteración. En caso de que los parámetros introducidos no sean correctos(ver ejemplos), devolverá None. Ejemplos: "
   ]
  },
  {
   "cell_type": "code",
   "execution_count": 95,
   "metadata": {
    "collapsed": false
   },
   "outputs": [
    {
     "name": "stdout",
     "output_type": "stream",
     "text": [
      "[3 , -6 , -3]\n"
     ]
    }
   ],
   "source": [
    "functionVector= np.array([rational(1,1),rational(3,1),rational(4,1),rational(5,1),rational(5,1)])\n",
    "variablesNoIteration= np.array([0,2,3])\n",
    "CB = np.array([rational(2,1),rational(0,1)])\n",
    "y = np.array([[rational(2,1),rational(1,1)],[rational(-1,1),rational(-3,1)],[rational(1,1),rational(1,1)],[rational(0,1)\n",
    "                                                                                                           ,rational(-1,1)]])\n",
    "print(Simplex.printMatrix(np.asmatrix(Simplex.calculateZC(functionVector,variablesNoIteration,CB,y))))"
   ]
  },
  {
   "cell_type": "code",
   "execution_count": 96,
   "metadata": {
    "collapsed": false
   },
   "outputs": [
    {
     "name": "stdout",
     "output_type": "stream",
     "text": [
      "None\n"
     ]
    }
   ],
   "source": [
    "# Si se le pasa algo que no es un array numpy en cualquiera de los parámetros, devuelve None\n",
    "print(Simplex.calculateZC(89,variablesNoIteration,CB,y))"
   ]
  },
  {
   "cell_type": "code",
   "execution_count": 97,
   "metadata": {
    "collapsed": false
   },
   "outputs": [
    {
     "name": "stdout",
     "output_type": "stream",
     "text": [
      "None\n"
     ]
    }
   ],
   "source": [
    "# Si el tamaño del vector de recursos para la iteración, es mayor que el tamaño de los resultados de y, devuelve None\n",
    "functionVector= np.array([rational(1,1),rational(3,1),rational(4,1),rational(5,1),rational(5,1)])\n",
    "variablesNoIteration= np.array([0,2,3])\n",
    "CB = np.array([rational(2,1),rational(0,1),rational(3,2),rational(2,1),rational(4,3)])\n",
    "y = np.array([[rational(2,1),rational(1,1)],[rational(-1,1),rational(-3,1)],[rational(1,1),rational(1,1)],[rational(0,1)\n",
    "                                                                                                           ,rational(-1,1)]])\n",
    "print(Simplex.calculateZC(functionVector,variablesNoIteration,CB,y))"
   ]
  },
  {
   "cell_type": "code",
   "execution_count": 98,
   "metadata": {
    "collapsed": false
   },
   "outputs": [
    {
     "name": "stdout",
     "output_type": "stream",
     "text": [
      "None\n"
     ]
    }
   ],
   "source": [
    "# Si hay más variables fuera de la iteración que variables en el vector de función total,se devuelve None\n",
    "functionVector= np.array([rational(1,1),rational(3,1),rational(4,1),rational(5,1),rational(5,1)])\n",
    "variablesNoIteration= np.array([0,1,2,3,4,5,6])\n",
    "CB = np.array([rational(2,1),rational(0,1)])\n",
    "y = np.array([[rational(2,1),rational(1,1)],[rational(-1,1),rational(-3,1)],[rational(1,1),rational(1,1)],[rational(0,1)\n",
    "                                                                                                           ,rational(-1,1)]])\n",
    "print(Simplex.calculateZC(functionVector,variablesNoIteration,CB,y))"
   ]
  },
  {
   "cell_type": "code",
   "execution_count": 99,
   "metadata": {
    "collapsed": false
   },
   "outputs": [
    {
     "name": "stdout",
     "output_type": "stream",
     "text": [
      "None\n"
     ]
    }
   ],
   "source": [
    "# Si el tamaño del vector función para la iteración es mayor que el del vector total de la función, devuelve None:\n",
    "functionVector= np.array([rational(1,1),rational(3,1)])\n",
    "variablesNoIteration= np.array([0,1,2,3,4,5,6])\n",
    "CB = np.array([rational(2,1),rational(0,1),rational(4,1),rational(5,1),rational(5,1)])\n",
    "y = np.array([[rational(2,1),rational(1,1)],[rational(-1,1),rational(-3,1)],[rational(1,1),rational(1,1)],[rational(0,1)\n",
    "                                                                                                           ,rational(-1,1)]])\n",
    "print(Simplex.calculateZC(functionVector,variablesNoIteration,CB,y))"
   ]
  },
  {
   "cell_type": "code",
   "execution_count": 100,
   "metadata": {
    "collapsed": false
   },
   "outputs": [
    {
     "name": "stdout",
     "output_type": "stream",
     "text": [
      "None\n"
     ]
    }
   ],
   "source": [
    "# Si se introduce algo que no es un array de numpy, devuelve None(el primer, tercer y cuarto parámetro deben tener elementos \n",
    "# rational)\n",
    "functionVector=np.array([3,-6,-3])\n",
    "print(Simplex.calculateZC(functionVector,variablesNoIteration,CB,y))"
   ]
  },
  {
   "cell_type": "markdown",
   "metadata": {},
   "source": [
    "------"
   ]
  },
  {
   "cell_type": "markdown",
   "metadata": {
    "collapsed": true
   },
   "source": [
    "### *showZCValues*"
   ]
  },
  {
   "cell_type": "markdown",
   "metadata": {
    "collapsed": true
   },
   "source": [
    "Este método recibe en un array de numpy los valores de la regla de entrada(Z_C) y en otro array de numpy,las variables que no pertenecen a la iteración. Si todos los parámetros son correctos, muestra por pantalla los valores de la regla de entrada con su nombre asociado(\"Z_C\"+número de la variable).  El método funciona tanto con elementos rational, como con elementos enteros.. En caso de que los parámetros introducidos no sean correctos(ver ejemplos), devolverá None. Ejemplos:"
   ]
  },
  {
   "cell_type": "code",
   "execution_count": 101,
   "metadata": {
    "collapsed": false,
    "scrolled": true
   },
   "outputs": [
    {
     "name": "stdout",
     "output_type": "stream",
     "text": [
      "Input rule:\n",
      "\n",
      "Z_C0 = CB*y0- C0 = 3\n",
      "\n",
      "Z_C2 = CB*y2- C2 = -6\n",
      "\n",
      "Z_C3 = CB*y3- C3 = -3\n",
      "\n"
     ]
    }
   ],
   "source": [
    "variablesNoIteration= np.array([0,2,3])\n",
    "Z_C=np.array([3,-6,-3])\n",
    "Simplex.showZCValues(variablesNoIteration,Z_C)"
   ]
  },
  {
   "cell_type": "code",
   "execution_count": 102,
   "metadata": {
    "collapsed": false
   },
   "outputs": [
    {
     "name": "stdout",
     "output_type": "stream",
     "text": [
      "Input rule:\n",
      "\n",
      "Z_C0 = CB*y0- C0 = 3/5\n",
      "\n",
      "Z_C2 = CB*y2- C2 = -6/2\n",
      "\n",
      "Z_C3 = CB*y3- C3 = -3\n",
      "\n"
     ]
    }
   ],
   "source": [
    "# También funciona con rational\n",
    "variablesNoIteration= np.array([0,2,3])\n",
    "Z_C=np.array([rational(3,5),rational(-6,2),rational(-3,1)])\n",
    "Simplex.showZCValues(variablesNoIteration,Z_C)"
   ]
  },
  {
   "cell_type": "code",
   "execution_count": 103,
   "metadata": {
    "collapsed": false
   },
   "outputs": [
    {
     "name": "stdout",
     "output_type": "stream",
     "text": [
      "None\n"
     ]
    }
   ],
   "source": [
    "# Si la longitud de los valores de la regla de entrada, es diferente del número de valores que hay en la iteración, devuelve None\n",
    "Z_C=np.array([3,-6])\n",
    "print(Simplex.showZCValues(variablesNoIteration,Z_C))"
   ]
  },
  {
   "cell_type": "code",
   "execution_count": 104,
   "metadata": {
    "collapsed": false
   },
   "outputs": [
    {
     "name": "stdout",
     "output_type": "stream",
     "text": [
      "None\n"
     ]
    }
   ],
   "source": [
    "# Si lo que se introduce no es un array de numpy, en cualquiera de los dos parámetros, devuelve None\n",
    "print(Simplex.showZCValues(3,Z_C))"
   ]
  },
  {
   "cell_type": "markdown",
   "metadata": {},
   "source": [
    "------"
   ]
  },
  {
   "cell_type": "markdown",
   "metadata": {},
   "source": [
    "### *thereIsAnotherIteration*"
   ]
  },
  {
   "cell_type": "markdown",
   "metadata": {},
   "source": [
    "Este método recibe los valores de la regla de entrada en un array de numpy. Devuelve True, si hay otra iteración; -1, si hay infinitas soluciones o False, si no hay más iteraciones. El método funciona tanto con elementos rational, como con elementos enteros. En caso de que los parámetros introducidos no sean correctos(ver ejemplos), devolverá None. Ejemplos:"
   ]
  },
  {
   "cell_type": "code",
   "execution_count": 105,
   "metadata": {
    "collapsed": false
   },
   "outputs": [
    {
     "data": {
      "text/plain": [
       "True"
      ]
     },
     "execution_count": 105,
     "metadata": {},
     "output_type": "execute_result"
    }
   ],
   "source": [
    "inputRuleValues=np.array([3,-6])\n",
    "Simplex.thereIsAnotherIteration(inputRuleValues)"
   ]
  },
  {
   "cell_type": "code",
   "execution_count": 106,
   "metadata": {
    "collapsed": false
   },
   "outputs": [
    {
     "data": {
      "text/plain": [
       "True"
      ]
     },
     "execution_count": 106,
     "metadata": {},
     "output_type": "execute_result"
    }
   ],
   "source": [
    "inputRuleValues=np.array([0,-6])\n",
    "Simplex.thereIsAnotherIteration(inputRuleValues)"
   ]
  },
  {
   "cell_type": "code",
   "execution_count": 107,
   "metadata": {
    "collapsed": false
   },
   "outputs": [
    {
     "data": {
      "text/plain": [
       "-1"
      ]
     },
     "execution_count": 107,
     "metadata": {},
     "output_type": "execute_result"
    }
   ],
   "source": [
    "inputRuleValues=np.array([0,6])\n",
    "Simplex.thereIsAnotherIteration(inputRuleValues)"
   ]
  },
  {
   "cell_type": "code",
   "execution_count": 108,
   "metadata": {
    "collapsed": false
   },
   "outputs": [
    {
     "data": {
      "text/plain": [
       "False"
      ]
     },
     "execution_count": 108,
     "metadata": {},
     "output_type": "execute_result"
    }
   ],
   "source": [
    "inputRuleValues=np.array([1,6])\n",
    "Simplex.thereIsAnotherIteration(inputRuleValues)"
   ]
  },
  {
   "cell_type": "code",
   "execution_count": 109,
   "metadata": {
    "collapsed": false
   },
   "outputs": [
    {
     "data": {
      "text/plain": [
       "True"
      ]
     },
     "execution_count": 109,
     "metadata": {},
     "output_type": "execute_result"
    }
   ],
   "source": [
    "# El método funciona también con rational\n",
    "inputRuleValues=np.array([rational(1,3),rational(-2,3)])\n",
    "Simplex.thereIsAnotherIteration(inputRuleValues)"
   ]
  },
  {
   "cell_type": "code",
   "execution_count": 110,
   "metadata": {
    "collapsed": false
   },
   "outputs": [
    {
     "name": "stdout",
     "output_type": "stream",
     "text": [
      "None\n"
     ]
    }
   ],
   "source": [
    "#Si se le pasa algo que no sea un array de numpy, devuelve None\n",
    "print(Simplex.thereIsAnotherIteration(2))"
   ]
  },
  {
   "cell_type": "markdown",
   "metadata": {},
   "source": [
    "------"
   ]
  },
  {
   "cell_type": "markdown",
   "metadata": {},
   "source": [
    "### *showNextIteration*"
   ]
  },
  {
   "cell_type": "markdown",
   "metadata": {},
   "source": [
    "Este método muestra mediante una explicación, cuál es la solución dada por el método anterior. Si recibe True, muestra la explicación para cuando el problema no ha terminado, y hay más iteraciones; si recibe False, muestra la expliación para cuando el problema ha terminado y si recibe -1, muestra la explicación para cuando hay infinitas soluciones. En caso de que reciba algo distinto a esto, devuelve None. Ejemplos:"
   ]
  },
  {
   "cell_type": "code",
   "execution_count": 111,
   "metadata": {
    "collapsed": false
   },
   "outputs": [
    {
     "name": "stdout",
     "output_type": "stream",
     "text": [
      "The problem is not finished. There is another iteration,because there is at least one negative reduced cost.\n",
      "\n"
     ]
    }
   ],
   "source": [
    "Simplex.showNextIteration(True)"
   ]
  },
  {
   "cell_type": "code",
   "execution_count": 112,
   "metadata": {
    "collapsed": false
   },
   "outputs": [
    {
     "name": "stdout",
     "output_type": "stream",
     "text": [
      "The problem is finished, because there is not any negative reduced cost.\n",
      "\n"
     ]
    }
   ],
   "source": [
    "Simplex.showNextIteration(False)"
   ]
  },
  {
   "cell_type": "code",
   "execution_count": 113,
   "metadata": {
    "collapsed": false
   },
   "outputs": [
    {
     "name": "stdout",
     "output_type": "stream",
     "text": [
      "The problem is finished. There are a large amount of solutions.\n",
      "\n"
     ]
    }
   ],
   "source": [
    "Simplex.showNextIteration(-1)"
   ]
  },
  {
   "cell_type": "code",
   "execution_count": 114,
   "metadata": {
    "collapsed": false
   },
   "outputs": [
    {
     "name": "stdout",
     "output_type": "stream",
     "text": [
      "None\n"
     ]
    }
   ],
   "source": [
    "# Si recibe algo distinto a True,False o -1, devuelve None\n",
    "print(Simplex.showNextIteration(-2))"
   ]
  },
  {
   "cell_type": "markdown",
   "metadata": {},
   "source": [
    "------"
   ]
  },
  {
   "cell_type": "markdown",
   "metadata": {},
   "source": [
    "\n",
    "### *calculateVarWhichEnter*"
   ]
  },
  {
   "cell_type": "markdown",
   "metadata": {},
   "source": [
    "Este método recibe un array de numpy que contiene las variables que no están en la iteración, y otro array de numpy que contiene los valores de la regla de entrada. Si los parámetros de entrada son correctos, se devuelve la variable que debe entrar en la siguiente iteración(el que tenga el valor mínimo). El método funciona tanto con elementos rational, como con elementos enteros. En caso de que los parámetros introducidos no sean correctos, devolverá None. Ejemplos:"
   ]
  },
  {
   "cell_type": "code",
   "execution_count": 115,
   "metadata": {
    "collapsed": false
   },
   "outputs": [
    {
     "data": {
      "text/plain": [
       "2"
      ]
     },
     "execution_count": 115,
     "metadata": {},
     "output_type": "execute_result"
    }
   ],
   "source": [
    "variablesNoIteration=np.array([0,2,3])\n",
    "inputRuleValues=np.array([3,-6,-3])\n",
    "Simplex.calculateVarWhichEnter(variablesNoIteration,inputRuleValues)"
   ]
  },
  {
   "cell_type": "code",
   "execution_count": 116,
   "metadata": {
    "collapsed": false
   },
   "outputs": [
    {
     "data": {
      "text/plain": [
       "2"
      ]
     },
     "execution_count": 116,
     "metadata": {},
     "output_type": "execute_result"
    }
   ],
   "source": [
    "# El método también funciona con elementos rational\n",
    "variablesNoIteration=np.array([0,2,3])\n",
    "inputRuleValues=np.array([rational(3,9),rational(-6,2),rational(-3,2)])\n",
    "Simplex.calculateVarWhichEnter(variablesNoIteration,inputRuleValues)"
   ]
  },
  {
   "cell_type": "code",
   "execution_count": 117,
   "metadata": {
    "collapsed": false
   },
   "outputs": [
    {
     "name": "stdout",
     "output_type": "stream",
     "text": [
      "None\n"
     ]
    }
   ],
   "source": [
    "# Si se recibe algo que no es un array de numpy en cualquiera de los dos parámetros, devuelve None\n",
    "print(Simplex.calculateVarWhichEnter(variablesNoIteration,5))"
   ]
  },
  {
   "cell_type": "markdown",
   "metadata": {},
   "source": [
    "------"
   ]
  },
  {
   "cell_type": "markdown",
   "metadata": {},
   "source": [
    "### *showVarWhichEnter*"
   ]
  },
  {
   "cell_type": "markdown",
   "metadata": {},
   "source": [
    "Este método recibe la variable que entra y la muestra por pantalla, indicando que esa es la variable que entra. En caso de no recibir un número por parámetro, devuelve None. Ejemplos:"
   ]
  },
  {
   "cell_type": "code",
   "execution_count": 118,
   "metadata": {
    "collapsed": false
   },
   "outputs": [
    {
     "name": "stdout",
     "output_type": "stream",
     "text": [
      "The variable which enters in the next iteration is 2\n",
      "\n"
     ]
    }
   ],
   "source": [
    "variableWhichEnter= 2\n",
    "Simplex.showVarWhichEnter(variableWhichEnter)"
   ]
  },
  {
   "cell_type": "code",
   "execution_count": 119,
   "metadata": {
    "collapsed": false
   },
   "outputs": [
    {
     "name": "stdout",
     "output_type": "stream",
     "text": [
      "None\n"
     ]
    }
   ],
   "source": [
    "#Si lo que recibe por parámetro no es un número, devuelve None\n",
    "print(Simplex.showVarWhichEnter(\"adsf\"))"
   ]
  },
  {
   "cell_type": "markdown",
   "metadata": {},
   "source": [
    "------"
   ]
  },
  {
   "cell_type": "markdown",
   "metadata": {},
   "source": [
    "###  *calculateExitValues*"
   ]
  },
  {
   "cell_type": "markdown",
   "metadata": {},
   "source": [
    "Este método recibe los valores de la regla de entrada en un array de numpy, los valores de y en otro array de numpy, y la solución de esa iteración en un array de numpy, en forma de columna. Todos los elementos de los arrays deben ser rational. Si todos los parámetros se introducen de forma correcta, se devuelven los valores de la regla de salida. En caso de que los parámetros introducidos no sean correctos(ver ejemplos), devolverá None. Ejemplos:"
   ]
  },
  {
   "cell_type": "code",
   "execution_count": 120,
   "metadata": {
    "collapsed": false
   },
   "outputs": [
    {
     "data": {
      "text/plain": [
       "(array([<PySimplex.rational.rational object at 0x068E6890>,\n",
       "        <PySimplex.rational.rational object at 0x068E68D0>,\n",
       "        <PySimplex.rational.rational object at 0x068E6910>], dtype=object),\n",
       " array([<PySimplex.rational.rational object at 0x068E67F0>,\n",
       "        <PySimplex.rational.rational object at 0x068E68B0>,\n",
       "        <PySimplex.rational.rational object at 0x068E68F0>], dtype=object))"
      ]
     },
     "execution_count": 120,
     "metadata": {},
     "output_type": "execute_result"
    }
   ],
   "source": [
    "inputRuleValues=np.array([rational(2,1),rational(-3,1),rational(-4,3)])\n",
    "yValues=np.array([[rational(2,1),rational(3,1),rational(4,1)],[rational(4,1),rational(6,1),rational(8,1),],[rational(3,1),\n",
    "                rational(5,1),rational(6,1)]])\n",
    "sol=np.array([[rational(1,1)],[rational(0,1)],[rational(-4,2)]])\n",
    "Simplex.calculateExitValues(inputRuleValues,yValues,sol)"
   ]
  },
  {
   "cell_type": "code",
   "execution_count": 121,
   "metadata": {
    "collapsed": false
   },
   "outputs": [
    {
     "name": "stdout",
     "output_type": "stream",
     "text": [
      "None\n"
     ]
    }
   ],
   "source": [
    "#Si el número de valores de la regla de entrada es diferente que el número de valores de y, devuelve None\n",
    "inputRuleValues=np.array([rational(2,1),rational(-3,1)])\n",
    "yValues=np.array([[rational(2,1),rational(3,1),rational(4,1)],[rational(4,1),rational(6,1),rational(8,1),],[rational(3,1),\n",
    "                rational(5,1),rational(6,1)]])\n",
    "sol=np.array([[rational(1,1)],[rational(0,1)],[rational(-4,2)]])\n",
    "print(Simplex.calculateExitValues(inputRuleValues,yValues,sol))"
   ]
  },
  {
   "cell_type": "code",
   "execution_count": 122,
   "metadata": {
    "collapsed": false
   },
   "outputs": [
    {
     "name": "stdout",
     "output_type": "stream",
     "text": [
      "None\n"
     ]
    }
   ],
   "source": [
    "#Si el número de valores de la regla de entrada es diferente que el número de valores de y, devuelve None\n",
    "inputRuleValues=np.array([rational(2,1),rational(-3,1),rational(-4,3)])\n",
    "yValues=np.array([[rational(2,1),rational(3,1),rational(4,1)],[rational(4,1),rational(6,1),rational(8,1),]])\n",
    "sol=np.array([[rational(1,1)],[rational(0,1)],[rational(-4,2)]])\n",
    "print(Simplex.calculateExitValues(inputRuleValues,yValues,sol))"
   ]
  },
  {
   "cell_type": "code",
   "execution_count": 123,
   "metadata": {
    "collapsed": false
   },
   "outputs": [
    {
     "name": "stdout",
     "output_type": "stream",
     "text": [
      "None\n"
     ]
    }
   ],
   "source": [
    "#Si la longitud de la solución es menor que el número de valores de algún conjunto de y, devuelve None\n",
    "inputRuleValues=np.array([rational(2,1),rational(-3,1),rational(-4,3)])\n",
    "yValues=np.array([[rational(2,1),rational(3,1),rational(4,1)],[rational(4,1),rational(6,1),rational(8,1),],[rational(3,1),\n",
    "                rational(5,1),rational(6,1)]])\n",
    "sol=np.array([[rational(1,1)],[rational(0,1)]])\n",
    "print(Simplex.calculateExitValues(inputRuleValues,yValues,sol))"
   ]
  },
  {
   "cell_type": "code",
   "execution_count": 124,
   "metadata": {
    "collapsed": false
   },
   "outputs": [
    {
     "name": "stdout",
     "output_type": "stream",
     "text": [
      "None\n"
     ]
    }
   ],
   "source": [
    "#Si recibe algo que no sea un array de numpy con elementos rational en cualquiera de los parámetros, devuelve None\n",
    "print(Simplex.calculateExitValues(inputRuleValues,66,sol))"
   ]
  },
  {
   "cell_type": "markdown",
   "metadata": {},
   "source": [
    "------"
   ]
  },
  {
   "cell_type": "markdown",
   "metadata": {
    "collapsed": true
   },
   "source": [
    "### *showExitValues*"
   ]
  },
  {
   "cell_type": "markdown",
   "metadata": {},
   "source": [
    "Este método recibe en un array de numpy con elementos rational los valores de la regla de salida, y los muestra por pantalla, acompañados de el nombre que reciben(\"O\"), y de cuál será el criterio de elección del valor de salida(min). En caso de que no reciba un array de numpy, devuelve None. Ejemplos:"
   ]
  },
  {
   "cell_type": "code",
   "execution_count": 125,
   "metadata": {
    "collapsed": false
   },
   "outputs": [
    {
     "name": "stdout",
     "output_type": "stream",
     "text": [
      "Output rule:\n",
      "\n",
      "O = min {[1/2 , -3/2 , 0 , 5/2]}\n",
      "\n"
     ]
    }
   ],
   "source": [
    "exitValues=np.array([rational(1,2),rational(-3,2),rational(0,1),rational(5,2)])\n",
    "Simplex.showExitValues(exitValues)"
   ]
  },
  {
   "cell_type": "code",
   "execution_count": 126,
   "metadata": {
    "collapsed": false
   },
   "outputs": [
    {
     "name": "stdout",
     "output_type": "stream",
     "text": [
      "None\n"
     ]
    }
   ],
   "source": [
    "#Si recibe algo que no es una array de numpy con elementos rational, devuelve None\n",
    "exitValues=np.array([1,-3,0,5])\n",
    "print(Simplex.showExitValues(exitValues))"
   ]
  },
  {
   "cell_type": "markdown",
   "metadata": {},
   "source": [
    "------"
   ]
  },
  {
   "cell_type": "markdown",
   "metadata": {},
   "source": [
    "### *calculateO*"
   ]
  },
  {
   "cell_type": "markdown",
   "metadata": {},
   "source": [
    "Este método calcula el valor de O, para un conjunto de valores de salida que recibe por parámetro como un array de numpy. Este valor será el de los valores recibidos. El cálculo de qué valores tienen denominador negativo o 0, se hace en el método calculateExitValues, luego aquí se recibirá un array con valores rational y Nan.Si todos los valores son Nan, devolverá None. En caso de que no reciba un array de numpy, devuelve None. Ejemplos:"
   ]
  },
  {
   "cell_type": "code",
   "execution_count": 127,
   "metadata": {
    "collapsed": false
   },
   "outputs": [
    {
     "name": "stdout",
     "output_type": "stream",
     "text": [
      "-3/2\n"
     ]
    }
   ],
   "source": [
    "exitValues=np.array([rational(1,3),rational(-3,2),rational(0,1),rational(5,4)])\n",
    "print(Simplex.calculateO(exitValues))"
   ]
  },
  {
   "cell_type": "code",
   "execution_count": 128,
   "metadata": {
    "collapsed": false
   },
   "outputs": [
    {
     "name": "stdout",
     "output_type": "stream",
     "text": [
      "None\n"
     ]
    }
   ],
   "source": [
    "#Si todos los valores recibidos son Nan, se omitirán y devolverá None\n",
    "exitValues=np.array([np.nan,np.nan,np.nan,np.nan])\n",
    "print(Simplex.calculateO(exitValues))"
   ]
  },
  {
   "cell_type": "code",
   "execution_count": 129,
   "metadata": {
    "collapsed": false
   },
   "outputs": [
    {
     "name": "stdout",
     "output_type": "stream",
     "text": [
      "None\n"
     ]
    }
   ],
   "source": [
    "#Si recibe algo que no es una array de numpy con elementos rational o Nan, devuelve None\n",
    "exitValues=np.array([-1,-3,-3,-5])\n",
    "print(Simplex.calculateO(exitValues))"
   ]
  },
  {
   "cell_type": "markdown",
   "metadata": {},
   "source": [
    "------"
   ]
  },
  {
   "cell_type": "markdown",
   "metadata": {},
   "source": [
    "### *showOValue*"
   ]
  },
  {
   "cell_type": "markdown",
   "metadata": {},
   "source": [
    "Este método recibe el valor de O, y simplemente lo muestra por pantalla, con su nombre asociado(\"O\"). En caso de no recibir un número por parámetro, devuelve None. Ejemplos:"
   ]
  },
  {
   "cell_type": "code",
   "execution_count": 130,
   "metadata": {
    "collapsed": false
   },
   "outputs": [
    {
     "name": "stdout",
     "output_type": "stream",
     "text": [
      "O = 3\n",
      "\n"
     ]
    }
   ],
   "source": [
    "O = 3\n",
    "Simplex.showOValue(O)"
   ]
  },
  {
   "cell_type": "code",
   "execution_count": 131,
   "metadata": {
    "collapsed": false
   },
   "outputs": [
    {
     "name": "stdout",
     "output_type": "stream",
     "text": [
      "O = 3/4\n",
      "\n"
     ]
    }
   ],
   "source": [
    "O = rational(3,4)\n",
    "Simplex.showOValue(O)"
   ]
  },
  {
   "cell_type": "code",
   "execution_count": 132,
   "metadata": {
    "collapsed": false
   },
   "outputs": [
    {
     "name": "stdout",
     "output_type": "stream",
     "text": [
      "None\n"
     ]
    }
   ],
   "source": [
    "#Si lo que recibe por parámetro no es un nuúmero, devuelve None\n",
    "print(Simplex.showOValue([4,3]))"
   ]
  },
  {
   "cell_type": "markdown",
   "metadata": {},
   "source": [
    "------"
   ]
  },
  {
   "cell_type": "markdown",
   "metadata": {},
   "source": [
    "###  *calculateVarWhichExit*"
   ]
  },
  {
   "cell_type": "markdown",
   "metadata": {},
   "source": [
    "Este método recibe en un array de numpy las variables o columnas que pertenecen a la iteración(deben aparecer ordenadas en función de lo que se esté realizando en el problema), y en otro array de numpy, los valores de la regla de salida, que deben ser rational o Nan. Si los parámetros introducidos son correctos, devuelve el valor de la variable que saldrá en esta iteración, o None, en caso de que todos los valores sean Nan. En caso de no recibir como parámetro un array de numpy, devolverá None. Ejemplos:"
   ]
  },
  {
   "cell_type": "code",
   "execution_count": 133,
   "metadata": {
    "collapsed": false
   },
   "outputs": [
    {
     "data": {
      "text/plain": [
       "3"
      ]
     },
     "execution_count": 133,
     "metadata": {},
     "output_type": "execute_result"
    }
   ],
   "source": [
    "outputRuleValues=np.array([rational(1,2),rational(-3,-2),rational(0,1),rational(5,7)])\n",
    "columnsOfIteration=np.array([0,2,3])\n",
    "Simplex.calculateVarWhichExit(columnsOfIteration,outputRuleValues)"
   ]
  },
  {
   "cell_type": "code",
   "execution_count": 134,
   "metadata": {
    "collapsed": false
   },
   "outputs": [
    {
     "name": "stdout",
     "output_type": "stream",
     "text": [
      "None\n"
     ]
    }
   ],
   "source": [
    "#Si los valores de la regla de salida, son todos negativos o divididos por 0, es decir, le pasamos Nan, devuelve None\n",
    "outputRuleValues=np.array([np.nan,np.nan,np.nan,np.nan])\n",
    "print(Simplex.calculateVarWhichExit(columnsOfIteration,outputRuleValues))"
   ]
  },
  {
   "cell_type": "code",
   "execution_count": 135,
   "metadata": {
    "collapsed": false
   },
   "outputs": [
    {
     "name": "stdout",
     "output_type": "stream",
     "text": [
      "None\n"
     ]
    }
   ],
   "source": [
    "# Si recibe algo que no es un array de numpy en ambos parámetros, devuelve None\n",
    "outputRuleValues=np.array([1,-3,0,5])\n",
    "print(Simplex.calculateVarWhichExit(4,outputRuleValues))"
   ]
  },
  {
   "cell_type": "markdown",
   "metadata": {},
   "source": [
    "------"
   ]
  },
  {
   "cell_type": "markdown",
   "metadata": {},
   "source": [
    "###  *showVarWhichExit*"
   ]
  },
  {
   "cell_type": "markdown",
   "metadata": {},
   "source": [
    "Este método recibe la variable que sale por parámetro, y la muestra por pantalla, acompañado de una indicación de que esa es la variable que saldrá en esta iteración. En caso de no recibir un número por parámetro, devuelve None. Ejemplos:"
   ]
  },
  {
   "cell_type": "code",
   "execution_count": 136,
   "metadata": {
    "collapsed": false
   },
   "outputs": [
    {
     "name": "stdout",
     "output_type": "stream",
     "text": [
      "The variable which exits in this iteration is 4\n",
      "\n"
     ]
    }
   ],
   "source": [
    "varWhichExit=4\n",
    "Simplex.showVarWhichExit(varWhichExit)"
   ]
  },
  {
   "cell_type": "code",
   "execution_count": 137,
   "metadata": {
    "collapsed": false
   },
   "outputs": [
    {
     "name": "stdout",
     "output_type": "stream",
     "text": [
      "None\n"
     ]
    }
   ],
   "source": [
    "# Si lo que recibe por parámetro no es un número, devuelve None.\n",
    "print(Simplex.showVarWhichExit(np.array([3,4])))"
   ]
  },
  {
   "cell_type": "markdown",
   "metadata": {},
   "source": [
    "------"
   ]
  },
  {
   "cell_type": "markdown",
   "metadata": {},
   "source": [
    "### *showIterCol*"
   ]
  },
  {
   "cell_type": "markdown",
   "metadata": {},
   "source": [
    "Este método recibe un array de numpy con las columnas o variables de la iteración, y simplemente las muestra por pantalla, acompañado de una indicación de que esas son las variables de la iteración. En caso de que los parámetros introducidos no sean correctos(ver ejemplos), devolverá None. Ejemplos:"
   ]
  },
  {
   "cell_type": "code",
   "execution_count": 138,
   "metadata": {
    "collapsed": false
   },
   "outputs": [
    {
     "name": "stdout",
     "output_type": "stream",
     "text": [
      "The variables of this iteration are [3 4 5]\n",
      "\n"
     ]
    }
   ],
   "source": [
    "columnsOfIteration=np.array([3,4,5])\n",
    "Simplex.showIterCol(columnsOfIteration)"
   ]
  },
  {
   "cell_type": "code",
   "execution_count": 139,
   "metadata": {
    "collapsed": false
   },
   "outputs": [
    {
     "name": "stdout",
     "output_type": "stream",
     "text": [
      "None\n"
     ]
    }
   ],
   "source": [
    "# Si recibe algo que no sea un array de numpy, devuelve None\n",
    "print(Simplex.showIterCol(3))"
   ]
  },
  {
   "cell_type": "markdown",
   "metadata": {},
   "source": [
    "------"
   ]
  },
  {
   "cell_type": "markdown",
   "metadata": {},
   "source": [
    "### *solveIteration*"
   ]
  },
  {
   "cell_type": "markdown",
   "metadata": {},
   "source": [
    "Este método recibe por parámetro la matriz completa de las restricciones del problema(sin signos ni recursos) en una matriz de numpy, y luego recibe tres arrays de numpy, que contienen el vector de recursos,el valor de todas las variables en la función, y las columnas o variables de la presente iteración. Los elementos de la matriz, los recursos y el vector de la función deben ser rational. En caso de que todos los parámetros introducidos sean correctos, muestra por pantalla el desarrollo de la iteración, y finalmente devuelve, la solución de la iteración,el valor de la función para la iteración, cuál sería la variable que entraría, cuál la variable que saldría y un valor que indica si habría más iteraciones(True),no hay más iteraciones(False) o el número de soluciones es elevado(-1). En caso de que los parámetros introducidos no sean correctos(ver ejemplos), devolverá None. Ejemplos:"
   ]
  },
  {
   "cell_type": "code",
   "execution_count": 140,
   "metadata": {
    "collapsed": false,
    "scrolled": true
   },
   "outputs": [
    {
     "name": "stdout",
     "output_type": "stream",
     "text": [
      "B = [7 , 0 , 0\n",
      "0 , 1 , 0\n",
      "9 , 0 , 1]\n",
      "\n",
      "invB = [1/7 , 0 , 0\n",
      "0 , 1 , 0\n",
      "-9/7 , 0 , 1]\n",
      "\n",
      "x = inv(B)*b = [2/7\n",
      "4\n",
      "-11/7]\n",
      "\n",
      "CB = [0 , 0 , 1]\n",
      "\n",
      "z = CB*x = -11/7\n",
      "\n",
      "y0 = inv(B)*a0 = [-1/7 , 4 , 58/7]\n",
      "\n",
      "y1 = inv(B)*a1 = [4/7 , 6 , -50/7]\n",
      "\n",
      "y2 = inv(B)*a2 = [5/7 , 7 , -66/7]\n",
      "\n",
      "Input rule:\n",
      "\n",
      "Z_C0 = CB*y0- C0 = 44/7\n",
      "\n",
      "Z_C1 = CB*y1- C1 = -29/7\n",
      "\n",
      "Z_C2 = CB*y2- C2 = -101/7\n",
      "\n",
      "The problem is not finished. There is another iteration,because there is at least one negative reduced cost.\n",
      "\n",
      "The variable which enters in the next iteration is 2\n",
      "\n",
      "Output rule:\n",
      "\n",
      "O = min {[2/5 , 4/7 , 1/6]}\n",
      "\n",
      "O = 2/5\n",
      "\n",
      "The variable which exits in this iteration is 3\n",
      "\n"
     ]
    },
    {
     "data": {
      "text/plain": [
       "[array([[<PySimplex.rational.rational object at 0x068FD690>],\n",
       "        [<PySimplex.rational.rational object at 0x068FD6D0>],\n",
       "        [<PySimplex.rational.rational object at 0x068FD6F0>]], dtype=object),\n",
       " matrix([[<PySimplex.rational.rational object at 0x068FD5D0>]], dtype=object),\n",
       " 2.0,\n",
       " 3,\n",
       " True]"
      ]
     },
     "execution_count": 140,
     "metadata": {},
     "output_type": "execute_result"
    }
   ],
   "source": [
    "totalMatrix= np.matrix([[rational(-1,1),rational(4,1),rational(5,1),rational(7,1),rational(0,1),rational(0,1)],[rational(4,1),\n",
    "            rational(6,1),rational(7,1),rational(0,1),rational(1,1),rational(0,1)],[rational(7,1),rational(-2,1),rational(-3,1)\n",
    "            ,rational(9,1),rational(0,1), rational(1,1)]])\n",
    "functionVector =np.array([rational(2,1),rational(-3,1),rational(5,1),rational(0,1),rational(0,1),rational(1,1)])\n",
    "b = np.array([rational(2,1),rational(4,1),rational(1,1)])\n",
    "columnsOfIteration=np.array([3,4,5])\n",
    "Simplex.solveIteration(totalMatrix,b,functionVector,columnsOfIteration)"
   ]
  },
  {
   "cell_type": "code",
   "execution_count": 141,
   "metadata": {
    "collapsed": false
   },
   "outputs": [
    {
     "name": "stdout",
     "output_type": "stream",
     "text": [
      "None\n"
     ]
    }
   ],
   "source": [
    "# Si hay distinto número de recursos(b), que restricciones, devuelve None\n",
    "totalMatrix= np.matrix([[rational(-1,1),rational(4,1),rational(5,1),rational(7,1),rational(0,1),rational(0,1)],[rational(4,1),\n",
    "            rational(6,1),rational(7,1),rational(0,1),rational(1,1),rational(0,1)],[rational(7,1),rational(-2,1),rational(-3,1)\n",
    "            ,rational(9,1),rational(0,1), rational(1,1)]])\n",
    "functionVector =np.array([rational(2,1),rational(-3,1),rational(5,1),rational(0,1),rational(0,1),rational(1,1)])\n",
    "b = np.array([[rational(2,1)],[rational(4,1)]])\n",
    "columnsOfIteration=np.array([3,4,5])\n",
    "print(Simplex.solveIteration(totalMatrix,b,functionVector,columnsOfIteration))"
   ]
  },
  {
   "cell_type": "code",
   "execution_count": 142,
   "metadata": {
    "collapsed": false
   },
   "outputs": [
    {
     "name": "stdout",
     "output_type": "stream",
     "text": [
      "None\n"
     ]
    }
   ],
   "source": [
    "# Si la función tiene diferente número de variables que las restricciones, devuelve None\n",
    "totalMatrix= np.matrix([[rational(-1,1),rational(4,1),rational(5,1),rational(7,1),rational(0,1),rational(0,1)],[rational(4,1),\n",
    "            rational(6,1),rational(7,1),rational(0,1),rational(1,1),rational(0,1)],[rational(7,1),rational(-2,1),rational(-3,1)\n",
    "            ,rational(9,1),rational(0,1), rational(1,1)]])\n",
    "functionVector =np.array([rational(2,1),rational(-3,1),rational(5,1),rational(0,1)])\n",
    "b = np.array([[rational(2,1)],[rational(4,1)],[rational(1,1)]])\n",
    "columnsOfIteration=np.array([3,4,5])\n",
    "print(Simplex.solveIteration(totalMatrix,b,functionVector,columnsOfIteration))"
   ]
  },
  {
   "cell_type": "code",
   "execution_count": 143,
   "metadata": {
    "collapsed": false
   },
   "outputs": [
    {
     "name": "stdout",
     "output_type": "stream",
     "text": [
      "None\n"
     ]
    }
   ],
   "source": [
    "# Si el número de columnas o variables de la iteración, no se corresponde con el número de restricciones, devuelve None\n",
    "totalMatrix= np.matrix([[rational(-1,1),rational(4,1),rational(5,1),rational(7,1),rational(0,1),rational(0,1)],[rational(4,1),\n",
    "            rational(6,1),rational(7,1),rational(0,1),rational(1,1),rational(0,1)],[rational(7,1),rational(-2,1),rational(-3,1)\n",
    "            ,rational(9,1),rational(0,1), rational(1,1)]])\n",
    "functionVector =np.array([rational(2,1),rational(-3,1),rational(5,1),rational(0,1),rational(0,1),rational(1,1)])\n",
    "b = np.array([[rational(2,1)],[rational(4,1)],[rational(1,1)]])\n",
    "columnsOfIteration=np.array([3,4])\n",
    "print(Simplex.solveIteration(totalMatrix,b,functionVector,columnsOfIteration))"
   ]
  },
  {
   "cell_type": "code",
   "execution_count": 144,
   "metadata": {
    "collapsed": false
   },
   "outputs": [
    {
     "name": "stdout",
     "output_type": "stream",
     "text": [
      "None\n"
     ]
    }
   ],
   "source": [
    "# Si recibe por parámetro, algo que no es una matriz de numpy con elementos rational en el primer parámetro, o un array de numpy \n",
    "# con elementos rational(excepto en las columnas de la iteración, que son valores enteros) en el resto, devuelve None.\n",
    "totalMatrix= np.matrix([[rational(-1,1),rational(4,1),rational(5,1),rational(7,1),rational(0,1),rational(0,1)],[rational(4,1),\n",
    "            rational(6,1),rational(7,1),rational(0,1),rational(1,1),rational(0,1)],[rational(7,1),rational(-2,1),rational(-3,1)\n",
    "            ,rational(9,1),rational(0,1), rational(1,1)]])\n",
    "functionVector =np.array([rational(2,1),rational(-3,1),rational(5,1),rational(0,1),rational(0,1),rational(1,1)])\n",
    "b = np.array([[rational(2,1)],[rational(4,1)],[rational(1,1)]])\n",
    "columnsOfIteration=np.array([3,4,5])\n",
    "print(Simplex.solveIteration(4,b,functionVector,columnsOfIteration))"
   ]
  },
  {
   "cell_type": "markdown",
   "metadata": {},
   "source": [
    "------"
   ]
  },
  {
   "cell_type": "markdown",
   "metadata": {
    "collapsed": true
   },
   "source": [
    "### *identityColumnIsInMatrix*"
   ]
  },
  {
   "cell_type": "markdown",
   "metadata": {},
   "source": [
    "Este método recibe una matriz de numpy con elementos rational, y un número que se corresponde, con el índice de una columna de la matriz identidad. Si todos los parámetros son correctos, devolverá el índice de la columna de la matriz pasada, donde se encuentra la columna de la matriz identidad. En caso de que la columna de la matriz identidad indicada no se encuentre en la matriz, devolverá None. En caso de que los parámetros introducidos no sean correctos(ver ejemplos), devolverá None. Ejemplos:"
   ]
  },
  {
   "cell_type": "code",
   "execution_count": 145,
   "metadata": {
    "collapsed": false
   },
   "outputs": [
    {
     "data": {
      "text/plain": [
       "2"
      ]
     },
     "execution_count": 145,
     "metadata": {},
     "output_type": "execute_result"
    }
   ],
   "source": [
    "matrix=np.matrix([[rational(3,2),rational(0,1),rational(1,1)],[rational(3,5),rational(4,5),rational(0,1)],[rational(5,6),\n",
    "            rational(7,8),rational(0,1)]])\n",
    "column=0\n",
    "'''Se busca la columna 0 de la matriz identidad: [[1],\n",
    "                                                  [0],\n",
    "                                                  [0]]'''\n",
    "Simplex.identityColumnIsInMatrix(matrix,column)"
   ]
  },
  {
   "cell_type": "code",
   "execution_count": 146,
   "metadata": {
    "collapsed": false
   },
   "outputs": [
    {
     "name": "stdout",
     "output_type": "stream",
     "text": [
      "None\n"
     ]
    }
   ],
   "source": [
    "# Si la columna de la matriz identidad no está en la matriz, devuelve None\n",
    "column=2\n",
    "print(Simplex.identityColumnIsInMatrix(matrix,column))"
   ]
  },
  {
   "cell_type": "code",
   "execution_count": 147,
   "metadata": {
    "collapsed": false
   },
   "outputs": [
    {
     "data": {
      "text/plain": [
       "0"
      ]
     },
     "execution_count": 147,
     "metadata": {},
     "output_type": "execute_result"
    }
   ],
   "source": [
    "# Si la columna pasada, aparece más de una vez, devolverá la primera\n",
    "matrix=np.matrix([[rational(1,1),rational(0,1),rational(1,1)],[rational(0,1),rational(4,5),rational(0,1)],[rational(0,1),\n",
    "            rational(7,8),rational(0,1)]])\n",
    "column=0\n",
    "Simplex.identityColumnIsInMatrix(matrix,column)"
   ]
  },
  {
   "cell_type": "code",
   "execution_count": 148,
   "metadata": {
    "collapsed": false
   },
   "outputs": [
    {
     "name": "stdout",
     "output_type": "stream",
     "text": [
      "None\n"
     ]
    }
   ],
   "source": [
    "# Si se pasa un número mayor o igual que el número de columnas que tiene la matriz, devuelve None\n",
    "matrix=np.matrix([[rational(1,1),rational(0,1),rational(1,1)],[rational(0,1),rational(4,5),rational(0,1)],[rational(0,1),\n",
    "            rational(7,8),rational(0,1)]])\n",
    "column=4\n",
    "print(Simplex.identityColumnIsInMatrix(matrix,column))"
   ]
  },
  {
   "cell_type": "code",
   "execution_count": 149,
   "metadata": {
    "collapsed": false
   },
   "outputs": [
    {
     "name": "stdout",
     "output_type": "stream",
     "text": [
      "None\n"
     ]
    }
   ],
   "source": [
    "# Si se pasa algo que no es una matriz de numpy con elementos rational en el primer parámetro o algo que no es un número en el \n",
    "# segundo parámetro, devuelve None\n",
    "print(Simplex.identityColumnIsInMatrix(matrix,\"[2,3]\"))"
   ]
  },
  {
   "cell_type": "markdown",
   "metadata": {},
   "source": [
    "------"
   ]
  },
  {
   "cell_type": "markdown",
   "metadata": {},
   "source": [
    "### *variablesFirstIteration*"
   ]
  },
  {
   "cell_type": "markdown",
   "metadata": {},
   "source": [
    "Este método recibe una matriz de numpy, que será la matriz completa del problema y que debe tener elementos rational. Si todos los parámetros son correctos, calcula cuáles son las variables de la primera iteración del problema(es decir, donde están las columnas de la matriz identidad, en la matriz pasada)en un array de numpy. En caso de que alguna de las columnas de la matriz identidad no aparezca, devuelve None en su posición. En caso de que los parámetros introducidos no sean correctos(ver ejemplos), devolverá None. Ejemplos:"
   ]
  },
  {
   "cell_type": "code",
   "execution_count": 150,
   "metadata": {
    "collapsed": false
   },
   "outputs": [
    {
     "data": {
      "text/plain": [
       "array([0, 4])"
      ]
     },
     "execution_count": 150,
     "metadata": {},
     "output_type": "execute_result"
    }
   ],
   "source": [
    "totalMatrix=np.matrix([[rational(1,1),rational(2,1),rational(3,1),rational(4,1),rational(0,1)],[rational(0,1),rational(3,1),\n",
    "        rational(4,1),rational(7,1),rational(1,1)]])\n",
    "Simplex.variablesFirstIteration(totalMatrix)"
   ]
  },
  {
   "cell_type": "code",
   "execution_count": 151,
   "metadata": {
    "collapsed": false
   },
   "outputs": [
    {
     "data": {
      "text/plain": [
       "array([None, 4], dtype=object)"
      ]
     },
     "execution_count": 151,
     "metadata": {},
     "output_type": "execute_result"
    }
   ],
   "source": [
    "# En caso de que una de las columnas de la matriz identidad, no aparezca, devuelve None\n",
    "totalMatrix=np.matrix([[rational(1,1),rational(2,1),rational(3,1),rational(4,1),rational(0,1)],[rational(1,1),rational(3,1),\n",
    "        rational(4,1),rational(7,1),rational(1,1)]])\n",
    "Simplex.variablesFirstIteration(totalMatrix)"
   ]
  },
  {
   "cell_type": "code",
   "execution_count": 152,
   "metadata": {
    "collapsed": false
   },
   "outputs": [
    {
     "data": {
      "text/plain": [
       "array([0, 4])"
      ]
     },
     "execution_count": 152,
     "metadata": {},
     "output_type": "execute_result"
    }
   ],
   "source": [
    "# En caso de que una columna de la matriz identidad aparezca más de una vez, solo devuelve la primera\n",
    "totalMatrix=np.matrix([[rational(1,1),rational(1,1),rational(3,1),rational(4,1),rational(0,1)],[rational(0,1),rational(0,1),\n",
    "        rational(4,1),rational(7,1),rational(1,1)]])\n",
    "Simplex.variablesFirstIteration(totalMatrix)"
   ]
  },
  {
   "cell_type": "code",
   "execution_count": 153,
   "metadata": {
    "collapsed": false
   },
   "outputs": [
    {
     "name": "stdout",
     "output_type": "stream",
     "text": [
      "None\n"
     ]
    }
   ],
   "source": [
    "# Si recibe algo que no es una matriz de numpy de elementos rational, devuelve None\n",
    "print(Simplex.variablesFirstIteration(4))"
   ]
  },
  {
   "cell_type": "markdown",
   "metadata": {},
   "source": [
    "------"
   ]
  },
  {
   "cell_type": "markdown",
   "metadata": {},
   "source": [
    "### *calculateColumnsOfIteration*"
   ]
  },
  {
   "cell_type": "markdown",
   "metadata": {},
   "source": [
    "Este método recibe la variable que entrará en la siguiente iteración, la variable que saldrá en la siguiente iteración, y en un array de numpy, las variables de la iteración anterior. Si los parámetros son correctos, devuelve en un array de numpy, las variables de la iteración actual. En caso de que los parámetros introducidos no sean correctos(ver ejemplos), devolverá None. Ejemplos:"
   ]
  },
  {
   "cell_type": "code",
   "execution_count": 154,
   "metadata": {
    "collapsed": false
   },
   "outputs": [
    {
     "data": {
      "text/plain": [
       "array([1, 4, 5])"
      ]
     },
     "execution_count": 154,
     "metadata": {},
     "output_type": "execute_result"
    }
   ],
   "source": [
    "variableWhichEnters=4\n",
    "variableWhichExits=3\n",
    "previousVariables=np.array([1,3,5])\n",
    "Simplex.calculateColumnsOfIteration(variableWhichEnters,variableWhichExits,previousVariables)"
   ]
  },
  {
   "cell_type": "code",
   "execution_count": 155,
   "metadata": {
    "collapsed": false
   },
   "outputs": [
    {
     "data": {
      "text/plain": [
       "array([1, 3, 4, 5])"
      ]
     },
     "execution_count": 155,
     "metadata": {},
     "output_type": "execute_result"
    }
   ],
   "source": [
    "# Si se intenta sacar una variable que no está, no saca nada\n",
    "variableWhichEnters=4\n",
    "variableWhichExits=6\n",
    "previousVariables=np.array([1,3,5])\n",
    "Simplex.calculateColumnsOfIteration(variableWhichEnters,variableWhichExits,previousVariables)"
   ]
  },
  {
   "cell_type": "code",
   "execution_count": 156,
   "metadata": {
    "collapsed": false
   },
   "outputs": [
    {
     "name": "stdout",
     "output_type": "stream",
     "text": [
      "None\n"
     ]
    }
   ],
   "source": [
    "# Si se mete algo que no es un array de numpy en el tercer parámetro,o algo que no es un número en los dos primeros, devuelve\n",
    "# None\n",
    "print(Simplex.calculateColumnsOfIteration(variableWhichEnters,variableWhichExits,3))"
   ]
  },
  {
   "cell_type": "markdown",
   "metadata": {},
   "source": [
    "------"
   ]
  },
  {
   "cell_type": "markdown",
   "metadata": {},
   "source": [
    "### *completeSolution* "
   ]
  },
  {
   "cell_type": "markdown",
   "metadata": {},
   "source": [
    "Este método recibe las variables de la iteración en un array de numpy, el número total de variables del problema, y la solución de la iteración en un array de numpy, con todos sus elementos rational. Si todos los parámetros se introducen de forma correcta, devolverá la solución completa, es decir, el valor de cada una de las variables para dicha iteración. En caso de que los parámetros introducidos no sean correctos(ver ejemplos), devolverá None. Ejemplos: "
   ]
  },
  {
   "cell_type": "code",
   "execution_count": 157,
   "metadata": {
    "collapsed": false
   },
   "outputs": [
    {
     "name": "stdout",
     "output_type": "stream",
     "text": [
      "[0\n",
      "0\n",
      "4\n",
      "6/4\n",
      "7/3\n",
      "0]\n"
     ]
    }
   ],
   "source": [
    "variablesOfLastIter=np.array([2,3,4])\n",
    "numberOfVariables=6\n",
    "iterationSolution=np.array([rational(4,1),rational(6,4),rational(7,3)])\n",
    "print(Simplex.printMatrix(Simplex.completeSolution(variablesOfLastIter,numberOfVariables,iterationSolution)))"
   ]
  },
  {
   "cell_type": "code",
   "execution_count": 158,
   "metadata": {
    "collapsed": false
   },
   "outputs": [
    {
     "name": "stdout",
     "output_type": "stream",
     "text": [
      "None\n"
     ]
    }
   ],
   "source": [
    "# Si el número de variables de la última iteración es diferente que la longitud de la solución, devuelve None\n",
    "variablesOfLastIter=np.array([3,4])\n",
    "numberOfVariables=6\n",
    "iterationSolution=np.array([rational(4,1),rational(6,4),rational(7,3)])\n",
    "print(Simplex.completeSolution(variablesOfLastIter,numberOfVariables,iterationSolution))"
   ]
  },
  {
   "cell_type": "code",
   "execution_count": 159,
   "metadata": {
    "collapsed": false
   },
   "outputs": [
    {
     "name": "stdout",
     "output_type": "stream",
     "text": [
      "None\n"
     ]
    }
   ],
   "source": [
    "# Si recibe algo que no es un array de numpy en el primer y tercer parámetro(este debe ser de elementos rational), o algo que\n",
    "# no es un número en el segundo, devuelve None\n",
    "print(Simplex.completeSolution(variablesOfLastIter,[9,9],iterationSolution))"
   ]
  },
  {
   "cell_type": "markdown",
   "metadata": {},
   "source": [
    "------"
   ]
  },
  {
   "cell_type": "markdown",
   "metadata": {},
   "source": [
    "### *addIdentityColumns*"
   ]
  },
  {
   "cell_type": "markdown",
   "metadata": {},
   "source": [
    "Este método recibe una matriz de numpy con elementos rational, y devuelve en una matriz de numpy, cuáles son las columnas de la matriz identidad que no tiene. En caso de que ya tenga todas las columnas de la matriz identidad, devuelve un array vacío. En caso de recibir algo que no sea una matriz de numpy, devuelve None. Ejemplos:"
   ]
  },
  {
   "cell_type": "code",
   "execution_count": 160,
   "metadata": {
    "collapsed": false
   },
   "outputs": [
    {
     "name": "stdout",
     "output_type": "stream",
     "text": [
      "[1 , 0 , 0\n",
      "0 , 1 , 0\n",
      "0 , 0 , 1]\n"
     ]
    }
   ],
   "source": [
    "matrixInitial=np.matrix([[rational(3,2),rational(4,3),rational(6,3)],[rational(6,9),rational(7,3),rational(8,5)],[rational(4,3),\n",
    "            rational(5,4),rational(7,5)]])\n",
    "print(Simplex.printMatrix(Simplex.addIdentityColumns(matrixInitial)))"
   ]
  },
  {
   "cell_type": "code",
   "execution_count": 161,
   "metadata": {
    "collapsed": false
   },
   "outputs": [
    {
     "name": "stdout",
     "output_type": "stream",
     "text": [
      "[0 , 0\n",
      "1 , 0\n",
      "0 , 1]\n"
     ]
    }
   ],
   "source": [
    "# Si ya hay alguna columna de la matriz identidad, devuelve solo las que faltan\n",
    "matrixInitial=np.matrix([[rational(3,4),rational(1,1),rational(6,3)],[rational(6,4),rational(0,1),rational(8,9)],[rational(4,5),\n",
    "                rational(0,1),rational(7,6)]])\n",
    "print(Simplex.printMatrix(Simplex.addIdentityColumns(matrixInitial)))"
   ]
  },
  {
   "cell_type": "code",
   "execution_count": 162,
   "metadata": {
    "collapsed": false
   },
   "outputs": [
    {
     "data": {
      "text/plain": [
       "matrix([], shape=(3, 0), dtype=object)"
      ]
     },
     "execution_count": 162,
     "metadata": {},
     "output_type": "execute_result"
    }
   ],
   "source": [
    "# Si ya están todas las columnas de la mtriz identidad, devuelve un array vacío\n",
    "matrixInitial=np.matrix([[rational(0,1),rational(1,1),rational(0,1)],[rational(1,1),rational(0,1),rational(0,1)],[rational(0,1),\n",
    "            rational(0,1),rational(1,1)]])\n",
    "Simplex.addIdentityColumns(matrixInitial)"
   ]
  },
  {
   "cell_type": "code",
   "execution_count": 163,
   "metadata": {
    "collapsed": false
   },
   "outputs": [
    {
     "name": "stdout",
     "output_type": "stream",
     "text": [
      "None\n"
     ]
    }
   ],
   "source": [
    "# Si se pasa algo que no es una matriz de numpy con elementos rational, devuelve None\n",
    "print(Simplex.addIdentityColumns(4))"
   ]
  },
  {
   "cell_type": "markdown",
   "metadata": {},
   "source": [
    "------"
   ]
  },
  {
   "cell_type": "markdown",
   "metadata": {},
   "source": [
    "### *isStringList*"
   ]
  },
  {
   "cell_type": "markdown",
   "metadata": {},
   "source": [
    "Este método recibe una lista y comprueba si todos los elementos de la misma son strings, en ese caso devuelve True. Si algún elemento de la lista no es un string devuelve False.Se utiliza principalmente para comprobar que los parámetros de entrada de algunos métodos son correctos. En caso de no introducir una lista, devuelve None. Ejemplos:"
   ]
  },
  {
   "cell_type": "code",
   "execution_count": 164,
   "metadata": {
    "collapsed": false
   },
   "outputs": [
    {
     "data": {
      "text/plain": [
       "True"
      ]
     },
     "execution_count": 164,
     "metadata": {},
     "output_type": "execute_result"
    }
   ],
   "source": [
    "lis=[\"hola\",\"adios\",\"hasta luego\"]\n",
    "Simplex.isStringList(lis)"
   ]
  },
  {
   "cell_type": "code",
   "execution_count": 165,
   "metadata": {
    "collapsed": false
   },
   "outputs": [
    {
     "data": {
      "text/plain": [
       "False"
      ]
     },
     "execution_count": 165,
     "metadata": {},
     "output_type": "execute_result"
    }
   ],
   "source": [
    "lis=[\"hola\",4,\"hasta luego\"]\n",
    "Simplex.isStringList(lis)"
   ]
  },
  {
   "cell_type": "code",
   "execution_count": 166,
   "metadata": {
    "collapsed": false
   },
   "outputs": [
    {
     "name": "stdout",
     "output_type": "stream",
     "text": [
      "None\n"
     ]
    }
   ],
   "source": [
    "# Si recibe algo que no es una lista, devuelve None\n",
    "print(Simplex.isStringList(4))"
   ]
  },
  {
   "cell_type": "markdown",
   "metadata": {},
   "source": [
    "------"
   ]
  },
  {
   "cell_type": "markdown",
   "metadata": {
    "collapsed": true
   },
   "source": [
    "### *calculateArtificialValueInFunction*"
   ]
  },
  {
   "cell_type": "markdown",
   "metadata": {
    "collapsed": true
   },
   "source": [
    "Este método calcula y devuelve el coeficiente de la variable artificial para la función objetivo. Aunque como sabemos este valor será infinito y se añadirá con coeficiente negativo, basta con que este valor sea superior a la suma de los valores absolutos de los coeficientes que ya están en el vector función. El método funciona tanto con valores enteros, como con rational, pero siempre devolverá un rational. En caso de recibir algo que no es un array de numpy, devuelve None. Ejemplos:"
   ]
  },
  {
   "cell_type": "code",
   "execution_count": 167,
   "metadata": {
    "collapsed": false
   },
   "outputs": [
    {
     "name": "stdout",
     "output_type": "stream",
     "text": [
      "20\n"
     ]
    }
   ],
   "source": [
    "array=np.array([2,3,4,5])\n",
    "print(Simplex.calculateArtificialValueInFunction(array))"
   ]
  },
  {
   "cell_type": "code",
   "execution_count": 168,
   "metadata": {
    "collapsed": false
   },
   "outputs": [
    {
     "name": "stdout",
     "output_type": "stream",
     "text": [
      "20\n"
     ]
    }
   ],
   "source": [
    "array=np.array([2,3,4,-5])\n",
    "print(Simplex.calculateArtificialValueInFunction(array))"
   ]
  },
  {
   "cell_type": "code",
   "execution_count": 169,
   "metadata": {
    "collapsed": false
   },
   "outputs": [
    {
     "name": "stdout",
     "output_type": "stream",
     "text": [
      "10\n"
     ]
    }
   ],
   "source": [
    "array=np.array([rational(2,5),rational(3,4),rational(4,9),rational(-5,7)])\n",
    "print(Simplex.calculateArtificialValueInFunction(array))"
   ]
  },
  {
   "cell_type": "code",
   "execution_count": 170,
   "metadata": {
    "collapsed": false
   },
   "outputs": [
    {
     "name": "stdout",
     "output_type": "stream",
     "text": [
      "None\n"
     ]
    }
   ],
   "source": [
    "#Si recibe algo que no es una rray de Numpy, devuelve None\n",
    "print(Simplex.calculateArtificialValueInFunction(4))"
   ]
  },
  {
   "cell_type": "markdown",
   "metadata": {},
   "source": [
    "------"
   ]
  },
  {
   "cell_type": "markdown",
   "metadata": {
    "collapsed": true
   },
   "source": [
    "### *addArtificialVariablesToFunctionVector*"
   ]
  },
  {
   "cell_type": "markdown",
   "metadata": {
    "collapsed": true
   },
   "source": [
    "Este método recibe un array de numpy con elementos rational, que contiene los coeficientes de la función objetivo(vector función), y un número, que será el número de variables artificiales que se desea añadir. Si se introducen los parámetros de forma correcta, devolverá un array de numpy, que contendrá el vector función completo, ya con los coeficientes de las variables artificiales añadidos. En caso de que los parámetros introducidos no sean correctos(ver ejemplos), devolverá None. Ejemplos: "
   ]
  },
  {
   "cell_type": "code",
   "execution_count": 171,
   "metadata": {
    "collapsed": false
   },
   "outputs": [
    {
     "name": "stdout",
     "output_type": "stream",
     "text": [
      "[3 , 4 , 5 , 6 , -20 , -40]\n"
     ]
    }
   ],
   "source": [
    "vector=np.array([rational(3,1),rational(4,1),rational(5,1),rational(6,1)])\n",
    "numOfArtificialVariables= 2\n",
    "print(Simplex.printMatrix(np.asmatrix(Simplex.addArtificialVariablesToFunctionVector\n",
    "                                              (vector,numOfArtificialVariables))))"
   ]
  },
  {
   "cell_type": "code",
   "execution_count": 172,
   "metadata": {
    "collapsed": false
   },
   "outputs": [
    {
     "name": "stdout",
     "output_type": "stream",
     "text": [
      "None\n"
     ]
    }
   ],
   "source": [
    "#Si se pasa algo que no es un array de numpy con elementos rational en el primer parámetro, o algo que no es un número en \n",
    "# el segundo, devuelve None\n",
    "print(Simplex.addArtificialVariablesToFunctionVector(vector,[2,3]))"
   ]
  },
  {
   "cell_type": "markdown",
   "metadata": {},
   "source": [
    "------"
   ]
  },
  {
   "cell_type": "markdown",
   "metadata": {
    "collapsed": true
   },
   "source": [
    "### *calculateWhichAreArtificialVariables*"
   ]
  },
  {
   "cell_type": "markdown",
   "metadata": {
    "collapsed": true
   },
   "source": [
    "Este método recibe un array de numpy, que contiene los coeficientes de la función objetivo, con las variables artificiales incluidas(en orden), y un número que representa el número de variables artificiales que hay. Si los parámetros son correctos, devolverá cuáles son las variables artificiales. El método funciona tanto con elementos rational, como con enteros. En caso de que los parámetros introducidos no sean correctos(ver ejemplos), devolverá None. Ejemplos:\n"
   ]
  },
  {
   "cell_type": "code",
   "execution_count": 173,
   "metadata": {
    "collapsed": false
   },
   "outputs": [
    {
     "data": {
      "text/plain": [
       "[6, 7]"
      ]
     },
     "execution_count": 173,
     "metadata": {},
     "output_type": "execute_result"
    }
   ],
   "source": [
    "vector=np.array([3,4,5,6,-20,-40])\n",
    "numOfArtificialVariables= 2\n",
    "Simplex.calculateWhichAreArtificialVariables(vector,numOfArtificialVariables)"
   ]
  },
  {
   "cell_type": "code",
   "execution_count": 174,
   "metadata": {
    "collapsed": false
   },
   "outputs": [
    {
     "data": {
      "text/plain": [
       "[4, 5]"
      ]
     },
     "execution_count": 174,
     "metadata": {},
     "output_type": "execute_result"
    }
   ],
   "source": [
    "# Si no se han incluido las variables artificiales, supone que son las últimas\n",
    "vector=np.array([3,4,5,6])\n",
    "numOfArtificialVariables= 2\n",
    "Simplex.calculateWhichAreArtificialVariables(vector,numOfArtificialVariables)"
   ]
  },
  {
   "cell_type": "code",
   "execution_count": 175,
   "metadata": {
    "collapsed": false
   },
   "outputs": [
    {
     "data": {
      "text/plain": [
       "[6, 7]"
      ]
     },
     "execution_count": 175,
     "metadata": {},
     "output_type": "execute_result"
    }
   ],
   "source": [
    "vector=np.array([rational(3,2),rational(4,4),rational(5,6),rational(6,9),rational(-20,1),rational(-40,1)])\n",
    "numOfArtificialVariables= 2\n",
    "Simplex.calculateWhichAreArtificialVariables(vector,numOfArtificialVariables)"
   ]
  },
  {
   "cell_type": "code",
   "execution_count": 176,
   "metadata": {
    "collapsed": false
   },
   "outputs": [
    {
     "name": "stdout",
     "output_type": "stream",
     "text": [
      "None\n"
     ]
    }
   ],
   "source": [
    "#Si se introduce algo que no es un array de numpy en el primer valor, o algo que no es un número en el segundo, devuelve None\n",
    "numOfArtificialVariables= 2\n",
    "print(Simplex.calculateWhichAreArtificialVariables(2,numOfArtificialVariables))"
   ]
  },
  {
   "cell_type": "markdown",
   "metadata": {},
   "source": [
    "------"
   ]
  },
  {
   "cell_type": "markdown",
   "metadata": {
    "collapsed": true
   },
   "source": [
    "### *checkValueOfArtificialVariables*"
   ]
  },
  {
   "cell_type": "markdown",
   "metadata": {
    "collapsed": true
   },
   "source": [
    "Este método recibe una lista que contiene las variables artificiales del problema, y en un array de numpy con elementos rational, la solución al mismo. Si los parámetros se introducen correctamente, el método comprueba si alguna de las variables artificiales, toma un valor positivo, y en ese caso las devuelve en una lista(si esto ocurriera el problema no tendría solución). Este método es algo especial, puesto que no sigue le funcionamiento de los demás. En este caso recibe las variables artificiales, pero empezando a contar desde la 0,(en el primer ejemplo entonces, 4 y 5, serán las dos últimas). Sin embargo, las variables que devuelve, son empezando a contar desde la 1. En caso de que los parámetros introducidos no sean correctos(ver ejemplos), devolverá None. Ejemplos:"
   ]
  },
  {
   "cell_type": "code",
   "execution_count": 177,
   "metadata": {
    "collapsed": false
   },
   "outputs": [
    {
     "data": {
      "text/plain": [
       "[3, 4]"
      ]
     },
     "execution_count": 177,
     "metadata": {},
     "output_type": "execute_result"
    }
   ],
   "source": [
    "varArtificial=[4,5]\n",
    "solution=np.array([[rational(34,2)],[rational(56,4)],[rational(7,8)],[rational(89,7)],[rational(3,1)],[rational(9,1)]])\n",
    "Simplex.checkValueOfArtificialVariables(varArtificial,solution)"
   ]
  },
  {
   "cell_type": "code",
   "execution_count": 178,
   "metadata": {
    "collapsed": false
   },
   "outputs": [
    {
     "data": {
      "text/plain": [
       "[3]"
      ]
     },
     "execution_count": 178,
     "metadata": {},
     "output_type": "execute_result"
    }
   ],
   "source": [
    "varArtificial=[4,5]\n",
    "solution=np.array([[rational(34,2)],[rational(56,4)],[rational(7,8)],[rational(89,7)],[rational(-3,1)],[rational(-9,1)]])\n",
    "Simplex.checkValueOfArtificialVariables(varArtificial,solution)"
   ]
  },
  {
   "cell_type": "code",
   "execution_count": 179,
   "metadata": {
    "collapsed": false
   },
   "outputs": [
    {
     "data": {
      "text/plain": [
       "[3]"
      ]
     },
     "execution_count": 179,
     "metadata": {},
     "output_type": "execute_result"
    }
   ],
   "source": [
    "varArtificial=[4,5]\n",
    "solution=np.array([[rational(34,2)],[rational(56,4)],[rational(7,8)],[rational(89,7)],[rational(0,1)],[rational(9,1)]])\n",
    "Simplex.checkValueOfArtificialVariables(varArtificial,solution)"
   ]
  },
  {
   "cell_type": "code",
   "execution_count": 180,
   "metadata": {
    "collapsed": false
   },
   "outputs": [
    {
     "name": "stdout",
     "output_type": "stream",
     "text": [
      "None\n"
     ]
    }
   ],
   "source": [
    "# Si recibe algo que no sea una lista en el primer parámetro o un array de numpy de elementos rational en el segundo, devuelve \n",
    "# None\n",
    "print(Simplex.checkValueOfArtificialVariables(5,solution))"
   ]
  },
  {
   "cell_type": "markdown",
   "metadata": {},
   "source": [
    "------"
   ]
  },
  {
   "cell_type": "markdown",
   "metadata": {
    "collapsed": true
   },
   "source": [
    "### *omitComments*"
   ]
  },
  {
   "cell_type": "markdown",
   "metadata": {
    "collapsed": true
   },
   "source": [
    "Este método recibe una lista de strings, y lo que hace es eliminar aquellas ocurrencias que comiencen por el caracter \"//\" o \"#\". También en aquellas ocurrencias que estos caracteres aparezcan en cualquier parte de la cadena, elimina la subcadena a partir de estos caracteres. Devolverá la lista, ya con estas ocurrencias eliminadas. Se utiliza para eliminar comentarios. En caso de recibir algo que no sea una lista, devuelve None.Ejemplos:"
   ]
  },
  {
   "cell_type": "code",
   "execution_count": 181,
   "metadata": {
    "collapsed": false
   },
   "outputs": [
    {
     "data": {
      "text/plain": [
       "['2 3 4 <=4 ', 'adios']"
      ]
     },
     "execution_count": 181,
     "metadata": {},
     "output_type": "execute_result"
    }
   ],
   "source": [
    "listOfstrings=[\"//hola\",\"2 3 4 <=4 //first\",\"#hola\",\"adios\"]\n",
    "Simplex.omitComments(listOfstrings)"
   ]
  },
  {
   "cell_type": "code",
   "execution_count": 182,
   "metadata": {
    "collapsed": false
   },
   "outputs": [
    {
     "name": "stdout",
     "output_type": "stream",
     "text": [
      "None\n"
     ]
    }
   ],
   "source": [
    "# En caso de no recibir una lista de strings, devuelve None\n",
    "print(Simplex.omitComments([5,3]))"
   ]
  },
  {
   "cell_type": "markdown",
   "metadata": {},
   "source": [
    "------"
   ]
  },
  {
   "cell_type": "markdown",
   "metadata": {
    "collapsed": true
   },
   "source": [
    "### *proccessFile*"
   ]
  },
  {
   "cell_type": "markdown",
   "metadata": {
    "collapsed": true
   },
   "source": [
    "Este método recibe un archivo por parámetro, que debe contener un problema de programación lineal en el siguiente formato:"
   ]
  },
  {
   "cell_type": "raw",
   "metadata": {},
   "source": [
    "max 2 -3  \n",
    "-1 1 <= 2  \n",
    "1 1 <= 4   \n",
    "1 -2 <=1"
   ]
  },
  {
   "cell_type": "markdown",
   "metadata": {},
   "source": [
    "Y devuelve en este orden, la matriz de restricciones en una matriz numpy,el vector de recursos en un array de numpy, los signos de las restricciones en una lista de strings y un string que contiene la función objetivo a optimizar. Para ver como abrir un archivo consultar los ejemplos. Si se le pasa algo que no es un archivo, devuelve None Ejemplos:"
   ]
  },
  {
   "cell_type": "code",
   "execution_count": 184,
   "metadata": {
    "collapsed": false
   },
   "outputs": [
    {
     "name": "stdout",
     "output_type": "stream",
     "text": [
      "[-1 , 1\n",
      "1 , 1\n",
      "1 , -2]\n",
      "[2 , 4 , 1]\n",
      "['<=', '<=', '<=']\n",
      "max 2 -3\n",
      "\n"
     ]
    }
   ],
   "source": [
    "# Introducir aquí la ruta del archivo a abrir\n",
    "file = open('../Files/file2.txt','r')\n",
    "problem=Simplex.proccessFile(file)\n",
    "print(Simplex.printMatrix(problem[0]))\n",
    "print(Simplex.printMatrix(np.asmatrix(problem[1])))\n",
    "print(problem[2])\n",
    "print(problem[3])"
   ]
  },
  {
   "cell_type": "code",
   "execution_count": 185,
   "metadata": {
    "collapsed": false
   },
   "outputs": [
    {
     "name": "stdout",
     "output_type": "stream",
     "text": [
      "None\n"
     ]
    }
   ],
   "source": [
    "#En caso de que se le pase algo que no sea un archivo, devuelve None\n",
    "print(Simplex.proccessFile(4))"
   ]
  },
  {
   "cell_type": "markdown",
   "metadata": {},
   "source": [
    "------"
   ]
  },
  {
   "cell_type": "markdown",
   "metadata": {
    "collapsed": true
   },
   "source": [
    "### *convertFunctionToMax*"
   ]
  },
  {
   "cell_type": "markdown",
   "metadata": {
    "collapsed": true
   },
   "source": [
    "Este método recibe un string que contiene la función objetivo del problema en el siguiente formato:"
   ]
  },
  {
   "cell_type": "markdown",
   "metadata": {},
   "source": [
    "max/min 2 -3"
   ]
  },
  {
   "cell_type": "markdown",
   "metadata": {},
   "source": [
    "El método devuelve en un array de numpy de elementos rational con los coeficientes de la función, en forma de maximización, puesto que es como se utiliza en la forma estándar, luego si introduzco una función de minimización, me devolverá los coeficientes cambiados de signo. En caso de que lo que le pase no sea un string, devuelve None. Ejemplo:"
   ]
  },
  {
   "cell_type": "code",
   "execution_count": 186,
   "metadata": {
    "collapsed": false
   },
   "outputs": [
    {
     "name": "stdout",
     "output_type": "stream",
     "text": [
      "[2 , -3]\n"
     ]
    }
   ],
   "source": [
    "function=\"max 2 -3\"\n",
    "print(Simplex.printMatrix(np.asmatrix(Simplex.convertFunctionToMax(function))))"
   ]
  },
  {
   "cell_type": "code",
   "execution_count": 187,
   "metadata": {
    "collapsed": false
   },
   "outputs": [
    {
     "name": "stdout",
     "output_type": "stream",
     "text": [
      "[-2 , 3]\n"
     ]
    }
   ],
   "source": [
    "function=\"min 2 -3\\n\"\n",
    "print(Simplex.printMatrix(np.asmatrix(Simplex.convertFunctionToMax(function))))"
   ]
  },
  {
   "cell_type": "code",
   "execution_count": 188,
   "metadata": {
    "collapsed": false
   },
   "outputs": [
    {
     "name": "stdout",
     "output_type": "stream",
     "text": [
      "None\n"
     ]
    }
   ],
   "source": [
    "# Si recibe algo que no es un string devuelve None\n",
    "function=\"min 2 -3\\n\"\n",
    "print(Simplex.convertFunctionToMax(3))"
   ]
  },
  {
   "cell_type": "markdown",
   "metadata": {},
   "source": [
    "------"
   ]
  },
  {
   "cell_type": "markdown",
   "metadata": {},
   "source": [
    "### *invertSign*"
   ]
  },
  {
   "cell_type": "markdown",
   "metadata": {},
   "source": [
    "Este método recibe un string que contiene un signo (debe ser <,<=,>,>=,=) y devuelve en otro string su signo opuesto. En caso de no recibir un string por parámetro, devuelve None. Ejemplos:"
   ]
  },
  {
   "cell_type": "code",
   "execution_count": 189,
   "metadata": {
    "collapsed": false
   },
   "outputs": [
    {
     "data": {
      "text/plain": [
       "'>'"
      ]
     },
     "execution_count": 189,
     "metadata": {},
     "output_type": "execute_result"
    }
   ],
   "source": [
    "previousSign=\"<\"\n",
    "Simplex.invertSign(previousSign)"
   ]
  },
  {
   "cell_type": "code",
   "execution_count": 190,
   "metadata": {
    "collapsed": false
   },
   "outputs": [
    {
     "data": {
      "text/plain": [
       "'<'"
      ]
     },
     "execution_count": 190,
     "metadata": {},
     "output_type": "execute_result"
    }
   ],
   "source": [
    "previousSign=\">\"\n",
    "Simplex.invertSign(previousSign)"
   ]
  },
  {
   "cell_type": "code",
   "execution_count": 191,
   "metadata": {
    "collapsed": false
   },
   "outputs": [
    {
     "data": {
      "text/plain": [
       "'>='"
      ]
     },
     "execution_count": 191,
     "metadata": {},
     "output_type": "execute_result"
    }
   ],
   "source": [
    "previousSign=\"<=\"\n",
    "Simplex.invertSign(previousSign)"
   ]
  },
  {
   "cell_type": "code",
   "execution_count": 192,
   "metadata": {
    "collapsed": false
   },
   "outputs": [
    {
     "data": {
      "text/plain": [
       "'<='"
      ]
     },
     "execution_count": 192,
     "metadata": {},
     "output_type": "execute_result"
    }
   ],
   "source": [
    "previousSign=\">=\"\n",
    "Simplex.invertSign(previousSign)"
   ]
  },
  {
   "cell_type": "code",
   "execution_count": 193,
   "metadata": {
    "collapsed": false
   },
   "outputs": [
    {
     "data": {
      "text/plain": [
       "'='"
      ]
     },
     "execution_count": 193,
     "metadata": {},
     "output_type": "execute_result"
    }
   ],
   "source": [
    "previousSign=\"=\"\n",
    "Simplex.invertSign(previousSign)"
   ]
  },
  {
   "cell_type": "code",
   "execution_count": 194,
   "metadata": {
    "collapsed": false
   },
   "outputs": [
    {
     "name": "stdout",
     "output_type": "stream",
     "text": [
      "None\n"
     ]
    }
   ],
   "source": [
    "#Si introduzco algo que no sea un string, me devuelve None\n",
    "previousSign=3\n",
    "print(Simplex.invertSign(previousSign))"
   ]
  },
  {
   "cell_type": "markdown",
   "metadata": {},
   "source": [
    "------"
   ]
  },
  {
   "cell_type": "markdown",
   "metadata": {
    "collapsed": true
   },
   "source": [
    "### *negativeToPositiveResources*"
   ]
  },
  {
   "cell_type": "markdown",
   "metadata": {
    "collapsed": true
   },
   "source": [
    "Este método se utiliza para cambiar a positivos, los recursos que sean negativos, ya que esto no debe darse. Para ello, realiza las transformaciones necesarias, devolviendo un matriz de numpy con elementos rational que contiene las restricciones, un array de numpy con elementos rational que contiene los recursos, y una lista de strings con los signos de cada restricción, con todos los cambios ya realizados. Los parámetros de entrada son los mismos que las salidas que proporciona, pero con las transformaciones sin realizar, es decir, una matriz de numpy, un array de numpy y una lista de strings. Para los recursos que sean positivos, no se realiza transformación alguna, sino que simplemente devuelve lo que recibe. En caso de que los parámetros introducidos no sean correctos(ver ejemplos), devolverá None. Ejemplos:"
   ]
  },
  {
   "cell_type": "code",
   "execution_count": 195,
   "metadata": {
    "collapsed": false
   },
   "outputs": [
    {
     "name": "stdout",
     "output_type": "stream",
     "text": [
      "[1/2 , 2/3 , 4/9\n",
      "-4/3 , -6/2 , -7/4\n",
      "3 , 4/2 , 6/4]\n",
      "[1/4 , 4 , 5/2]\n",
      "['<=', '>', '>']\n"
     ]
    }
   ],
   "source": [
    "matrix=np.matrix([[rational(1,2),rational(2,3),rational(4,9)],[rational(4,3),rational(6,2),rational(7,4)],\n",
    "                  [rational(3,1),rational(4,2),rational(6,4)]])\n",
    "resources=np.array([rational(1,4),rational(-4,1),rational(5,2)])\n",
    "sign=[\"<=\",\"<\",\">\"]\n",
    "std=Simplex.negativeToPositiveResources(matrix,resources,sign)\n",
    "print(Simplex.printMatrix(std[0]))\n",
    "print(Simplex.printMatrix(np.asmatrix(std[1])))\n",
    "print(std[2])"
   ]
  },
  {
   "cell_type": "code",
   "execution_count": 196,
   "metadata": {
    "collapsed": false
   },
   "outputs": [
    {
     "name": "stdout",
     "output_type": "stream",
     "text": [
      "[1/2 , 2/3 , 4/9\n",
      "4/3 , 6/2 , 7/4\n",
      "3 , 4/2 , 6/4]\n",
      "[1/4 , 4 , 5/2]\n",
      "['<=', '<', '>']\n"
     ]
    }
   ],
   "source": [
    "matrix=np.matrix([[rational(1,2),rational(2,3),rational(4,9)],[rational(4,3),rational(6,2),rational(7,4)],\n",
    "                  [rational(3,1),rational(4,2),rational(6,4)]])\n",
    "resources=np.array([rational(1,4),rational(4,1),rational(5,2)])\n",
    "sign=[\"<=\",\"<\",\">\"]\n",
    "std=Simplex.negativeToPositiveResources(matrix,resources,sign)\n",
    "print(Simplex.printMatrix(std[0]))\n",
    "print(Simplex.printMatrix(np.asmatrix(std[1])))\n",
    "print(std[2])"
   ]
  },
  {
   "cell_type": "code",
   "execution_count": 197,
   "metadata": {
    "collapsed": false
   },
   "outputs": [
    {
     "name": "stdout",
     "output_type": "stream",
     "text": [
      "None\n"
     ]
    }
   ],
   "source": [
    "# Si la longitud del vector de recursos, es diferente del número de filas de la matriz, devuelve None\n",
    "matrix=np.matrix([[rational(1,2),rational(2,3),rational(4,9)],[rational(4,3),rational(6,2),rational(7,4)],\n",
    "                  [rational(3,1),rational(4,2),rational(6,4)]])\n",
    "resources=np.array([rational(1,4),rational(-4,1)])\n",
    "sign=[\"<=\",\"<\",\">\"]\n",
    "std=Simplex.negativeToPositiveResources(matrix,resources,sign)\n",
    "print(Simplex.negativeToPositiveResources(matrix,resources,sign))"
   ]
  },
  {
   "cell_type": "code",
   "execution_count": 198,
   "metadata": {
    "collapsed": false
   },
   "outputs": [
    {
     "name": "stdout",
     "output_type": "stream",
     "text": [
      "None\n"
     ]
    }
   ],
   "source": [
    "# Si el número de signos es diferente a la longitud del vector de recursos o diferente del número de filas de la matriz, \n",
    "# devuelve None\n",
    "matrix=np.matrix([[rational(1,2),rational(2,3),rational(4,9)],[rational(4,3),rational(6,2),rational(7,4)],\n",
    "                  [rational(3,1),rational(4,2),rational(6,4)]])\n",
    "resources=np.array([rational(1,4),rational(-4,1),rational(5,2)])\n",
    "sign=[\"<=\",\"<\"]\n",
    "std=Simplex.negativeToPositiveResources(matrix,resources,sign)\n",
    "print(Simplex.negativeToPositiveResources(matrix,resources,sign))"
   ]
  },
  {
   "cell_type": "code",
   "execution_count": 199,
   "metadata": {
    "collapsed": false
   },
   "outputs": [
    {
     "name": "stdout",
     "output_type": "stream",
     "text": [
      "None\n"
     ]
    }
   ],
   "source": [
    "# Si se pasa por parámetro algo que no es una matriz de numpy con elementos rational en el primer parámetro, algo que no es un \n",
    "# array de numpy con elementos rational en el segundo, o algo que no es una lista de strings, en el tercero,devuelve None\n",
    "resources=np.array([1,-4,5])\n",
    "sign=[\"<=\",\"<\",\">\"]\n",
    "print(Simplex.negativeToPositiveResources(matrix,resources,sign))"
   ]
  },
  {
   "cell_type": "markdown",
   "metadata": {},
   "source": [
    "------"
   ]
  },
  {
   "cell_type": "markdown",
   "metadata": {},
   "source": [
    "### *convertToStandardForm*"
   ]
  },
  {
   "cell_type": "markdown",
   "metadata": {},
   "source": [
    "Este método recibe una martriz de numpy con elementos rational que contendrá las restricciones del problema, un array de numpy con elementos rational, que contendrá el vector de recursos, una lista de strings que contiene los signos de las restricciones y un string que contendrá la función en el formato \"max/min 2 -3\". Si todos los parámetros introducidos son correctos, el método devolverá los parámetros que ha recibido, pero transformados a la forma estándar(en el caso de la función la devuelve ya en un array de numpy con elementos rational, en su forma de maximización). En caso de que los parámetros introducidos no sean correctos(ver ejemplos), devolverá None. Ejemplos:"
   ]
  },
  {
   "cell_type": "code",
   "execution_count": 200,
   "metadata": {
    "collapsed": false
   },
   "outputs": [
    {
     "name": "stdout",
     "output_type": "stream",
     "text": [
      "[3 , 2 , 1 , 1 , 0\n",
      "2 , 5 , 3 , 0 , -1]\n",
      "[10 , 15]\n",
      "['=', '=']\n",
      "[2 , 3 , 4 , 0 , 0]\n"
     ]
    }
   ],
   "source": [
    "matrix=np.matrix([[rational(3,1),rational(2,1),rational(1,1)],[rational(2,1),rational(5,1),rational(3,1)]])\n",
    "resources=np.array([rational(10,1),rational(15,1)])\n",
    "sign=[\"<=\",\">=\"]\n",
    "function=\"min -2 -3 -4 \"\n",
    "std=Simplex.convertToStandardForm(matrix,resources,sign,function)\n",
    "print(Simplex.printMatrix(std[0]))\n",
    "print(Simplex.printMatrix(np.asmatrix(std[1])))\n",
    "print(std[2])\n",
    "print(Simplex.printMatrix(np.asmatrix(std[3])))"
   ]
  },
  {
   "cell_type": "code",
   "execution_count": 201,
   "metadata": {
    "collapsed": false
   },
   "outputs": [
    {
     "name": "stdout",
     "output_type": "stream",
     "text": [
      "None\n"
     ]
    }
   ],
   "source": [
    "# Si la longitud del vector de recursos, es diferente del número de filas de la matriz, devuelve None\n",
    "matrix=np.matrix([[rational(3,1),rational(2,1),rational(1,1)],[rational(2,1),rational(5,1),rational(3,1)]])\n",
    "resources=np.array([rational(10,1),rational(15,1),rational(52,1)])\n",
    "sign=[\"<=\",\">=\"]\n",
    "function=\"min -2 -3 -4 \"\n",
    "print(Simplex.convertToStandardForm(matrix,resources,sign,function))"
   ]
  },
  {
   "cell_type": "code",
   "execution_count": 202,
   "metadata": {
    "collapsed": false
   },
   "outputs": [
    {
     "name": "stdout",
     "output_type": "stream",
     "text": [
      "None\n"
     ]
    }
   ],
   "source": [
    "# Si el número de signos es diferente a la longitud del vector de recursos o diferente del número de filas de la matriz, \n",
    "# devuelve None\n",
    "matrix=np.matrix([[rational(3,1),rational(2,1),rational(1,1)],[rational(2,1),rational(5,1),rational(3,1)]])\n",
    "resources=np.array([rational(10,1),rational(15,1)])\n",
    "sign=[\"<=\",\">=\",\"=\"]\n",
    "function=\"min -2 -3 -4 \"\n",
    "print(Simplex.convertToStandardForm(matrix,resources,sign,function))"
   ]
  },
  {
   "cell_type": "code",
   "execution_count": 203,
   "metadata": {
    "collapsed": false
   },
   "outputs": [
    {
     "name": "stdout",
     "output_type": "stream",
     "text": [
      "None\n"
     ]
    }
   ],
   "source": [
    "# Si se pasa por parámetro algo que no es una matriz de numpy con elementos rational en el primer parámetro, algo que no es un \n",
    "# array de numpy con elementos rational en el segundo,algo que no es una lista de strings en el tercero o algo que no es un\n",
    "# string en el cuarto,devuelve None\n",
    "matrix=np.matrix([[rational(3,1),rational(2,1),rational(1,1)],[rational(2,1),rational(5,1),rational(3,1)]])\n",
    "resources=np.array([rational(10,1),rational(15,1)])\n",
    "function=\"min -2 -3 -4 \"\n",
    "print(Simplex.convertToStandardForm(matrix,resources,[4,0],function))"
   ]
  },
  {
   "cell_type": "markdown",
   "metadata": {},
   "source": [
    "------"
   ]
  },
  {
   "cell_type": "markdown",
   "metadata": {},
   "source": [
    "### *showStandarForm*"
   ]
  },
  {
   "cell_type": "markdown",
   "metadata": {},
   "source": [
    "Este método recibe una matriz de numpy con elementos rational que es la matriz de coeficientes, un array de numpy con elementos rational que es el vector de recursos y un array de numpy con elementos rational que es el vector de la función a optimizar. Todos los parámetros son introducidos en forma estándar y son mostrados, en un formato más visual. En caso de que los parámetros introducidos no sean correctos(ver ejemplos), devolverá None. Ejemplos:"
   ]
  },
  {
   "cell_type": "code",
   "execution_count": 204,
   "metadata": {
    "collapsed": false
   },
   "outputs": [
    {
     "name": "stdout",
     "output_type": "stream",
     "text": [
      "max[14/6 , 25/2]\n",
      "\n",
      "[3 , 2 , 1] = 10\n",
      "[2 , 5 , 3] = 15\n",
      "\n",
      "\n"
     ]
    }
   ],
   "source": [
    "matrix=np.matrix([[rational(3,1),rational(2,1),rational(1,1)],[rational(2,1),rational(5,1),rational(3,1)]])\n",
    "resources=np.array([rational(10,1),rational(15,1)])\n",
    "function=np.array([rational(14,6),rational(25,2)])\n",
    "Simplex.showStandarForm(matrix,resources,function)"
   ]
  },
  {
   "cell_type": "code",
   "execution_count": 205,
   "metadata": {
    "collapsed": false
   },
   "outputs": [
    {
     "name": "stdout",
     "output_type": "stream",
     "text": [
      "None\n"
     ]
    }
   ],
   "source": [
    "# Si recibe algo que no es una matriz de numpy con elementos rational, en el primer parámetro, algo que no es un array de numpy \n",
    "# con elementos rational en el segundo y tercer parámetro, devuelve None\n",
    "function=np.array([3,4])\n",
    "print(Simplex.showStandarForm(matrix,resources,function))"
   ]
  },
  {
   "cell_type": "markdown",
   "metadata": {},
   "source": [
    "------"
   ]
  },
  {
   "cell_type": "markdown",
   "metadata": {},
   "source": [
    "### *solveProblem*"
   ]
  },
  {
   "cell_type": "markdown",
   "metadata": {},
   "source": [
    "Este método resuelve el problema de programación lineal que se le pasa por parámetro. Para ello, recibe una matriz de numpy con elementos rational que contiene las restricciones, sin signos ni recursos, un array de numpy con elementos rational que contiene los recursos, una lista de strings, que contienen los signos de las restricciones, un string que contiene la función en el formato \"max/min 2 -3\" y un valor True o False, que determina si se quiere obtener también la solución del problema dual al introducido. El método devuelve en este orden la solución del problema(valor de las variables),el valor de la función objetivo para esa solución, una explicación del tipo de problema y el valor de las variables de la solución del problema dual, en caso de que se introduzca True, como último parámetro. No es necesario que se introduzca el problema en forma estándar puesto que el método ya realiza la transformación internamente.En caso de que los parámetros introducidos no sean correctos(ver ejemplos), devolverá None. Ejemplos:"
   ]
  },
  {
   "cell_type": "code",
   "execution_count": 206,
   "metadata": {
    "collapsed": false
   },
   "outputs": [
    {
     "name": "stdout",
     "output_type": "stream",
     "text": [
      "Problem in standard form:\n",
      "max[2 , 1 , 0 , 0 , -10 , -20]\n",
      "\n",
      "[2 , 1 , 1 , 0 , 0 , 0] = 18\n",
      "[1 , -1 , 0 , -1 , 1 , 0] = 8\n",
      "[5 , 2 , 0 , 0 , 0 , 1] = 0\n",
      "\n",
      "\n",
      "Iteration#0\n",
      "The variables of this iteration are [2 4 5]\n",
      "\n",
      "B = [1 , 0 , 0\n",
      "0 , 1 , 0\n",
      "0 , 0 , 1]\n",
      "\n",
      "invB = [1 , 0 , 0\n",
      "0 , 1 , 0\n",
      "0 , 0 , 1]\n",
      "\n",
      "x = inv(B)*b = [18\n",
      "8\n",
      "0]\n",
      "\n",
      "CB = [0 , -10 , -20]\n",
      "\n",
      "z = CB*x = -80\n",
      "\n",
      "y0 = inv(B)*a0 = [2 , 1 , 5]\n",
      "\n",
      "y1 = inv(B)*a1 = [1 , -1 , 2]\n",
      "\n",
      "y3 = inv(B)*a3 = [0 , -1 , 0]\n",
      "\n",
      "Input rule:\n",
      "\n",
      "Z_C0 = CB*y0- C0 = -112\n",
      "\n",
      "Z_C1 = CB*y1- C1 = -31\n",
      "\n",
      "Z_C3 = CB*y3- C3 = 10\n",
      "\n",
      "The problem is not finished. There is another iteration,because there is at least one negative reduced cost.\n",
      "\n",
      "The variable which enters in the next iteration is 0\n",
      "\n",
      "Output rule:\n",
      "\n",
      "O = min {[9 , 8 , 0]}\n",
      "\n",
      "O = 0\n",
      "\n",
      "The variable which exits in this iteration is 5\n",
      "\n",
      "5\n",
      "Iteration#1\n",
      "The variables of this iteration are [ 0.  2.  4.]\n",
      "\n",
      "B = [2 , 1 , 0\n",
      "1 , 0 , 1\n",
      "5 , 0 , 0]\n",
      "\n",
      "invB = [0 , 0 , 1/5\n",
      "1 , 0 , -2/5\n",
      "0 , 1 , -1/5]\n",
      "\n",
      "x = inv(B)*b = [0\n",
      "18\n",
      "8]\n",
      "\n",
      "CB = [2 , 0 , -10]\n",
      "\n",
      "z = CB*x = -80\n",
      "\n",
      "y1 = inv(B)*a1 = [2/5 , 1/5 , -7/5]\n",
      "\n",
      "y3 = inv(B)*a3 = [0 , 0 , -1]\n",
      "\n",
      "y5 = inv(B)*a5 = [1/5 , -2/5 , -1/5]\n",
      "\n",
      "Input rule:\n",
      "\n",
      "Z_C1 = CB*y1- C1 = 69/5\n",
      "\n",
      "Z_C3 = CB*y3- C3 = 10\n",
      "\n",
      "Z_C5 = CB*y5- C5 = 112/5\n",
      "\n",
      "The problem is finished, because there is not any negative reduced cost.\n",
      "\n",
      "[0\n",
      "0\n",
      "18\n",
      "0\n",
      "8\n",
      "0]\n",
      "[-80]\n",
      "There is a unique solution.\n"
     ]
    }
   ],
   "source": [
    "# Si se pasa False no devuelve la solución dual\n",
    "matrix=np.matrix([[rational(2,1),rational(1,1)],[rational(1,1),rational(-1,1)],[rational(5,1),rational(2,1)]])\n",
    "resources=np.array([rational(18,1),rational(8,1),rational(0,1)])\n",
    "signs=[\"<=\",\"<=\",\">=\"]\n",
    "function=\"max 2 1\"\n",
    "solutionOfDualProblem=False\n",
    "sol=Simplex.solveProblem(matrix,resources,sign,function,solutionOfDualProblem)\n",
    "print(Simplex.printMatrix(np.asmatrix(sol[0])))\n",
    "print(Simplex.printMatrix(sol[1]))\n",
    "print(sol[2])"
   ]
  },
  {
   "cell_type": "code",
   "execution_count": 207,
   "metadata": {
    "collapsed": false,
    "scrolled": true
   },
   "outputs": [
    {
     "name": "stdout",
     "output_type": "stream",
     "text": [
      "Problem in standard form:\n",
      "max[2 , 1 , -10 , -20 , -40]\n",
      "\n",
      "[2 , 1 , 1 , 0 , 0] = 18\n",
      "[1 , -1 , 0 , 1 , 0] = 8\n",
      "[5 , 2 , 0 , 0 , 1] = 0\n",
      "\n",
      "\n",
      "Iteration#0\n",
      "The variables of this iteration are [2 3 4]\n",
      "\n",
      "B = [1 , 0 , 0\n",
      "0 , 1 , 0\n",
      "0 , 0 , 1]\n",
      "\n",
      "invB = [1 , 0 , 0\n",
      "0 , 1 , 0\n",
      "0 , 0 , 1]\n",
      "\n",
      "x = inv(B)*b = [18\n",
      "8\n",
      "0]\n",
      "\n",
      "CB = [-10 , -20 , -40]\n",
      "\n",
      "z = CB*x = -340\n",
      "\n",
      "y0 = inv(B)*a0 = [2 , 1 , 5]\n",
      "\n",
      "y1 = inv(B)*a1 = [1 , -1 , 2]\n",
      "\n",
      "Input rule:\n",
      "\n",
      "Z_C0 = CB*y0- C0 = -242\n",
      "\n",
      "Z_C1 = CB*y1- C1 = -71\n",
      "\n",
      "The problem is not finished. There is another iteration,because there is at least one negative reduced cost.\n",
      "\n",
      "The variable which enters in the next iteration is 0\n",
      "\n",
      "Output rule:\n",
      "\n",
      "O = min {[9 , 8 , 0]}\n",
      "\n",
      "O = 0\n",
      "\n",
      "The variable which exits in this iteration is 4\n",
      "\n",
      "4\n",
      "Iteration#1\n",
      "The variables of this iteration are [ 0.  2.  3.]\n",
      "\n",
      "B = [2 , 1 , 0\n",
      "1 , 0 , 1\n",
      "5 , 0 , 0]\n",
      "\n",
      "invB = [0 , 0 , 1/5\n",
      "1 , 0 , -2/5\n",
      "0 , 1 , -1/5]\n",
      "\n",
      "x = inv(B)*b = [0\n",
      "18\n",
      "8]\n",
      "\n",
      "CB = [2 , -10 , -20]\n",
      "\n",
      "z = CB*x = -340\n",
      "\n",
      "y1 = inv(B)*a1 = [2/5 , 1/5 , -7/5]\n",
      "\n",
      "y4 = inv(B)*a4 = [1/5 , -2/5 , -1/5]\n",
      "\n",
      "Input rule:\n",
      "\n",
      "Z_C1 = CB*y1- C1 = 129/5\n",
      "\n",
      "Z_C4 = CB*y4- C4 = 242/5\n",
      "\n",
      "The problem is finished, because there is not any negative reduced cost.\n",
      "\n",
      "[0\n",
      "0\n",
      "18\n",
      "8\n",
      "0]\n",
      "[-340]\n",
      "There is a unique solution.\n",
      "[-10\n",
      "0\n",
      "-20\n",
      "42/5\n",
      "0]\n"
     ]
    }
   ],
   "source": [
    "# Si se pasa True devolverá la soución dual\n",
    "matrix=np.matrix([[rational(2,1),rational(1,1)],[rational(1,1),rational(-1,1)],[rational(5,1),rational(2,1)]])\n",
    "resources=np.array([rational(18,1),rational(8,1),rational(0,1)])\n",
    "signs=[\"<=\",\"<=\",\">=\"]\n",
    "function=\"max 2 1\"\n",
    "solutionOfDualProblem=True\n",
    "sol=Simplex.solveProblem(matrix,resources,sign,function,solutionOfDualProblem)\n",
    "print(Simplex.printMatrix(np.asmatrix(sol[0])))\n",
    "print(Simplex.printMatrix(sol[1]))\n",
    "print(sol[2])\n",
    "print(Simplex.printMatrix(np.asmatrix(sol[3])))"
   ]
  },
  {
   "cell_type": "code",
   "execution_count": 208,
   "metadata": {
    "collapsed": false
   },
   "outputs": [
    {
     "name": "stdout",
     "output_type": "stream",
     "text": [
      "None\n"
     ]
    }
   ],
   "source": [
    "# Si la longitud del vector de recursos, es diferente del número de filas de la matriz, devuelve None\n",
    "matrix=np.matrix([[rational(2,1),rational(1,1)],[rational(1,1),rational(-1,1)],[rational(5,1),rational(2,1)]])\n",
    "resources=np.array([rational(18,1),rational(8,1)])\n",
    "signs=[\"<=\",\"<=\",\">=\"]\n",
    "function=\"max 2 1\"\n",
    "solutionOfDualProblem=True\n",
    "print(Simplex.solveProblem(matrix,resources,sign,function,solutionOfDualProblem))"
   ]
  },
  {
   "cell_type": "code",
   "execution_count": 209,
   "metadata": {
    "collapsed": false
   },
   "outputs": [
    {
     "name": "stdout",
     "output_type": "stream",
     "text": [
      "None\n"
     ]
    }
   ],
   "source": [
    "# Si el número de signos es diferente a la longitud del vector de recursos o diferente del número de filas de la matriz, \n",
    "# devuelve None\n",
    "matrix=np.matrix([[rational(2,1),rational(1,1)],[rational(1,1),rational(-1,1)],[rational(5,1),rational(2,1)]])\n",
    "resources=np.array([rational(18,1),rational(8,1),rational(0,1)])\n",
    "sign=[\"<=\",\"<=\",\">=\",\"=\"]\n",
    "function=\"max 2 1\"\n",
    "solutionOfDualProblem=True\n",
    "print(Simplex.solveProblem(matrix,resources,sign,function,solutionOfDualProblem))"
   ]
  },
  {
   "cell_type": "code",
   "execution_count": 210,
   "metadata": {
    "collapsed": false
   },
   "outputs": [
    {
     "name": "stdout",
     "output_type": "stream",
     "text": [
      "None\n"
     ]
    }
   ],
   "source": [
    "# Si se pasa por parámetro algo que no es una matriz de numpy con elementos rational en el primer parámetro, algo que no es un \n",
    "# array de numpy con elementos rational en el segundo,algo que no es una lista de strings en el tercero,algo que no es un string\n",
    "# en el cuarto o algo que no sea True o False en el quinto,devuelve None\n",
    "matrix=np.matrix([[2,1],[1,-1],[5,2]])\n",
    "resources=np.array([18,8,4])\n",
    "sign=[\"<=\",\"<=\",\">=\"]\n",
    "function=\"max 2 1\"\n",
    "print(Simplex.solveProblem(matrix,resources,sign,function,True))"
   ]
  },
  {
   "cell_type": "markdown",
   "metadata": {},
   "source": [
    "------"
   ]
  },
  {
   "cell_type": "markdown",
   "metadata": {},
   "source": [
    "### *dualProblem*"
   ]
  },
  {
   "cell_type": "markdown",
   "metadata": {},
   "source": [
    "Este método recibe un problema de programación lineal y devuelve el problema dual del pasado por parámetro. Para ello, recibe una matriz de numpy con elementos rational que contiene las restricciones, sin signos ni recursos, un array de numpy  con elementos rational que contiene los recursos, una lista de strings, que contienen los signos de las restricciones y un string que contiene la función en el formato \"max/min 2 -3\". El método devuelve el problema dual en este orden una matriz de numpy que contiene las restricciones, sin signos ni recursos, un array de numpy que contiene los recursos, una lista de strings, que contienen los signos de las restricciones y un string que contiene la función en el formato \"max/min 2 -3\".  No es necesario que se introduzca el problema en forma estándar(tampoco en forma simétrica de maximización) puesto que el método ya realiza la transformación internamente.  En caso de que los parámetros introducidos no sean correctos(ver ejemplos), devolverá None. Ejemplos:"
   ]
  },
  {
   "cell_type": "code",
   "execution_count": 211,
   "metadata": {
    "collapsed": false,
    "scrolled": true
   },
   "outputs": [
    {
     "name": "stdout",
     "output_type": "stream",
     "text": [
      "[2 , 1 , -5\n",
      "1 , -1 , -2]\n",
      "[2\n",
      "1]\n",
      "['<=', '<=']\n",
      "min 18 8 0 \n"
     ]
    }
   ],
   "source": [
    "matrix=np.matrix([[rational(2,1),rational(1,1)],[rational(1,1),rational(-1,1)],[rational(5,1),rational(2,1)]])\n",
    "resources=np.array([rational(18,1),rational(8,1),rational(0,1)])\n",
    "sign=[\"<=\",\"<=\",\">=\"]\n",
    "function=\"max 2 1\"\n",
    "dual=Simplex.dualProblem(matrix,resources,sign,function)\n",
    "print(Simplex.printMatrix(dual[0]))\n",
    "print(Simplex.printMatrix(np.asmatrix(dual[1])))\n",
    "print(dual[2])\n",
    "print(dual[3])"
   ]
  },
  {
   "cell_type": "code",
   "execution_count": 212,
   "metadata": {
    "collapsed": false
   },
   "outputs": [
    {
     "name": "stdout",
     "output_type": "stream",
     "text": [
      "None\n"
     ]
    }
   ],
   "source": [
    "# Si la longitud del vector de recursos, es diferente del número de filas de la matriz, devuelve None\n",
    "matrix=np.matrix([[rational(2,1),rational(1,1)],[rational(1,1),rational(-1,1)],[rational(5,1),rational(2,1)]])\n",
    "resources=np.array([rational(18,1),rational(8,1)])\n",
    "sign=[\"<=\",\"<=\",\">=\"]\n",
    "function=\"max 2 1\"\n",
    "print(Simplex.dualProblem(matrix,resources,sign,function))"
   ]
  },
  {
   "cell_type": "code",
   "execution_count": 213,
   "metadata": {
    "collapsed": false
   },
   "outputs": [
    {
     "name": "stdout",
     "output_type": "stream",
     "text": [
      "None\n"
     ]
    }
   ],
   "source": [
    "# Si el número de signos es diferente a la longitud del vector de recursos o diferente del número de filas de la matriz, \n",
    "# devuelve None\n",
    "matrix=np.matrix([[rational(2,1),rational(1,1)],[rational(1,1),rational(-1,1)],[rational(5,1),rational(2,1)]])\n",
    "resources=np.array([rational(18,1),rational(8,1),rational(0,1)])\n",
    "sign=[\"<=\",\"<=\",\">=\",\"<=\"]\n",
    "function=\"max 2 1\"\n",
    "print(Simplex.dualProblem(matrix,resources,sign,function))"
   ]
  },
  {
   "cell_type": "code",
   "execution_count": 214,
   "metadata": {
    "collapsed": false
   },
   "outputs": [
    {
     "name": "stdout",
     "output_type": "stream",
     "text": [
      "None\n"
     ]
    }
   ],
   "source": [
    "# Si se pasa por parámetro algo que no es una matriz de numpy con elementos rational en el primer parámetro, algo que no es un \n",
    "# array de numpy  con elementos rational en el segundo,algo que no es una lista de strings en el tercero o algo que no es un \n",
    "# string en el cuarto \n",
    "matrix=np.matrix([[2,1,4],[6,-4,-7],[8,12,9]])\n",
    "resources=np.array([[1],[8],[10]])\n",
    "sign=[\"<=\",\"<=\",\">=\"]\n",
    "function=\"min 3 10 0\"\n",
    "print(Simplex.dualProblem(matrix,resources,sign,function))"
   ]
  },
  {
   "cell_type": "markdown",
   "metadata": {},
   "source": [
    "------"
   ]
  },
  {
   "cell_type": "markdown",
   "metadata": {},
   "source": [
    "### *calculateSolutionOfDualProblem*"
   ]
  },
  {
   "cell_type": "markdown",
   "metadata": {},
   "source": [
    "Este método recibe las columnas o variables de la última iteración del problema en un array de numpy, el vector de la función en su forma de maximización en un array de numpy, y la matriz inicial con las restricciones del problema, en una matriz de numpy. Es necesario que tanto la matriz como la función, se encuentren en la forma estándar. Si la introducción de parámetros es correcta, se devuelve la solución del problema dual, en un array de numpy. En caso de que los parámetros introducidos no sean correctos(ver ejemplos), devolverá None. Ejemplos:"
   ]
  },
  {
   "cell_type": "code",
   "execution_count": 215,
   "metadata": {
    "collapsed": false
   },
   "outputs": [
    {
     "name": "stdout",
     "output_type": "stream",
     "text": [
      "[0\n",
      "0\n",
      "0\n",
      "0\n",
      "3/2]\n"
     ]
    }
   ],
   "source": [
    "colsOfIteration=np.array([3,4,1])\n",
    "totalMatrix = np.matrix([[rational(2,1),rational(3,1),rational(4,1),rational(0,1),rational(1,1)],\n",
    "                         [rational(3,1),rational(4,1),rational(7,1),rational(0,1),rational(0,1)],[rational(2,1),rational(6,1),\n",
    "                        rational(7,1),rational(1,1),rational(0,1)]])\n",
    "function=np.array([rational(3,1),rational(6,1),rational(-7,1),rational(0,1),rational(0,1)])\n",
    "print(Simplex.printMatrix(np.asmatrix(Simplex.calculateSolutionOfDualProblem(colsOfIteration,function,\n",
    "                                                                                             totalMatrix))))"
   ]
  },
  {
   "cell_type": "code",
   "execution_count": 216,
   "metadata": {
    "collapsed": false
   },
   "outputs": [
    {
     "name": "stdout",
     "output_type": "stream",
     "text": [
      "None\n"
     ]
    }
   ],
   "source": [
    "# Si se pasa un número mayor de columnas(variables) del que hay en la matriz o en la función devuelve None\n",
    "colsOfIteration=np.array([3,4,1,5,6,2])\n",
    "totalMatrix = np.matrix([[rational(2,1),rational(3,1),rational(4,1),rational(0,1),rational(1,1)],\n",
    "                         [rational(3,1),rational(4,1),rational(7,1),rational(0,1),rational(0,1)],[rational(2,1),rational(6,1),\n",
    "                        rational(7,1),rational(1,1),rational(0,1)]])\n",
    "function=np.array([rational(3,1),rational(6,1),rational(-7,1),rational(0,1),rational(0,1)])\n",
    "print(Simplex.calculateSolutionOfDualProblem(colsOfIteration,function,totalMatrix))"
   ]
  },
  {
   "cell_type": "code",
   "execution_count": 217,
   "metadata": {
    "collapsed": false
   },
   "outputs": [
    {
     "name": "stdout",
     "output_type": "stream",
     "text": [
      "None\n"
     ]
    }
   ],
   "source": [
    "# Si el número de columnas(variables) de la función es mayor que el de la matriz, devuelve None\n",
    "colsOfIteration=np.array([3,4,1])\n",
    "totalMatrix = np.matrix([[rational(2,1),rational(3,1),rational(4,1),rational(0,1),rational(1,1)],\n",
    "                         [rational(3,1),rational(4,1),rational(7,1),rational(0,1),rational(0,1)],[rational(2,1),rational(6,1),\n",
    "                        rational(7,1),rational(1,1),rational(0,1)]])\n",
    "function=np.array([rational(3,1),rational(6,1),rational(-7,1),rational(0,1),rational(0,1),rational(7,1)])\n",
    "print(Simplex.calculateSolutionOfDualProblem(colsOfIteration,function,totalMatrix))"
   ]
  },
  {
   "cell_type": "code",
   "execution_count": 218,
   "metadata": {
    "collapsed": false
   },
   "outputs": [
    {
     "name": "stdout",
     "output_type": "stream",
     "text": [
      "None\n"
     ]
    }
   ],
   "source": [
    "# Si se pasa algo que no es un array de numpy en el primer o el segundo parámetro(este debe ser de elementos rational), o algo \n",
    "# que no es una matriz de numpy con elementos rational en el tercero, devuelve None\n",
    "colsOfIteration=np.array([3,4,1])\n",
    "totalMatrix = np.matrix([[2,3,4,0,1],[3,4,7,0,0],[2,6,7,1,0]])\n",
    "function=np.array([3,6,-7,0,0,4])\n",
    "print(Simplex.calculateSolutionOfDualProblem(colsOfIteration,function,totalMatrix))"
   ]
  },
  {
   "cell_type": "markdown",
   "metadata": {},
   "source": [
    "------"
   ]
  },
  {
   "cell_type": "markdown",
   "metadata": {
    "collapsed": true
   },
   "source": [
    "## Solución gráfica"
   ]
  },
  {
   "cell_type": "markdown",
   "metadata": {},
   "source": [
    "### *convertToPlotFunction*  "
   ]
  },
  {
   "cell_type": "markdown",
   "metadata": {},
   "source": [
    "Este método transforma una restricción en una función para ser representada. Para ello, recibe un array de numpy que contiene la restricción(todos los coeficientes deben ser rational), sin signo ni recurso,un string que contiene el signo, un rational que es el recurso que contiene los recursos, y una variable que será el linespace para su representación. Además de devolver la función, devuelve un string, con la función. Si el valor de y en la restricción es 0, devuelve un rational, en lugar de una función. En caso de que los parámetros introducidos no sean correctos(ver ejemplos), devolverá None. Ejemplos:"
   ]
  },
  {
   "cell_type": "code",
   "execution_count": 219,
   "metadata": {
    "collapsed": false
   },
   "outputs": [
    {
     "data": {
      "text/plain": [
       "(<function PySimplex.Simplex.convertToPlotFunction.<locals>.<lambda>>,\n",
       " '3/4x + 2y <=4')"
      ]
     },
     "execution_count": 219,
     "metadata": {},
     "output_type": "execute_result"
    }
   ],
   "source": [
    "# Si se le pasa todo correcto, devuelve una función, y un string con la función\n",
    "lineOfMatrix=np.array([rational(3,4),rational(2,1)])\n",
    "sign=\"<=\"\n",
    "resource=rational(4,1)\n",
    "x = np.linspace(0, 10)\n",
    "Simplex.convertToPlotFunction(lineOfMatrix, sign, resource, x)"
   ]
  },
  {
   "cell_type": "code",
   "execution_count": 220,
   "metadata": {
    "collapsed": false
   },
   "outputs": [
    {
     "data": {
      "text/plain": [
       "(5.333333333333333, '3/4x<=4')"
      ]
     },
     "execution_count": 220,
     "metadata": {},
     "output_type": "execute_result"
    }
   ],
   "source": [
    "# Si se le pasa una restricción con la segunda componente 0, devuelve un número\n",
    "lineOfMatrix=np.array([rational(3,4),rational(0,1)])\n",
    "sign=\"<=\"\n",
    "resource=rational(4,1)\n",
    "x = np.linspace(0, 10)\n",
    "Simplex.convertToPlotFunction(lineOfMatrix, sign, resource, x)"
   ]
  },
  {
   "cell_type": "code",
   "execution_count": 221,
   "metadata": {
    "collapsed": false
   },
   "outputs": [
    {
     "name": "stdout",
     "output_type": "stream",
     "text": [
      "None\n"
     ]
    }
   ],
   "source": [
    "# Si se le pasa una restricción que no tiene 2 componentes o tiene más de 2,devuelve None\n",
    "lineOfMatrix=np.array([rational(3,4)])\n",
    "print(Simplex.convertToPlotFunction(lineOfMatrix, sign,\n",
    "                                            resource, x))"
   ]
  },
  {
   "cell_type": "code",
   "execution_count": 222,
   "metadata": {
    "collapsed": false
   },
   "outputs": [
    {
     "name": "stdout",
     "output_type": "stream",
     "text": [
      "None\n"
     ]
    }
   ],
   "source": [
    "# Si se le pasa algo que no es un array de numpy de rational en el primer parámetro, algo que no es un string en el segundo, algo\n",
    "#que no es un rational en el tercero o algo que no es un array de numpy en el tercero,devuelve None\n",
    "\n",
    "print(Simplex.convertToPlotFunction(lineOfMatrix, sign,\n",
    "                                            4, x))"
   ]
  },
  {
   "cell_type": "markdown",
   "metadata": {},
   "source": [
    "------"
   ]
  },
  {
   "cell_type": "markdown",
   "metadata": {},
   "source": [
    "### * showFunction*"
   ]
  },
  {
   "cell_type": "markdown",
   "metadata": {},
   "source": [
    "Este método recibe una función y la representa. Para ello recibe una función,o un número si la función es de tipo y=n, una variable que será el linespace para representarlo y un string que será la etiqueta que se le dará a la función. Es necesario después de ejecutar este método hacer plt.show(). En caso de que los parámetros introducidos no sean correctos(ver ejemplos), devolverá None. Ejemplos:"
   ]
  },
  {
   "cell_type": "code",
   "execution_count": 223,
   "metadata": {
    "collapsed": false
   },
   "outputs": [
    {
     "data": {
      "image/png": "[encoded data removed]",
      "text/plain": [
       "<matplotlib.figure.Figure at 0xc4bf10>"
      ]
     },
     "metadata": {},
     "output_type": "display_data"
    }
   ],
   "source": [
    "% matplotlib inline\n",
    "import matplotlib.pyplot as plt\n",
    "function=lambda x: 3*x+1\n",
    "x=np.linspace(0, 10)\n",
    "label=\"3x+1 = 2\"\n",
    "Simplex.showFunction(function, x, label)\n",
    "plt.show()"
   ]
  },
  {
   "cell_type": "code",
   "execution_count": 224,
   "metadata": {
    "collapsed": false
   },
   "outputs": [
    {
     "data": {
      "image/png": "[encoded data removed]",
      "text/plain": [
       "<matplotlib.figure.Figure at 0x68fd930>"
      ]
     },
     "metadata": {},
     "output_type": "display_data"
    }
   ],
   "source": [
    "# Se le puede pasar un número si la función es de tipo y=n\n",
    "x=np.linspace(0, 10)\n",
    "label=\"3x+1 = 2\"\n",
    "Simplex.showFunction(4,x, label)\n",
    "plt.show()"
   ]
  },
  {
   "cell_type": "code",
   "execution_count": 225,
   "metadata": {
    "collapsed": false
   },
   "outputs": [
    {
     "name": "stdout",
     "output_type": "stream",
     "text": [
      "None\n"
     ]
    }
   ],
   "source": [
    "# Si se le pasa algo que no es una función o un número en el primer elemento, algo que no es un array de numpy en el segundo, o \n",
    "# algo que no es un string en el tercero, devuelve None\n",
    "print(Simplex.showFunction(np.array([3,4,5]),x, label))"
   ]
  },
  {
   "cell_type": "markdown",
   "metadata": {},
   "source": [
    "------"
   ]
  },
  {
   "cell_type": "markdown",
   "metadata": {},
   "source": [
    "### * eliminateRepeatedPoints*"
   ]
  },
  {
   "cell_type": "markdown",
   "metadata": {},
   "source": [
    "Este método recibe una lista de puntos(en forma de tupla) y devuelve la misma lista, con los puntos repetidos eliminados. Con enteros y rational, funciona exactamente, no así con float si los números tienen muchos decimales, puesto que podría considerar por ejemplo 5.33333 y 5.33334 como dos números distintos, cuando podrían ser el mismo. En caso de no recibir una lista, devuelve None. Ejemplos:"
   ]
  },
  {
   "cell_type": "code",
   "execution_count": 226,
   "metadata": {
    "collapsed": false
   },
   "outputs": [
    {
     "data": {
      "text/plain": [
       "[(<PySimplex.rational.rational at 0x68fdf50>,\n",
       "  <PySimplex.rational.rational at 0x68fd270>),\n",
       " (<PySimplex.rational.rational at 0x68fdfd0>,\n",
       "  <PySimplex.rational.rational at 0x68fdf70>),\n",
       " (<PySimplex.rational.rational at 0x68fd7f0>,\n",
       "  <PySimplex.rational.rational at 0x68fd550>)]"
      ]
     },
     "execution_count": 226,
     "metadata": {},
     "output_type": "execute_result"
    }
   ],
   "source": [
    "# Como vemos en este caso elimina un punto que está repetido\n",
    "seq=[(rational(2,1),rational(3,4)),(rational(6,1),rational(7,4)),(rational(2,1),rational(3,4)),(rational(5,2),rational(3,4)),]\n",
    "Simplex.eliminateRepeatedPoints(seq)"
   ]
  },
  {
   "cell_type": "code",
   "execution_count": 227,
   "metadata": {
    "collapsed": false
   },
   "outputs": [
    {
     "data": {
      "text/plain": [
       "[(3, 1), (4, 5), (2, 1)]"
      ]
     },
     "execution_count": 227,
     "metadata": {},
     "output_type": "execute_result"
    }
   ],
   "source": [
    "# Con enteros funciona perfectamente\n",
    "seq=[(3,1),(4,5),(4,5),(2,1)]\n",
    "Simplex.eliminateRepeatedPoints(seq)"
   ]
  },
  {
   "cell_type": "code",
   "execution_count": 228,
   "metadata": {
    "collapsed": false
   },
   "outputs": [
    {
     "data": {
      "text/plain": [
       "[(3.0, 1.1), (4.0, 5.0), (4.000001, 5.0), (2.0, 1.0)]"
      ]
     },
     "execution_count": 228,
     "metadata": {},
     "output_type": "execute_result"
    }
   ],
   "source": [
    "# Con float no funciona exactamente\n",
    "seq=[(3.0,1.1),(4.0,5.0),(4.000001,5.0),(2.0,1.0)]\n",
    "Simplex.eliminateRepeatedPoints(seq)"
   ]
  },
  {
   "cell_type": "code",
   "execution_count": 229,
   "metadata": {
    "collapsed": false
   },
   "outputs": [
    {
     "name": "stdout",
     "output_type": "stream",
     "text": [
      "None\n"
     ]
    }
   ],
   "source": [
    "# Si no se introduce un lista, devuelve None\n",
    "print(Simplex.eliminateRepeatedPoints(4))"
   ]
  },
  {
   "cell_type": "markdown",
   "metadata": {},
   "source": [
    "------"
   ]
  },
  {
   "cell_type": "markdown",
   "metadata": {},
   "source": [
    "### * eliminatePoints*"
   ]
  },
  {
   "cell_type": "markdown",
   "metadata": {},
   "source": [
    "Este método recibe dos listas, y devuelve una lista con los elementos de la primera lista que no están en la segunda. Se puede utilizar para eliminar puntos(tuplas) o cualquier elemento. Igual que el método anterior, con float no funciona exactamente.Si no recibe dos listas, devuelve None. Ejemplos:"
   ]
  },
  {
   "cell_type": "code",
   "execution_count": 230,
   "metadata": {
    "collapsed": false
   },
   "outputs": [
    {
     "data": {
      "text/plain": [
       "[(3, 1), (6, 7)]"
      ]
     },
     "execution_count": 230,
     "metadata": {},
     "output_type": "execute_result"
    }
   ],
   "source": [
    "# Con enteros funciona perfectamente\n",
    "list1=[(3,1),(4,5),(6,7)]\n",
    "list2=[(2,5),(4,5),(4,8)]\n",
    "Simplex.eliminatePoints(list1, list2)"
   ]
  },
  {
   "cell_type": "code",
   "execution_count": 231,
   "metadata": {
    "collapsed": false
   },
   "outputs": [
    {
     "data": {
      "text/plain": [
       "[<PySimplex.rational.rational at 0x68fd5f0>,\n",
       " <PySimplex.rational.rational at 0x68fdab0>]"
      ]
     },
     "execution_count": 231,
     "metadata": {},
     "output_type": "execute_result"
    }
   ],
   "source": [
    "# Con rational funciona perfectamente\n",
    "list1=[rational(5,1),rational(2,5),rational(6,1)]\n",
    "list2=[rational(8,7),rational(2,5),rational(10,8)]\n",
    "Simplex.eliminatePoints(list1, list2)"
   ]
  },
  {
   "cell_type": "code",
   "execution_count": 232,
   "metadata": {
    "collapsed": false
   },
   "outputs": [
    {
     "data": {
      "text/plain": [
       "[(3.0, 1.0), (4.0, 5.0), (6.0, 7.0)]"
      ]
     },
     "execution_count": 232,
     "metadata": {},
     "output_type": "execute_result"
    }
   ],
   "source": [
    "# Con float no funciona exactamente\n",
    "list1=[(3.0,1.0),(4.0,5.0),(6.0,7.0)]\n",
    "list2=[(2.0,5.0),(4.000001,5.0),(4.0,8.0)]\n",
    "Simplex.eliminatePoints(list1, list2)"
   ]
  },
  {
   "cell_type": "code",
   "execution_count": 233,
   "metadata": {
    "collapsed": false
   },
   "outputs": [
    {
     "name": "stdout",
     "output_type": "stream",
     "text": [
      "None\n"
     ]
    }
   ],
   "source": [
    "# Si recibe algo que no sean dos listas, devuelve None\n",
    "print(Simplex.eliminatePoints(3, list2))"
   ]
  },
  {
   "cell_type": "markdown",
   "metadata": {},
   "source": [
    "------"
   ]
  },
  {
   "cell_type": "markdown",
   "metadata": {},
   "source": [
    "### *calculatePointOfSolution*"
   ]
  },
  {
   "cell_type": "markdown",
   "metadata": {},
   "source": [
    "Est método recibe un array de numpy con los coeficientes de la función a optimizar(en forma de maximización),una lista de puntos cuyas coordenadas son rational, y un rational con el valor de la función objetivo optimizada. El método devuelve cuál es el punto que alcanza el valor pasado. En caso de que los parámetros introducidos no sean correctos(ver ejemplos), devolverá None. Ejemplos:"
   ]
  },
  {
   "cell_type": "code",
   "execution_count": 234,
   "metadata": {
    "collapsed": false
   },
   "outputs": [
    {
     "data": {
      "text/plain": [
       "[(<PySimplex.rational.rational at 0x68fd330>,\n",
       "  <PySimplex.rational.rational at 0x68fd6b0>)]"
      ]
     },
     "execution_count": 234,
     "metadata": {},
     "output_type": "execute_result"
    }
   ],
   "source": [
    "functionVector=np.array([rational(2,1),rational(3,1)])\n",
    "points=[(rational(4,2),rational(3,4)),(rational(5,4),rational(6,8)),(rational(1,4),rational(6,1))]\n",
    "solution = rational(19,4)\n",
    "Simplex.calculatePointOfSolution(functionVector, points, solution)"
   ]
  },
  {
   "cell_type": "code",
   "execution_count": 235,
   "metadata": {
    "collapsed": false
   },
   "outputs": [
    {
     "name": "stdout",
     "output_type": "stream",
     "text": [
      "None\n"
     ]
    }
   ],
   "source": [
    "functionVector=np.array([rational(2,1),rational(3,1)])\n",
    "points=[(rational(4,2),rational(3,4)),(rational(5,4),rational(6,8)),(rational(1,4),rational(6,1))]\n",
    "solution = rational(18,3)\n",
    "print(Simplex.calculatePointOfSolution(functionVector, points, solution))"
   ]
  },
  {
   "cell_type": "code",
   "execution_count": 236,
   "metadata": {
    "collapsed": false
   },
   "outputs": [
    {
     "name": "stdout",
     "output_type": "stream",
     "text": [
      "None\n"
     ]
    }
   ],
   "source": [
    "# Si recibe algo que no sea un array de numpy en el primer parámetro, una lista de puntos rational en el segundo, o un rational \n",
    "# en el tercero, devuelve None\n",
    "print(Simplex.calculatePointOfSolution(functionVector, points, 3.0))"
   ]
  },
  {
   "cell_type": "markdown",
   "metadata": {},
   "source": [
    "------"
   ]
  },
  {
   "cell_type": "markdown",
   "metadata": {},
   "source": [
    "### *calculateSolution*"
   ]
  },
  {
   "cell_type": "markdown",
   "metadata": {},
   "source": [
    "Este método recibe una función a optimizar en un string, en el formato que se puede ver en los ejemplos. Recibe un conjunto de puntos cuyas coordenas son rational. El método devuelve el valor de la función optimizada, y cuál es el punto de los pasados que la optimiza.Si la lista no tiene puntos, devuelve None. En caso de que los parámetros introducidos no sean correctos(ver ejemplos), devolverá None. Ejemplos:"
   ]
  },
  {
   "cell_type": "code",
   "execution_count": 237,
   "metadata": {
    "collapsed": false
   },
   "outputs": [
    {
     "name": "stdout",
     "output_type": "stream",
     "text": [
      "37/2\n",
      "[(<PySimplex.rational.rational object at 0x00C847B0>, <PySimplex.rational.rational object at 0x00C84E10>)]\n"
     ]
    }
   ],
   "source": [
    "function=\"max 2 3\"\n",
    "points=[(rational(4,2),rational(3,4)),(rational(5,4),rational(6,8)),(rational(1,4),rational(6,1))]\n",
    "sol=Simplex.calculateSolution(function, points)\n",
    "print(sol[0])\n",
    "print(sol[1])"
   ]
  },
  {
   "cell_type": "code",
   "execution_count": 238,
   "metadata": {
    "collapsed": false
   },
   "outputs": [
    {
     "name": "stdout",
     "output_type": "stream",
     "text": [
      "19/4\n",
      "[(<PySimplex.rational.rational object at 0x00C4BE30>, <PySimplex.rational.rational object at 0x00C4BD70>)]\n"
     ]
    }
   ],
   "source": [
    "function=\"min 2 3\"\n",
    "points=[(rational(4,2),rational(3,4)),(rational(5,4),rational(6,8)),(rational(1,4),rational(6,1))]\n",
    "sol=Simplex.calculateSolution(function, points)\n",
    "print(sol[0])\n",
    "print(sol[1])"
   ]
  },
  {
   "cell_type": "code",
   "execution_count": 239,
   "metadata": {
    "collapsed": false
   },
   "outputs": [
    {
     "name": "stdout",
     "output_type": "stream",
     "text": [
      "None\n"
     ]
    }
   ],
   "source": [
    "# Si la lista esta vacía, devuelve None\n",
    "print(Simplex.calculateSolution(function,[]))"
   ]
  },
  {
   "cell_type": "code",
   "execution_count": 240,
   "metadata": {
    "collapsed": false
   },
   "outputs": [
    {
     "name": "stdout",
     "output_type": "stream",
     "text": [
      "None\n"
     ]
    }
   ],
   "source": [
    "# Si recibe algo que no es un string en el primer parámetro o una lista de puntos rational en el segundo devuelve None\n",
    "print(Simplex.calculateSolution(function, 4))"
   ]
  },
  {
   "cell_type": "markdown",
   "metadata": {},
   "source": [
    "------"
   ]
  },
  {
   "cell_type": "markdown",
   "metadata": {},
   "source": [
    "### *intersectionPoint*"
   ]
  },
  {
   "cell_type": "markdown",
   "metadata": {},
   "source": [
    "Este método calcula el punto de intersección entre dos restricciones de tipo \"=\". Recibe dos array de numpy, cuyos componenetes deben ser rational, que contienen los coeficientes de las restricciones, y recibe también los recursos de cada restricción en dos rational. En caso de que no haya punto de intersección entre ellas, devuelve None. En caso de que los parámetros introducidos no sean correctos(ver ejemplos), devolverá None. Ejemplos:"
   ]
  },
  {
   "cell_type": "code",
   "execution_count": 241,
   "metadata": {
    "collapsed": false
   },
   "outputs": [
    {
     "name": "stdout",
     "output_type": "stream",
     "text": [
      "(3/2,0)\n"
     ]
    }
   ],
   "source": [
    "line1=np.array([rational(2,1),rational(3,4)])\n",
    "line2=np.array([rational(8,3),rational(7,9)])\n",
    "resource1=rational(3,1)\n",
    "resource2=rational(4,1)\n",
    "point=Simplex.intersectionPoint(line1, line2, resource1, resource2)\n",
    "print(\"(\"+str(point[0])+\",\"+str(point[1])+\")\")"
   ]
  },
  {
   "cell_type": "code",
   "execution_count": 242,
   "metadata": {
    "collapsed": false
   },
   "outputs": [
    {
     "name": "stdout",
     "output_type": "stream",
     "text": [
      "None\n"
     ]
    }
   ],
   "source": [
    "# Si no hay punto de intersección, devuelve None\n",
    "line1=np.array([rational(2,1),rational(3,4)])\n",
    "line2=np.array([rational(2,1),rational(3,4)])\n",
    "resource1=rational(3,1)\n",
    "resource2=rational(4,1)\n",
    "print(Simplex.intersectionPoint(line1, line2, resource1, resource2))"
   ]
  },
  {
   "cell_type": "code",
   "execution_count": 243,
   "metadata": {
    "collapsed": false
   },
   "outputs": [
    {
     "name": "stdout",
     "output_type": "stream",
     "text": [
      "None\n"
     ]
    }
   ],
   "source": [
    "# Si se introduce algo que no es un array de rational de longitud 2 en los dos primeros parámetros, o algo que no es un rational,\n",
    "#  en los dos últimos, devuelve None\n",
    "print(Simplex.intersectionPoint(3, line2, resource1, resource2))"
   ]
  },
  {
   "cell_type": "markdown",
   "metadata": {},
   "source": [
    "------"
   ]
  },
  {
   "cell_type": "markdown",
   "metadata": {},
   "source": [
    "### *eliminateNegativePoints*"
   ]
  },
  {
   "cell_type": "markdown",
   "metadata": {},
   "source": [
    "Este método recibe una lista de puntos cuyas coordenadas son rational, y devuelve la lista, sin aquellos puntos con coordenadas negativas. Si recibe algo que no es una lista de puntos rational, devuelve None. Ejemplos:"
   ]
  },
  {
   "cell_type": "code",
   "execution_count": 244,
   "metadata": {
    "collapsed": false
   },
   "outputs": [
    {
     "data": {
      "text/plain": [
       "[(<PySimplex.rational.rational at 0x68fddd0>,\n",
       "  <PySimplex.rational.rational at 0x68fdf10>)]"
      ]
     },
     "execution_count": 244,
     "metadata": {},
     "output_type": "execute_result"
    }
   ],
   "source": [
    "points=[(rational(4,2),rational(-3,4)),(rational(5,4),rational(6,-8)),(rational(1,4),rational(6,1))]\n",
    "Simplex.eliminateNegativePoints(points)"
   ]
  },
  {
   "cell_type": "code",
   "execution_count": 245,
   "metadata": {
    "collapsed": false
   },
   "outputs": [
    {
     "name": "stdout",
     "output_type": "stream",
     "text": [
      "None\n"
     ]
    }
   ],
   "source": [
    "# Si recibe algo que no es una lista de puntos rational, devuelve None\n",
    "points=[(4,2),(6,-8),(6,1)]\n",
    "print(Simplex.eliminateNegativePoints(points))"
   ]
  },
  {
   "cell_type": "markdown",
   "metadata": {},
   "source": [
    "------"
   ]
  },
  {
   "cell_type": "markdown",
   "metadata": {},
   "source": [
    "### *calculateAllIntersectionPoints*"
   ]
  },
  {
   "cell_type": "markdown",
   "metadata": {},
   "source": [
    "Este método recibe un array de arrays de numpy con todas las restricciones, sin signo ni recursos, y un array de numpy con los recursos de cada restricción. El método devuelve en una lista, todos los puntos de intersección entre las restricciones y de las restricciones con los ejes de coordenadas positivos. También añade el punto (0,0). En caso de que los parámetros introducidos no sean correctos(ver ejemplos), devolverá None. Ejemplos:"
   ]
  },
  {
   "cell_type": "code",
   "execution_count": 246,
   "metadata": {
    "collapsed": false
   },
   "outputs": [
    {
     "data": {
      "text/plain": [
       "[(<PySimplex.rational.rational at 0xca2ff0>,\n",
       "  <PySimplex.rational.rational at 0xca2df0>),\n",
       " (<PySimplex.rational.rational at 0xca2f70>,\n",
       "  <PySimplex.rational.rational at 0xca2690>),\n",
       " (<PySimplex.rational.rational at 0xca2eb0>,\n",
       "  <PySimplex.rational.rational at 0xca2050>),\n",
       " (<PySimplex.rational.rational at 0xca2a90>,\n",
       "  <PySimplex.rational.rational at 0xca2f30>),\n",
       " (<PySimplex.rational.rational at 0xca2fb0>,\n",
       "  <PySimplex.rational.rational at 0xca2f10>),\n",
       " (<PySimplex.rational.rational at 0xca2af0>,\n",
       "  <PySimplex.rational.rational at 0xca2bf0>),\n",
       " (<PySimplex.rational.rational at 0xca2070>,\n",
       "  <PySimplex.rational.rational at 0x402c590>),\n",
       " (<PySimplex.rational.rational at 0x402c230>,\n",
       "  <PySimplex.rational.rational at 0x402c270>)]"
      ]
     },
     "execution_count": 246,
     "metadata": {},
     "output_type": "execute_result"
    }
   ],
   "source": [
    "matrix=np.array([[rational(3,4),rational(3,1)],[rational(4,5),rational(9,1)],[rational(6,1),rational(0,1)]])\n",
    "resources=np.array([rational(3,1),rational(2,1),rational(4,1)])\n",
    "Simplex.calculateAllIntersectionPoints(matrix, resources)"
   ]
  },
  {
   "cell_type": "code",
   "execution_count": 247,
   "metadata": {
    "collapsed": false
   },
   "outputs": [
    {
     "name": "stdout",
     "output_type": "stream",
     "text": [
      "None\n"
     ]
    }
   ],
   "source": [
    "# Si el número de restricciones es distinto del de recursos, devuelve None\n",
    "matrix=np.array([[rational(3,4),rational(3,1)],[rational(4,5),rational(9,1)],[rational(6,1),rational(0,1)]])\n",
    "resources=np.array([rational(3,1),rational(2,1)])\n",
    "print(Simplex.calculateAllIntersectionPoints(matrix, resources))"
   ]
  },
  {
   "cell_type": "code",
   "execution_count": 248,
   "metadata": {
    "collapsed": false,
    "scrolled": true
   },
   "outputs": [
    {
     "name": "stdout",
     "output_type": "stream",
     "text": [
      "None\n"
     ]
    }
   ],
   "source": [
    "# Si recibe algo que no sea un array de numpy, con elementos rational, devuelve None\n",
    "print(Simplex.calculateAllIntersectionPoints(matrix, 4))"
   ]
  },
  {
   "cell_type": "markdown",
   "metadata": {},
   "source": [
    "------"
   ]
  },
  {
   "cell_type": "markdown",
   "metadata": {},
   "source": [
    "### *calculateNotBoundedIntersectionPoints*"
   ]
  },
  {
   "cell_type": "markdown",
   "metadata": {},
   "source": [
    "Este método recibe un array de arrays de numpy con todas las restricciones, sin signo ni recursos,un array de numpy con los recursos de cada restricción y los máximos valores de x y de y que se van a representar, en dos ratioanl. El método devuelve en una lista, los puntos de intersección entre las restricciones y los ejes imaginarios constituidos en los máximos puntos representados. Por ejemplo si se pasa constX=3 y constY=4, devolverá los puntos de intersección entre las restricciones y los ejes y=3 y x=4 . También añade el punto de intersección entre los dos hipotéticos ejes(en el ejemplo anterior el punto (4,3). En caso de que los parámetros introducidos no sean correctos(ver ejemplos), devolverá None. Ejemplos:"
   ]
  },
  {
   "cell_type": "code",
   "execution_count": 249,
   "metadata": {
    "collapsed": false
   },
   "outputs": [
    {
     "data": {
      "text/plain": [
       "[(<PySimplex.rational.rational at 0xc4c230>,\n",
       "  <PySimplex.rational.rational at 0xc4cc10>),\n",
       " (<PySimplex.rational.rational at 0xc4cd30>,\n",
       "  <PySimplex.rational.rational at 0xc4cc70>)]"
      ]
     },
     "execution_count": 249,
     "metadata": {},
     "output_type": "execute_result"
    }
   ],
   "source": [
    "matrix=np.array([[rational(3,4),rational(3,1)],[rational(4,5),rational(9,1)],[rational(6,1),rational(0,1)]])\n",
    "resources=np.array([rational(3,1),rational(2,1),rational(4,1)])\n",
    "constX= rational(10,1)\n",
    "constY= rational(8,1)\n",
    "Simplex.calculateNotBoundedIntersectionPoints(matrix, resources, constX, constY)"
   ]
  },
  {
   "cell_type": "code",
   "execution_count": 250,
   "metadata": {
    "collapsed": false
   },
   "outputs": [
    {
     "name": "stdout",
     "output_type": "stream",
     "text": [
      "None\n"
     ]
    }
   ],
   "source": [
    "matrix=np.array([[rational(3,4),rational(3,1)],[rational(4,5),rational(9,1)]])\n",
    "resources=np.array([rational(3,1),rational(2,1),rational(4,1)])\n",
    "constX= rational(10,1)\n",
    "constY= rational(8,1)\n",
    "print(Simplex.calculateNotBoundedIntersectionPoints(matrix, resources, constX, constY))"
   ]
  },
  {
   "cell_type": "code",
   "execution_count": 251,
   "metadata": {
    "collapsed": false
   },
   "outputs": [
    {
     "name": "stdout",
     "output_type": "stream",
     "text": [
      "None\n"
     ]
    }
   ],
   "source": [
    "# Si recibe algo que no sea un array de numpy, con elementos rational, en los dos primeros parámetros o algo que no sea un\n",
    "# rational en los dos últimos, devuelve None\n",
    "print(Simplex.calculateNotBoundedIntersectionPoints(matrix, resources, np.array([rational(4,5)]), constY))"
   ]
  },
  {
   "cell_type": "markdown",
   "metadata": {},
   "source": [
    "------"
   ]
  },
  {
   "cell_type": "markdown",
   "metadata": {},
   "source": [
    "### *checkIfIsSolution*"
   ]
  },
  {
   "cell_type": "markdown",
   "metadata": {},
   "source": [
    "Este método recibe una restricción, con los coeficentes de la misma en una array de numpy, la solución a probar en una tupla, el signo en un string y el recurso en un número. El método devuelve True, si la solución satisface la restricción, o False si no la satisface. El método funciona con enteros y rational, perfectamente, pero con float, no es del todo exacto. En caso de que los parámetros introducidos no sean correctos(ver ejemplos), devolverá None. Ejemplos:"
   ]
  },
  {
   "cell_type": "code",
   "execution_count": 252,
   "metadata": {
    "collapsed": false
   },
   "outputs": [
    {
     "data": {
      "text/plain": [
       "True"
      ]
     },
     "execution_count": 252,
     "metadata": {},
     "output_type": "execute_result"
    }
   ],
   "source": [
    "# Si cumple la inecuación\n",
    "inecuation=np.array([3,4])\n",
    "solution=(1,1)\n",
    "sign=\">=\"\n",
    "resource=6\n",
    "Simplex.checkIfIsSolution(inecuation, solution, sign, resource)"
   ]
  },
  {
   "cell_type": "code",
   "execution_count": 253,
   "metadata": {
    "collapsed": false
   },
   "outputs": [
    {
     "data": {
      "text/plain": [
       "True"
      ]
     },
     "execution_count": 253,
     "metadata": {},
     "output_type": "execute_result"
    }
   ],
   "source": [
    "# Con rational también funciona\n",
    "inecuation=np.array([rational(3,2),rational(4,3)])\n",
    "solution=(rational(2,1),rational(1,1))\n",
    "sign=\"<=\"\n",
    "resource=rational(5,1)\n",
    "Simplex.checkIfIsSolution(inecuation, solution, sign, resource)"
   ]
  },
  {
   "cell_type": "code",
   "execution_count": 254,
   "metadata": {
    "collapsed": false
   },
   "outputs": [
    {
     "data": {
      "text/plain": [
       "False"
      ]
     },
     "execution_count": 254,
     "metadata": {},
     "output_type": "execute_result"
    }
   ],
   "source": [
    "# Si la inecuación no se cumple\n",
    "inecuation=np.array([3,4])\n",
    "solution=(1,1)\n",
    "sign=\"=\"\n",
    "resource=6\n",
    "Simplex.checkIfIsSolution(inecuation, solution, sign, resource)"
   ]
  },
  {
   "cell_type": "code",
   "execution_count": 255,
   "metadata": {
    "collapsed": false
   },
   "outputs": [
    {
     "data": {
      "text/plain": [
       "False"
      ]
     },
     "execution_count": 255,
     "metadata": {},
     "output_type": "execute_result"
    }
   ],
   "source": [
    "# No funciona exactamente con float\n",
    "inecuation=np.array([3.0,4.0])\n",
    "solution=(1.0,1.0)\n",
    "sign=\"=\"\n",
    "resource=7.00001\n",
    "Simplex.checkIfIsSolution(inecuation, solution, sign, resource)"
   ]
  },
  {
   "cell_type": "code",
   "execution_count": 256,
   "metadata": {
    "collapsed": false
   },
   "outputs": [
    {
     "name": "stdout",
     "output_type": "stream",
     "text": [
      "None\n"
     ]
    }
   ],
   "source": [
    "# Si se introduce algo que no se un array de numpy de longitud 2 en el primer parámetro, una tupla en el segundo, un string en el \n",
    "# tercero o un número en el último, devuelve None\n",
    "print(Simplex.checkIfIsSolution(inecuation, solution, sign,np.array([3,4])))"
   ]
  },
  {
   "cell_type": "markdown",
   "metadata": {},
   "source": [
    "------"
   ]
  },
  {
   "cell_type": "markdown",
   "metadata": {},
   "source": [
    "### *calculateFeasibleRegion*"
   ]
  },
  {
   "cell_type": "markdown",
   "metadata": {
    "collapsed": true
   },
   "source": [
    "Este método recibe un conjunto de puntos en una lista, un conjunto de restricciones en un array de numpy, sin signos ni recursos,un array de numpy con los recursos y una lista de string con los signos. El método devuelve la lista de puntos introducidos, que cumplen todas las restricciones, es decir pertenecen a la región factible. El método funciona tanto con rational, como con enteros, no siendo tan exacto con float. Si ningún punto pertenece a la región factible, devolverá una lista vacía. En caso de que los parámetros introducidos no sean correctos(ver ejemplos), devolverá None. Ejemplos:\n"
   ]
  },
  {
   "cell_type": "code",
   "execution_count": 257,
   "metadata": {
    "collapsed": false
   },
   "outputs": [
    {
     "data": {
      "text/plain": [
       "[(<PySimplex.rational.rational at 0xc9ce70>,\n",
       "  <PySimplex.rational.rational at 0xc9c3b0>),\n",
       " (<PySimplex.rational.rational at 0xc9c7b0>,\n",
       "  <PySimplex.rational.rational at 0xc9c410>),\n",
       " (<PySimplex.rational.rational at 0xc9cef0>,\n",
       "  <PySimplex.rational.rational at 0xc9cf70>)]"
      ]
     },
     "execution_count": 257,
     "metadata": {},
     "output_type": "execute_result"
    }
   ],
   "source": [
    "# El método funciona con valores rational, eliminando los puntos que no pertencen a la región factible\n",
    "points=[(rational(0,1),rational(5,1)),(rational(5,1),rational(0,1)),(rational(10,1),rational(12,1)),\n",
    "        (rational(-30,1),rational(1,2))]\n",
    "inecuations=np.array([np.array([rational(-7,1),rational(10,1)]),np.array([rational(2,1),rational(1,1)]),\n",
    "                      np.array([rational(8,1),rational(-7,1)])])\n",
    "\n",
    "resources=np.array([rational(50,1),rational(32,1),rational(40,1)])\n",
    "sign=[\"<=\",\"<=\",\"<=\"]\n",
    "Simplex.calculateFeasibleRegion(points, inecuations, resources, sign)"
   ]
  },
  {
   "cell_type": "code",
   "execution_count": 258,
   "metadata": {
    "collapsed": false
   },
   "outputs": [
    {
     "data": {
      "text/plain": [
       "[(0, 5), (5, 0), (10, 12)]"
      ]
     },
     "execution_count": 258,
     "metadata": {},
     "output_type": "execute_result"
    }
   ],
   "source": [
    "# El método funciona con valores enteros, eliminando los puntos que no pertencen a la región factible\n",
    "points=[(0,5),(5,0),(10,12),(-30,1)]       \n",
    "inecuations=np.array([np.array([-7,10]),np.array([2,1]), np.array([8,-7])])\n",
    "resources=np.array([50,32,40])\n",
    "sign=[\"<=\",\"<=\",\"<=\"]\n",
    "Simplex.calculateFeasibleRegion(points, inecuations, resources, sign)"
   ]
  },
  {
   "cell_type": "code",
   "execution_count": 259,
   "metadata": {
    "collapsed": false
   },
   "outputs": [
    {
     "name": "stdout",
     "output_type": "stream",
     "text": [
      "None\n"
     ]
    }
   ],
   "source": [
    "# El número de restricciones tiene que ser igual que el de signos y el de recursos\n",
    "points=[(0,5),(5,0),(10,12),(-30,1)]       \n",
    "inecuations=np.array([np.array([-7,10]),np.array([2,1]), np.array([8,-7])])\n",
    "resources=np.array([50,32])\n",
    "sign=[\"<=\",\"<=\",\"<=\"]\n",
    "print(Simplex.calculateFeasibleRegion(points, inecuations, resources, sign))"
   ]
  },
  {
   "cell_type": "code",
   "execution_count": 260,
   "metadata": {
    "collapsed": false
   },
   "outputs": [
    {
     "name": "stdout",
     "output_type": "stream",
     "text": [
      "None\n"
     ]
    }
   ],
   "source": [
    "# Si se introduce algo que no es una lista, en el primer parámetro, un array de numpy en el segundo y tercer parámetro, o una \n",
    "# lista de strings, en el cuarto parámetro, devuelve None\n",
    "inecuations=np.matrix([np.array([2,1]),np.array([1,-1]),np.array([5,2])])\n",
    "print(Simplex.calculateFeasibleRegion(points, inecuations, resources, sign))"
   ]
  },
  {
   "cell_type": "markdown",
   "metadata": {},
   "source": [
    "------"
   ]
  },
  {
   "cell_type": "markdown",
   "metadata": {},
   "source": [
    "### *calculateMaxScale*"
   ]
  },
  {
   "cell_type": "markdown",
   "metadata": {},
   "source": [
    "Este método recibe una lista de puntos, y devuelve el máximo valor de la coordenada x y de la coordenada y. Se utiliza para saber cuál es el punto máximo que se debe representar. En caso de no recibir una lista, devuelve None. Ejemplos:"
   ]
  },
  {
   "cell_type": "code",
   "execution_count": 261,
   "metadata": {
    "collapsed": false
   },
   "outputs": [
    {
     "data": {
      "text/plain": [
       "(5, 6)"
      ]
     },
     "execution_count": 261,
     "metadata": {},
     "output_type": "execute_result"
    }
   ],
   "source": [
    "points=[(4,3),(5,6),(1,-2)]\n",
    "Simplex.calculateMaxScale(points)"
   ]
  },
  {
   "cell_type": "code",
   "execution_count": 262,
   "metadata": {
    "collapsed": false
   },
   "outputs": [
    {
     "data": {
      "text/plain": [
       "(<PySimplex.rational.rational at 0xc8a490>,\n",
       " <PySimplex.rational.rational at 0xc8afb0>)"
      ]
     },
     "execution_count": 262,
     "metadata": {},
     "output_type": "execute_result"
    }
   ],
   "source": [
    "points=[(rational(0,1),rational(5,1)),(rational(5,1),rational(0,1)),(rational(10,1),rational(12,1)),\n",
    "        (rational(-30,1),rational(1,2))]\n",
    "Simplex.calculateMaxScale(points)"
   ]
  },
  {
   "cell_type": "code",
   "execution_count": 263,
   "metadata": {
    "collapsed": false
   },
   "outputs": [
    {
     "data": {
      "text/plain": [
       "(5.0, 6.5)"
      ]
     },
     "execution_count": 263,
     "metadata": {},
     "output_type": "execute_result"
    }
   ],
   "source": [
    "points=[(4.6,3.7),(5.0,6.5),(1.2,-2.5)]\n",
    "Simplex.calculateMaxScale(points)"
   ]
  },
  {
   "cell_type": "code",
   "execution_count": 264,
   "metadata": {
    "collapsed": false
   },
   "outputs": [
    {
     "name": "stdout",
     "output_type": "stream",
     "text": [
      "None\n"
     ]
    }
   ],
   "source": [
    "# Si recibe algo que no es una lista, devuelve None\n",
    "print(Simplex.calculateMaxScale(3))"
   ]
  },
  {
   "cell_type": "markdown",
   "metadata": {},
   "source": [
    "------"
   ]
  },
  {
   "cell_type": "markdown",
   "metadata": {},
   "source": [
    "### *calculateMinScale*"
   ]
  },
  {
   "cell_type": "markdown",
   "metadata": {},
   "source": [
    "Este método recibe una lista de puntos, y devuelve el mínimo valor de la coordenada x y de la coordenada y. Se utiliza para saber cuál es el punto mínimo que se debe representar. En caso de no recibir una lista, devuelve None. Ejemplos:"
   ]
  },
  {
   "cell_type": "code",
   "execution_count": 265,
   "metadata": {
    "collapsed": false
   },
   "outputs": [
    {
     "data": {
      "text/plain": [
       "(1, -2)"
      ]
     },
     "execution_count": 265,
     "metadata": {},
     "output_type": "execute_result"
    }
   ],
   "source": [
    "points=[(4,3),(5,6),(1,-2)]\n",
    "Simplex.calculateMinScale(points)"
   ]
  },
  {
   "cell_type": "code",
   "execution_count": 266,
   "metadata": {
    "collapsed": false
   },
   "outputs": [
    {
     "data": {
      "text/plain": [
       "(<PySimplex.rational.rational at 0xc8aab0>,\n",
       " <PySimplex.rational.rational at 0xc8a3b0>)"
      ]
     },
     "execution_count": 266,
     "metadata": {},
     "output_type": "execute_result"
    }
   ],
   "source": [
    "points=[(rational(0,1),rational(5,1)),(rational(5,1),rational(0,1)),(rational(10,1),rational(12,1)),\n",
    "        (rational(-30,1),rational(1,2))]\n",
    "Simplex.calculateMinScale(points)"
   ]
  },
  {
   "cell_type": "code",
   "execution_count": 267,
   "metadata": {
    "collapsed": false
   },
   "outputs": [
    {
     "data": {
      "text/plain": [
       "(1.2, -2.5)"
      ]
     },
     "execution_count": 267,
     "metadata": {},
     "output_type": "execute_result"
    }
   ],
   "source": [
    "points=[(4.6,3.7),(5.0,6.5),(1.2,-2.5)]\n",
    "Simplex.calculateMinScale(points)"
   ]
  },
  {
   "cell_type": "code",
   "execution_count": 268,
   "metadata": {
    "collapsed": false
   },
   "outputs": [
    {
     "name": "stdout",
     "output_type": "stream",
     "text": [
      "None\n"
     ]
    }
   ],
   "source": [
    "# Si recibe algo que no es una lista, devuelve None\n",
    "print(Simplex.calculateMinScale(3))"
   ]
  },
  {
   "cell_type": "markdown",
   "metadata": {},
   "source": [
    "------"
   ]
  },
  {
   "cell_type": "markdown",
   "metadata": {},
   "source": [
    "### *checkIfPointInFeasibleRegion*"
   ]
  },
  {
   "cell_type": "markdown",
   "metadata": {},
   "source": [
    "Este método recibe un punto en una tupla, un conjunto de restricciones en un array de numpy, sin signos ni recursos,un array de numpy con los recursos y una lista de string con los signos. El método devuelve True, si el punto cumple todas las restricciones, es decir pertenece a la región factible, y False, si no pertenece. El método funciona tanto con rational, como con enteros, no siendo tan exacto con float. En caso de que los parámetros introducidos no sean correctos(ver ejemplos), devolverá None. Ejemplos:"
   ]
  },
  {
   "cell_type": "code",
   "execution_count": 269,
   "metadata": {
    "collapsed": false
   },
   "outputs": [
    {
     "data": {
      "text/plain": [
       "True"
      ]
     },
     "execution_count": 269,
     "metadata": {},
     "output_type": "execute_result"
    }
   ],
   "source": [
    "point=(rational(0,1),rational(5,1))\n",
    "inecuations=np.array([np.array([rational(-7,1),rational(10,1)]),np.array([rational(2,1),rational(1,1)]),\n",
    "                      np.array([rational(8,1),rational(-7,1)])])\n",
    "\n",
    "resources=np.array([rational(50,1),rational(32,1),rational(40,1)])\n",
    "sign=[\"<=\",\"<=\",\"<=\"]\n",
    "Simplex.checkIfPointInFeasibleRegion(point, inecuations, resources, sign)"
   ]
  },
  {
   "cell_type": "code",
   "execution_count": 270,
   "metadata": {
    "collapsed": false
   },
   "outputs": [
    {
     "data": {
      "text/plain": [
       "False"
      ]
     },
     "execution_count": 270,
     "metadata": {},
     "output_type": "execute_result"
    }
   ],
   "source": [
    "point=(rational(-30,1),rational(1,2))\n",
    "inecuations=np.array([np.array([rational(-7,1),rational(10,1)]),np.array([rational(2,1),rational(1,1)]),\n",
    "                      np.array([rational(8,1),rational(-7,1)])])\n",
    "\n",
    "resources=np.array([rational(50,1),rational(32,1),rational(40,1)])\n",
    "sign=[\"<=\",\"<=\",\"<=\"]\n",
    "Simplex.checkIfPointInFeasibleRegion(point, inecuations, resources, sign)"
   ]
  },
  {
   "cell_type": "code",
   "execution_count": 271,
   "metadata": {
    "collapsed": false
   },
   "outputs": [
    {
     "data": {
      "text/plain": [
       "False"
      ]
     },
     "execution_count": 271,
     "metadata": {},
     "output_type": "execute_result"
    }
   ],
   "source": [
    "# El método funciona con valores enteros, eliminando los puntos que no pertencen a la región factible\n",
    "points=(0,5)\n",
    "inecuations=np.array([np.array([-7,10]),np.array([2,1]), np.array([8,-7])])\n",
    "resources=np.array([50,32,40])\n",
    "sign=[\"<=\",\"<=\",\"<=\"]\n",
    "Simplex.checkIfPointInFeasibleRegion(point, inecuations, resources, sign)"
   ]
  },
  {
   "cell_type": "code",
   "execution_count": 272,
   "metadata": {
    "collapsed": false
   },
   "outputs": [
    {
     "name": "stdout",
     "output_type": "stream",
     "text": [
      "None\n"
     ]
    }
   ],
   "source": [
    "# El número de restricciones tiene que ser igual que el de signos y el de recursos\n",
    "points=(0,5)\n",
    "inecuations=np.array([np.array([-7,10]),np.array([2,1])])\n",
    "resources=np.array([50,32,40])\n",
    "sign=[\"<=\",\"<=\",\"<=\"]\n",
    "print(Simplex.checkIfPointInFeasibleRegion(point, inecuations, resources, sign))"
   ]
  },
  {
   "cell_type": "code",
   "execution_count": 273,
   "metadata": {
    "collapsed": false
   },
   "outputs": [
    {
     "name": "stdout",
     "output_type": "stream",
     "text": [
      "None\n"
     ]
    }
   ],
   "source": [
    "# Si se introduce algo que no es una tupla, en el primer parámetro, un array de numpy en el segundo y tercer parámetro, o una \n",
    "# lista de strings, en el cuarto parámetro, devuelve None\n",
    "print(Simplex.checkIfPointInFeasibleRegion(4, inecuations, resources, sign))"
   ]
  },
  {
   "cell_type": "markdown",
   "metadata": {},
   "source": [
    "------"
   ]
  },
  {
   "cell_type": "markdown",
   "metadata": {},
   "source": [
    "### *calculateIntegerPoints*"
   ]
  },
  {
   "cell_type": "markdown",
   "metadata": {},
   "source": [
    "Este método recibe un conjunto de restricciones en un array de numpy, sin signos ni recursos,un array de numpy con los recursos, una lista de string con los signos y dos tuplas, con el mínimo y el máximo punto a representar. El método devuelve una lista con todos los puntos enteros que pertenecen a esa región factible y que son menores que el punto máximo. Todos los elementos de las restricciones, recursos y de la tupla, deben ser rational. En caso de que los parámetros introducidos no sean correctos(ver ejemplos), devolverá None. Ejemplos:"
   ]
  },
  {
   "cell_type": "code",
   "execution_count": 274,
   "metadata": {
    "collapsed": false
   },
   "outputs": [
    {
     "data": {
      "text/plain": [
       "[(<PySimplex.rational.rational at 0xce7830>,\n",
       "  <PySimplex.rational.rational at 0xce7850>),\n",
       " (<PySimplex.rational.rational at 0xce7870>,\n",
       "  <PySimplex.rational.rational at 0xce7890>),\n",
       " (<PySimplex.rational.rational at 0xce78b0>,\n",
       "  <PySimplex.rational.rational at 0xce7910>),\n",
       " (<PySimplex.rational.rational at 0xce7950>,\n",
       "  <PySimplex.rational.rational at 0xce78d0>),\n",
       " (<PySimplex.rational.rational at 0xce7930>,\n",
       "  <PySimplex.rational.rational at 0xce78f0>),\n",
       " (<PySimplex.rational.rational at 0xce7970>,\n",
       "  <PySimplex.rational.rational at 0xce7990>),\n",
       " (<PySimplex.rational.rational at 0xce79b0>,\n",
       "  <PySimplex.rational.rational at 0xce79d0>),\n",
       " (<PySimplex.rational.rational at 0xce79f0>,\n",
       "  <PySimplex.rational.rational at 0xce7a10>),\n",
       " (<PySimplex.rational.rational at 0xce7ad0>,\n",
       "  <PySimplex.rational.rational at 0xce7ab0>),\n",
       " (<PySimplex.rational.rational at 0xce7a70>,\n",
       "  <PySimplex.rational.rational at 0xce7a50>),\n",
       " (<PySimplex.rational.rational at 0xce7a30>,\n",
       "  <PySimplex.rational.rational at 0xce7a90>),\n",
       " (<PySimplex.rational.rational at 0xce7af0>,\n",
       "  <PySimplex.rational.rational at 0xce7b10>),\n",
       " (<PySimplex.rational.rational at 0xce7b30>,\n",
       "  <PySimplex.rational.rational at 0xce7b50>),\n",
       " (<PySimplex.rational.rational at 0xce7b70>,\n",
       "  <PySimplex.rational.rational at 0xce7b90>),\n",
       " (<PySimplex.rational.rational at 0xce7bf0>,\n",
       "  <PySimplex.rational.rational at 0xce7bd0>),\n",
       " (<PySimplex.rational.rational at 0xce7c30>,\n",
       "  <PySimplex.rational.rational at 0xce7bb0>),\n",
       " (<PySimplex.rational.rational at 0xce7c10>,\n",
       "  <PySimplex.rational.rational at 0xce7c50>),\n",
       " (<PySimplex.rational.rational at 0xce7c70>,\n",
       "  <PySimplex.rational.rational at 0xce7c90>),\n",
       " (<PySimplex.rational.rational at 0xce7cb0>,\n",
       "  <PySimplex.rational.rational at 0xce7cd0>),\n",
       " (<PySimplex.rational.rational at 0xce7cf0>,\n",
       "  <PySimplex.rational.rational at 0xce7d10>),\n",
       " (<PySimplex.rational.rational at 0xce7d30>,\n",
       "  <PySimplex.rational.rational at 0xce7d50>),\n",
       " (<PySimplex.rational.rational at 0xce7db0>,\n",
       "  <PySimplex.rational.rational at 0xce7df0>),\n",
       " (<PySimplex.rational.rational at 0xce7e30>,\n",
       "  <PySimplex.rational.rational at 0xce7dd0>),\n",
       " (<PySimplex.rational.rational at 0xce7e10>,\n",
       "  <PySimplex.rational.rational at 0xce7e50>),\n",
       " (<PySimplex.rational.rational at 0xce7e70>,\n",
       "  <PySimplex.rational.rational at 0xce7e90>),\n",
       " (<PySimplex.rational.rational at 0xce7eb0>,\n",
       "  <PySimplex.rational.rational at 0xce7ed0>),\n",
       " (<PySimplex.rational.rational at 0xce7ef0>,\n",
       "  <PySimplex.rational.rational at 0xce7f10>),\n",
       " (<PySimplex.rational.rational at 0xce7f30>,\n",
       "  <PySimplex.rational.rational at 0xce7f50>),\n",
       " (<PySimplex.rational.rational at 0xce7f70>,\n",
       "  <PySimplex.rational.rational at 0xce7f90>),\n",
       " (<PySimplex.rational.rational at 0xce7fb0>,\n",
       "  <PySimplex.rational.rational at 0xce7fd0>),\n",
       " (<PySimplex.rational.rational at 0xce7ff0>,\n",
       "  <PySimplex.rational.rational at 0xcfe030>),\n",
       " (<PySimplex.rational.rational at 0xcfe050>,\n",
       "  <PySimplex.rational.rational at 0xcfe070>),\n",
       " (<PySimplex.rational.rational at 0xcfe090>,\n",
       "  <PySimplex.rational.rational at 0xcfe0b0>),\n",
       " (<PySimplex.rational.rational at 0xcfe0d0>,\n",
       "  <PySimplex.rational.rational at 0xcfe0f0>),\n",
       " (<PySimplex.rational.rational at 0xcfe110>,\n",
       "  <PySimplex.rational.rational at 0xcfe130>),\n",
       " (<PySimplex.rational.rational at 0xcfe150>,\n",
       "  <PySimplex.rational.rational at 0xcfe170>),\n",
       " (<PySimplex.rational.rational at 0xcfe190>,\n",
       "  <PySimplex.rational.rational at 0xcfe1b0>),\n",
       " (<PySimplex.rational.rational at 0xcfe210>,\n",
       "  <PySimplex.rational.rational at 0xcfe1f0>),\n",
       " (<PySimplex.rational.rational at 0xcfe250>,\n",
       "  <PySimplex.rational.rational at 0xcfe1d0>),\n",
       " (<PySimplex.rational.rational at 0xcfe230>,\n",
       "  <PySimplex.rational.rational at 0xcfe270>),\n",
       " (<PySimplex.rational.rational at 0xcfe290>,\n",
       "  <PySimplex.rational.rational at 0xcfe2b0>),\n",
       " (<PySimplex.rational.rational at 0xcfe2d0>,\n",
       "  <PySimplex.rational.rational at 0xcfe2f0>),\n",
       " (<PySimplex.rational.rational at 0xcfe310>,\n",
       "  <PySimplex.rational.rational at 0xcfe330>),\n",
       " (<PySimplex.rational.rational at 0xcfe350>,\n",
       "  <PySimplex.rational.rational at 0xcfe370>),\n",
       " (<PySimplex.rational.rational at 0xcfe390>,\n",
       "  <PySimplex.rational.rational at 0xcfe3b0>),\n",
       " (<PySimplex.rational.rational at 0xcfe410>,\n",
       "  <PySimplex.rational.rational at 0xcfe3f0>),\n",
       " (<PySimplex.rational.rational at 0xcfe450>,\n",
       "  <PySimplex.rational.rational at 0xcfe3d0>),\n",
       " (<PySimplex.rational.rational at 0xcfe430>,\n",
       "  <PySimplex.rational.rational at 0xcfe470>),\n",
       " (<PySimplex.rational.rational at 0xcfe490>,\n",
       "  <PySimplex.rational.rational at 0xcfe4b0>),\n",
       " (<PySimplex.rational.rational at 0xcfe4d0>,\n",
       "  <PySimplex.rational.rational at 0xcfe4f0>),\n",
       " (<PySimplex.rational.rational at 0xcfe510>,\n",
       "  <PySimplex.rational.rational at 0xcfe530>),\n",
       " (<PySimplex.rational.rational at 0xcfe550>,\n",
       "  <PySimplex.rational.rational at 0xcfe570>),\n",
       " (<PySimplex.rational.rational at 0xcfe590>,\n",
       "  <PySimplex.rational.rational at 0xcfe5b0>),\n",
       " (<PySimplex.rational.rational at 0xcfe610>,\n",
       "  <PySimplex.rational.rational at 0xcfe5f0>),\n",
       " (<PySimplex.rational.rational at 0xcfe650>,\n",
       "  <PySimplex.rational.rational at 0xcfe5d0>),\n",
       " (<PySimplex.rational.rational at 0xcfe6d0>,\n",
       "  <PySimplex.rational.rational at 0xcfe630>),\n",
       " (<PySimplex.rational.rational at 0xcfe6b0>,\n",
       "  <PySimplex.rational.rational at 0xcfe670>),\n",
       " (<PySimplex.rational.rational at 0xcfe6f0>,\n",
       "  <PySimplex.rational.rational at 0xcfe690>),\n",
       " (<PySimplex.rational.rational at 0xcfe710>,\n",
       "  <PySimplex.rational.rational at 0xcfe730>),\n",
       " (<PySimplex.rational.rational at 0xcfe750>,\n",
       "  <PySimplex.rational.rational at 0xcfe770>),\n",
       " (<PySimplex.rational.rational at 0xcfe7d0>,\n",
       "  <PySimplex.rational.rational at 0xcfe7b0>),\n",
       " (<PySimplex.rational.rational at 0xcfe810>,\n",
       "  <PySimplex.rational.rational at 0xcfe790>),\n",
       " (<PySimplex.rational.rational at 0xcfe7f0>,\n",
       "  <PySimplex.rational.rational at 0xcfe830>),\n",
       " (<PySimplex.rational.rational at 0xcfe850>,\n",
       "  <PySimplex.rational.rational at 0xcfe870>),\n",
       " (<PySimplex.rational.rational at 0xcfe890>,\n",
       "  <PySimplex.rational.rational at 0xcfe8b0>),\n",
       " (<PySimplex.rational.rational at 0xcfe970>,\n",
       "  <PySimplex.rational.rational at 0xcfe910>),\n",
       " (<PySimplex.rational.rational at 0xcfe8d0>,\n",
       "  <PySimplex.rational.rational at 0xcfe8f0>),\n",
       " (<PySimplex.rational.rational at 0xcfe990>,\n",
       "  <PySimplex.rational.rational at 0xcfe950>),\n",
       " (<PySimplex.rational.rational at 0xcfe9d0>,\n",
       "  <PySimplex.rational.rational at 0xcfe930>),\n",
       " (<PySimplex.rational.rational at 0xcfe9b0>,\n",
       "  <PySimplex.rational.rational at 0xcfe9f0>),\n",
       " (<PySimplex.rational.rational at 0xcfea10>,\n",
       "  <PySimplex.rational.rational at 0xcfea30>),\n",
       " (<PySimplex.rational.rational at 0xcfea50>,\n",
       "  <PySimplex.rational.rational at 0xcfea70>),\n",
       " (<PySimplex.rational.rational at 0xcfea90>,\n",
       "  <PySimplex.rational.rational at 0xcfeab0>),\n",
       " (<PySimplex.rational.rational at 0xcfead0>,\n",
       "  <PySimplex.rational.rational at 0xcfeaf0>),\n",
       " (<PySimplex.rational.rational at 0xcfeb50>,\n",
       "  <PySimplex.rational.rational at 0xcfeb30>),\n",
       " (<PySimplex.rational.rational at 0xcfeb90>,\n",
       "  <PySimplex.rational.rational at 0xcfeb10>),\n",
       " (<PySimplex.rational.rational at 0xcfeb70>,\n",
       "  <PySimplex.rational.rational at 0xcfebb0>),\n",
       " (<PySimplex.rational.rational at 0xcfebd0>,\n",
       "  <PySimplex.rational.rational at 0xcfebf0>),\n",
       " (<PySimplex.rational.rational at 0xcfec10>,\n",
       "  <PySimplex.rational.rational at 0xcfec30>),\n",
       " (<PySimplex.rational.rational at 0xcfec50>,\n",
       "  <PySimplex.rational.rational at 0xcfec70>),\n",
       " (<PySimplex.rational.rational at 0xcfec90>,\n",
       "  <PySimplex.rational.rational at 0xcfecb0>),\n",
       " (<PySimplex.rational.rational at 0xcfed10>,\n",
       "  <PySimplex.rational.rational at 0xcfecf0>),\n",
       " (<PySimplex.rational.rational at 0xcfed50>,\n",
       "  <PySimplex.rational.rational at 0xcfecd0>),\n",
       " (<PySimplex.rational.rational at 0xcfed30>,\n",
       "  <PySimplex.rational.rational at 0xcfed70>),\n",
       " (<PySimplex.rational.rational at 0xcfed90>,\n",
       "  <PySimplex.rational.rational at 0xcfedb0>)]"
      ]
     },
     "execution_count": 274,
     "metadata": {},
     "output_type": "execute_result"
    }
   ],
   "source": [
    "# Puntos calculados con rational\n",
    "inecuations=np.array([np.array([rational(-7,1),rational(10,1)]),np.array([rational(2,1),rational(1,1)]),\n",
    "                      np.array([rational(8,1),rational(-7,1)])])\n",
    "\n",
    "resources=np.array([rational(50,1),rational(32,1),rational(40,1)])\n",
    "sign=[\"<=\",\"<=\",\"<=\"]\n",
    "scale1=(rational(0,1),rational(0,1))\n",
    "scale=(rational(10,1),rational(10,1))\n",
    "Simplex.calculateIntegerPoints(inecuations, resources, sign, scale1,scale)"
   ]
  },
  {
   "cell_type": "code",
   "execution_count": 275,
   "metadata": {
    "collapsed": false
   },
   "outputs": [
    {
     "name": "stdout",
     "output_type": "stream",
     "text": [
      "None\n"
     ]
    }
   ],
   "source": [
    "# El número de restricciones tiene que ser igual que el de signos y el de recursos\n",
    "inecuations=np.array([np.array([rational(-7,1),rational(10,1)]),np.array([rational(2,1),rational(1,1)]),\n",
    "                      np.array([rational(8,1),rational(-7,1)])])\n",
    "\n",
    "resources=np.array([rational(50,1),rational(32,1),rational(40,1)])\n",
    "sign=[\"<=\",\"<=\"]\n",
    "scale=(rational(10,1),rational(10,1))\n",
    "print(Simplex.calculateIntegerPoints(inecuations, resources, sign, scale1, scale))"
   ]
  },
  {
   "cell_type": "code",
   "execution_count": 276,
   "metadata": {
    "collapsed": false
   },
   "outputs": [
    {
     "name": "stdout",
     "output_type": "stream",
     "text": [
      "None\n"
     ]
    }
   ],
   "source": [
    "# Si se introduce algo que no es un array de numpy de rational en el primer y segundo parámetro,una lista de strings, en el\n",
    "# tercer parámetro,o una tupla en el último parámetro devuelve None\n",
    "print(Simplex.calculateIntegerPoints(inecuations, resources, sign, scale1, 4))"
   ]
  },
  {
   "cell_type": "markdown",
   "metadata": {},
   "source": [
    "------"
   ]
  },
  {
   "cell_type": "markdown",
   "metadata": {},
   "source": [
    "### *centre*"
   ]
  },
  {
   "cell_type": "markdown",
   "metadata": {},
   "source": [
    "Este método recibe una lista de puntos, y devuelve el punto que está en el centro del polígono que forman dichos puntos. Las coordenadas de los puntos deben ser rational. En caso de no pasar una lista de puntos rational, devuelve None. Ejemplos:"
   ]
  },
  {
   "cell_type": "code",
   "execution_count": 277,
   "metadata": {
    "collapsed": false
   },
   "outputs": [
    {
     "name": "stdout",
     "output_type": "stream",
     "text": [
      "(3913/2160,4267/3780)\n"
     ]
    }
   ],
   "source": [
    "points=[(rational(4,5),rational(1,2)),(rational(4,2),rational(3,1)),(rational(8,3),rational(3,5)),(rational(7,2),rational(4,5)),\n",
    "        (rational(7,9),rational(4,9)),(rational(9,8),rational(10,7))]\n",
    "point=Simplex.centre(points)\n",
    "print(\"(\"+str(point[0])+\",\"+str(point[1])+\")\")"
   ]
  },
  {
   "cell_type": "code",
   "execution_count": 278,
   "metadata": {
    "collapsed": false
   },
   "outputs": [
    {
     "name": "stdout",
     "output_type": "stream",
     "text": [
      "None\n"
     ]
    }
   ],
   "source": [
    "# Si recibe algo que no es una lista de puntos rational, devuelve None\n",
    "points=[(4.0,5.0),(4.0,3.0),(8.0,5.0),(7.0,4.0),(7.0,9.0),(10.0,4.0)]\n",
    "print(Simplex.centre(points))"
   ]
  },
  {
   "cell_type": "markdown",
   "metadata": {},
   "source": [
    "------"
   ]
  },
  {
   "cell_type": "markdown",
   "metadata": {},
   "source": [
    "### *isThePoint*"
   ]
  },
  {
   "cell_type": "markdown",
   "metadata": {},
   "source": [
    "Este método recibe una lista de puntos, cuyas coordenadas son rational, un valor, que es el cálculo de la distancia al centro, y el centro de los puntos de la lista. El método devuelve el punto de la lista cuya distancia al centro, es el valor introducido. Si ningún punto, cumple la distancia devuelve None. En caso de que los parámetros introducidos no sean correctos(ver ejemplos), devolverá None. Ejemplos:"
   ]
  },
  {
   "cell_type": "code",
   "execution_count": 279,
   "metadata": {
    "collapsed": false
   },
   "outputs": [
    {
     "name": "stdout",
     "output_type": "stream",
     "text": [
      "(9/8,10/7)\n"
     ]
    }
   ],
   "source": [
    "listPoints=[(rational(4,5),rational(1,2)),(rational(4,2),rational(3,1)),(rational(8,3),rational(3,5)),(rational(7,2)\n",
    "        ,rational(4,5)),(rational(7,9),rational(4,9)),(rational(9,8),rational(10,7))]\n",
    "M = (1.811574074074074,1.1288359788359787)\n",
    "value =  2.7299657524245156\n",
    "point=Simplex.isThePoint(listPoints, value, M)\n",
    "print(\"(\"+str(point[0])+\",\"+str(point[1])+\")\")"
   ]
  },
  {
   "cell_type": "code",
   "execution_count": 280,
   "metadata": {
    "collapsed": false,
    "scrolled": true
   },
   "outputs": [
    {
     "name": "stdout",
     "output_type": "stream",
     "text": [
      "None\n"
     ]
    }
   ],
   "source": [
    "# En caso de no recibir una lista de puntos rational, en el primer parámetro, un número en el segundo o una tupla en el tercero, \n",
    "# devuelve None(ver si coge float en el centro)\n",
    "print(Simplex.isThePoint(listPoints, value, 4))"
   ]
  },
  {
   "cell_type": "markdown",
   "metadata": {},
   "source": [
    "------"
   ]
  },
  {
   "cell_type": "markdown",
   "metadata": {},
   "source": [
    "### *calculateOrder*"
   ]
  },
  {
   "cell_type": "markdown",
   "metadata": {},
   "source": [
    "Este método recibe una lista de puntos, cuyas coordenadas son rational, y devuelve la misma lista de puntos, pero ordenadas en sentido horario. En caso de no introducir una lista de rational, devuelve None. Ejemplos:"
   ]
  },
  {
   "cell_type": "code",
   "execution_count": 281,
   "metadata": {
    "collapsed": false
   },
   "outputs": [
    {
     "data": {
      "text/plain": [
       "[(<PySimplex.rational.rational at 0xc9ccd0>,\n",
       "  <PySimplex.rational.rational at 0xc9c8b0>),\n",
       " (<PySimplex.rational.rational at 0xc9c350>,\n",
       "  <PySimplex.rational.rational at 0xc9cfd0>),\n",
       " (<PySimplex.rational.rational at 0xc9c1f0>,\n",
       "  <PySimplex.rational.rational at 0xc9cbd0>),\n",
       " (<PySimplex.rational.rational at 0xc9cbb0>,\n",
       "  <PySimplex.rational.rational at 0xc9c1d0>),\n",
       " (<PySimplex.rational.rational at 0xc9c090>,\n",
       "  <PySimplex.rational.rational at 0xc9c630>),\n",
       " (<PySimplex.rational.rational at 0xc9c210>,\n",
       "  <PySimplex.rational.rational at 0xc9c0f0>)]"
      ]
     },
     "execution_count": 281,
     "metadata": {},
     "output_type": "execute_result"
    }
   ],
   "source": [
    "listPoints=[(rational(4,5),rational(1,2)),(rational(4,2),rational(3,1)),(rational(8,3),rational(3,5)),(rational(7,2),\n",
    "         rational(4,5)), (rational(7,9),rational(4,9)),(rational(9,8),rational(10,7))]\n",
    "Simplex.calculateOrder(listPoints)"
   ]
  },
  {
   "cell_type": "code",
   "execution_count": 282,
   "metadata": {
    "collapsed": false
   },
   "outputs": [
    {
     "name": "stdout",
     "output_type": "stream",
     "text": [
      "None\n"
     ]
    }
   ],
   "source": [
    "# Si recibe algo que no es una lista de puntos con coordenadas rational\n",
    "listPoints=[(4.0,5.0),(4.0,3.0),(8.0,5.0),(7.0,4.0),(7.0,9.0),(10.0,4.0)]\n",
    "print(Simplex.calculateOrder(listPoints))"
   ]
  },
  {
   "cell_type": "markdown",
   "metadata": {},
   "source": [
    "------"
   ]
  },
  {
   "cell_type": "markdown",
   "metadata": {},
   "source": [
    "### *pointIsInALine*"
   ]
  },
  {
   "cell_type": "markdown",
   "metadata": {},
   "source": [
    "Este método recibe un punto en una tupla, una restricción sin signos ni recursos en un array de numpy, y el recurso, como un número. El método devuelve True, si el punto, esta sobre la línea que representa la restricción en el plano, en otro caso devuelve False. En caso de que los parámetros introducidos no sean correctos(ver ejemplos), devolverá None. Ejemplos:"
   ]
  },
  {
   "cell_type": "code",
   "execution_count": 283,
   "metadata": {
    "collapsed": false
   },
   "outputs": [
    {
     "data": {
      "text/plain": [
       "True"
      ]
     },
     "execution_count": 283,
     "metadata": {},
     "output_type": "execute_result"
    }
   ],
   "source": [
    "# Si el punto está en la línea, devuelve True\n",
    "point = (3,4)\n",
    "line = np.array([3,2])\n",
    "resource = 17\n",
    "Simplex.pointIsInALine(point, line, resource)"
   ]
  },
  {
   "cell_type": "code",
   "execution_count": 284,
   "metadata": {
    "collapsed": false
   },
   "outputs": [
    {
     "data": {
      "text/plain": [
       "True"
      ]
     },
     "execution_count": 284,
     "metadata": {},
     "output_type": "execute_result"
    }
   ],
   "source": [
    "# El método funciona con rational\n",
    "point = (rational(3,1),rational(4,2))\n",
    "line = np.array([rational(3,3),rational(2,1)])\n",
    "resource = rational(7,1)\n",
    "Simplex.pointIsInALine(point, line, resource)"
   ]
  },
  {
   "cell_type": "code",
   "execution_count": 285,
   "metadata": {
    "collapsed": false
   },
   "outputs": [
    {
     "data": {
      "text/plain": [
       "False"
      ]
     },
     "execution_count": 285,
     "metadata": {},
     "output_type": "execute_result"
    }
   ],
   "source": [
    "# Si el punto no está en la línea, devuelve False\n",
    "point = (3,4)\n",
    "line = np.array([3,2])\n",
    "resource = 10\n",
    "Simplex.pointIsInALine(point, line, resource)"
   ]
  },
  {
   "cell_type": "code",
   "execution_count": 286,
   "metadata": {
    "collapsed": false
   },
   "outputs": [
    {
     "data": {
      "text/plain": [
       "False"
      ]
     },
     "execution_count": 286,
     "metadata": {},
     "output_type": "execute_result"
    }
   ],
   "source": [
    "# El método no funciona exactamente con float\n",
    "point = (3.0,4.0)\n",
    "line = np.array([3.0,2.0])\n",
    "resource = 17.00001\n",
    "Simplex.pointIsInALine(point, line, resource)"
   ]
  },
  {
   "cell_type": "code",
   "execution_count": 287,
   "metadata": {
    "collapsed": false
   },
   "outputs": [
    {
     "name": "stdout",
     "output_type": "stream",
     "text": [
      "None\n"
     ]
    }
   ],
   "source": [
    "# En caso de no recibir una tupla,en el primer parámetro, un array de numpy en el segundo o un número en el tercero, devuelve \n",
    "# None\n",
    "print(Simplex.pointIsInALine(point, 3, resource))"
   ]
  },
  {
   "cell_type": "markdown",
   "metadata": {},
   "source": [
    "------"
   ]
  },
  {
   "cell_type": "markdown",
   "metadata": {},
   "source": [
    "### *deleteLinePointsOfList*"
   ]
  },
  {
   "cell_type": "markdown",
   "metadata": {},
   "source": [
    "Este método recibe un conjunto de puntos en una lista, un array de numpy con un conjunto de restricciones sin signos, ni recursos, y un array de numpy con los recursos de las restricciones. El método devuelve la lista de puntos, pero sin aquellos puntos que están en la línea que representa alguna de las restricciones introducidas. En caso de que los parámetros introducidos no sean correctos(ver ejemplos), devolverá None. Ejemplos:"
   ]
  },
  {
   "cell_type": "code",
   "execution_count": 288,
   "metadata": {
    "collapsed": false
   },
   "outputs": [
    {
     "data": {
      "text/plain": [
       "[(<PySimplex.rational.rational at 0xcfedf0>,\n",
       "  <PySimplex.rational.rational at 0xd05030>),\n",
       " (<PySimplex.rational.rational at 0xd05050>,\n",
       "  <PySimplex.rational.rational at 0xd05070>),\n",
       " (<PySimplex.rational.rational at 0xd05090>,\n",
       "  <PySimplex.rational.rational at 0xd050b0>)]"
      ]
     },
     "execution_count": 288,
     "metadata": {},
     "output_type": "execute_result"
    }
   ],
   "source": [
    "# Elimina el último punto que está en una línea\n",
    "listPoints=[(rational(3,1),rational(5,7)),(rational(5,8),rational(6,2)),(rational(4,6),rational(8,9)),(rational(8,1),\n",
    "                                                                                                       rational(2,1))]\n",
    "matrix=np.array([[rational(2,1),rational(1,1)],[rational(1,1),rational(-1,1)],[rational(5,1),rational(2,1)]])\n",
    "resources=np.array([rational(18,1),rational(8,1),rational(0,1)])\n",
    "Simplex.deleteLinePointsOfList(listPoints, matrix, resources)"
   ]
  },
  {
   "cell_type": "code",
   "execution_count": 289,
   "metadata": {
    "collapsed": false
   },
   "outputs": [
    {
     "name": "stdout",
     "output_type": "stream",
     "text": [
      "None\n"
     ]
    }
   ],
   "source": [
    "# Si recibe algo que no es una lista de puntos con coordenadas rational,o algo que no es un array de numpy con elementos rational\n",
    "# en el segundo y tercer parámetro,devuelve None\n",
    "print(Simplex.deleteLinePointsOfList(listPoints, 4, resources))"
   ]
  },
  {
   "cell_type": "markdown",
   "metadata": {},
   "source": [
    "------"
   ]
  },
  {
   "cell_type": "markdown",
   "metadata": {},
   "source": [
    "### *showProblemSolution*"
   ]
  },
  {
   "cell_type": "markdown",
   "metadata": {
    "collapsed": true
   },
   "source": [
    "Este método resuelve el problema de programación lineal que se le pasa por parámetro, de manera gráfica. Para ello, recibe una matriz de numpy que contiene las restricciones, sin signos ni recursos, un array de numpy que contiene los recursos, una lista de strings, que contienen los signos de las restricciones, un string que contiene la función en el formato \"max/min 2 -3\" y un valor False o un nombre, que determina si se quiere guardar la imagen en el archivo con el nombre indicado. El método muestra la solución gráfica, siempre que el problema tenga solo 2 variables, en otro caso devuelve None. No es necesario que se introduzca el problema en forma estándar. En caso de que los parámetros introducidos no sean correctos(ver ejemplos), devolverá None. Ejemplos:"
   ]
  },
  {
   "cell_type": "code",
   "execution_count": 290,
   "metadata": {
    "collapsed": false,
    "scrolled": true
   },
   "outputs": [
    {
     "data": {
      "image/png": "[encoded data removed]",
      "text/plain": [
       "<matplotlib.figure.Figure at 0xca2d30>"
      ]
     },
     "metadata": {},
     "output_type": "display_data"
    }
   ],
   "source": [
    "%matplotlib inline\n",
    "matrix=np.matrix([[rational(2,1),rational(1,1)],[rational(1,1),rational(-1,1)],[rational(5,1),rational(2,1)]])\n",
    "resources=np.array([rational(18,1),rational(8,1),rational(0,1)])\n",
    "signs=[\"<=\",\"<=\",\">=\"]\n",
    "function=\"max 2 1\"\n",
    "save= False\n",
    "Simplex.showProblemSolution(matrix, resources, signs, function, save)"
   ]
  },
  {
   "cell_type": "code",
   "execution_count": 291,
   "metadata": {
    "collapsed": false
   },
   "outputs": [
    {
     "name": "stdout",
     "output_type": "stream",
     "text": [
      "None\n"
     ]
    }
   ],
   "source": [
    "# Si el número de signos es diferente a la longitud del vector de recursos o diferente del número de filas de la matriz, \n",
    "# devuelve None\n",
    "matrix=np.matrix([[2,1],[1,-1],[5,2]])\n",
    "resources=np.array([[18],[8]])\n",
    "signs=[\"<=\",\"<=\",\">=\"]\n",
    "function=\"max 2 1\"\n",
    "save=False\n",
    "print(Simplex.showProblemSolution(matrix, resources, signs, function, save))"
   ]
  },
  {
   "cell_type": "code",
   "execution_count": 292,
   "metadata": {
    "collapsed": false
   },
   "outputs": [
    {
     "name": "stdout",
     "output_type": "stream",
     "text": [
      "None\n"
     ]
    }
   ],
   "source": [
    "# Si se pasa por parámetro algo que no es una matriz de numpy en el primer parámetro con elementos rational, algo que no es un \n",
    "# array de numpy con elementos rationalen el segundo,algo que no es una lista de strings en el tercero,algo que no es un string\n",
    "# en el cuarto o algo que no sea False o un string en el quinto,devuelve None\n",
    "\n",
    "matrix=np.matrix([[2,1],[1,-1],[5,2]])\n",
    "resources=np.array([[18],[8],[4]])\n",
    "signs=[\"<=\",\"<=\",\">=\"]\n",
    "function=\"max 2 1\"\n",
    "print(Simplex.showProblemSolution(matrix, resources, signs, function, False))"
   ]
  },
  {
   "cell_type": "markdown",
   "metadata": {},
   "source": [
    "------"
   ]
  }
 ],
 "metadata": {
  "kernelspec": {
   "display_name": "Python 3",
   "language": "python",
   "name": "python3"
  },
  "language_info": {
   "codemirror_mode": {
    "name": "ipython",
    "version": 3
   },
   "file_extension": ".py",
   "mimetype": "text/x-python",
   "name": "python",
   "nbconvert_exporter": "python",
   "pygments_lexer": "ipython3",
   "version": "3.5.2"
  }
 },
 "nbformat": 4,
 "nbformat_minor": 0
}
